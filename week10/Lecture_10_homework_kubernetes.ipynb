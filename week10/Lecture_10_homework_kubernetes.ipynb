{
 "cells": [
  {
   "cell_type": "markdown",
   "id": "1a618732",
   "metadata": {},
   "source": [
    "# Homework\n",
    "\n",
    "In this homework, we'll deploy the churn preduction model from session 5. We already have a docker image for this model - we'll use it for deploying the model to Kubernetes."
   ]
  },
  {
   "cell_type": "markdown",
   "id": "57975d3b",
   "metadata": {},
   "source": [
    "# Building the Image\n",
    "Clone the course repo if you haven't:  ```\n",
    "git clone https://github.com/alexeygrigorev/mlbookcamp-code.git```\n",
    "\n",
    "Go to the ```course-zoomcamp/05-deployment/code``` folder and execute the following: ```\n",
    "docker build -t churn-model:v001 .\n",
    "```"
   ]
  },
  {
   "cell_type": "markdown",
   "id": "82e6fbac",
   "metadata": {},
   "source": [
    "Run it to test that it's working locally:\n",
    "```docker run -it --rm -p 9696:9696 churn-model:v001```"
   ]
  },
  {
   "cell_type": "markdown",
   "id": "f972603c",
   "metadata": {},
   "source": [
    "And in another terminal, execute ```predict-test.py``` file:"
   ]
  },
  {
   "cell_type": "markdown",
   "id": "1f80130f",
   "metadata": {},
   "source": [
    "Output: ```{'churn': False, 'churn_probability': 0.3257561103397851}\n",
    "not sending promo email to xyz-123```\n",
    "\n",
    "Test worked\n",
    "\n",
    "Now you can stop the container running in Docker."
   ]
  },
  {
   "cell_type": "markdown",
   "id": "3ff3709c",
   "metadata": {},
   "source": [
    "# Installing kubectl and kind\n",
    "\n",
    "* kubectl - https://kubernetes.io/docs/tasks/tools/ (you might already have it - check before installing)\n",
    "* kind - https://kind.sigs.k8s.io/docs/user/quick-start/"
   ]
  },
  {
   "cell_type": "markdown",
   "id": "3176a135",
   "metadata": {},
   "source": [
    "# Quesion 1: Version of kind\n",
    "\n",
    "What's the version of kind that you have?\n",
    "\n",
    "Use ```kind --version``` to find out."
   ]
  },
  {
   "cell_type": "markdown",
   "id": "e260a611",
   "metadata": {},
   "source": [
    "**Answer:** kind version 0.12.0"
   ]
  },
  {
   "cell_type": "markdown",
   "id": "e6a8c874",
   "metadata": {},
   "source": [
    "# Creating a Cluster\n",
    "\n",
    "Now let's create a cluster with kind:\n",
    "\n",
    "```kind create cluster```"
   ]
  },
  {
   "cell_type": "markdown",
   "id": "812a6e5e",
   "metadata": {},
   "source": [
    "# Question 2: Verifying that everything works\n",
    "Now let's test if everything works. Use ```kubectl``` to get the list of running services.\n",
    "\n",
    "What's ```CLUSTER-IP``` of the service that is already running there?"
   ]
  },
  {
   "cell_type": "markdown",
   "id": "cd132ca2",
   "metadata": {},
   "source": [
    "**Answer:** 10.96.0.1"
   ]
  },
  {
   "cell_type": "markdown",
   "id": "a99aa2b3",
   "metadata": {},
   "source": [
    "# Question 3: Uploading the image to kind\n",
    "\n",
    "To be able to use the docker image we previously created (churn-model:v001), we need to register it with kind.\n",
    "\n",
    "What's the command we need to run for that?"
   ]
  },
  {
   "cell_type": "markdown",
   "id": "898a9547",
   "metadata": {},
   "source": [
    "**Answer:** kind load docker-image ```churn-model:v001```"
   ]
  },
  {
   "cell_type": "markdown",
   "id": "536ca72d",
   "metadata": {},
   "source": [
    "# Question 4: Creating a deployment\n",
    "\n",
    "Now let's create a deployment (e.g. ```deployment.yaml```):\n",
    "\n",
    "```\n",
    "apiVersion: apps/v1\n",
    "kind: Deployment\n",
    "metadata:\n",
    "  name: churn\n",
    "spec:\n",
    "  selector:\n",
    "    matchLabels:\n",
    "      app: churn\n",
    "  template:\n",
    "    metadata:\n",
    "      labels:\n",
    "        app: churn\n",
    "    spec:\n",
    "      containers:\n",
    "      - name: churn\n",
    "        image: <Image>\n",
    "        resources:\n",
    "          limits:\n",
    "            memory: \"128Mi\"\n",
    "            cpu: \"500m\"\n",
    "        ports:\n",
    "        - containerPort: <Port>\n",
    "```"
   ]
  },
  {
   "cell_type": "markdown",
   "id": "5828fdab",
   "metadata": {},
   "source": [
    "**Answer:** The port is ```9696``` and the image is ```churn-model:v001```"
   ]
  },
  {
   "cell_type": "markdown",
   "id": "b27605d4",
   "metadata": {},
   "source": [
    "# Question 5: Pod name\n",
    "\n",
    "Apply this deployment:"
   ]
  },
  {
   "cell_type": "markdown",
   "id": "2d912d67",
   "metadata": {},
   "source": [
    "```kubectl apply -f deployment.yaml```"
   ]
  },
  {
   "cell_type": "markdown",
   "id": "30522285",
   "metadata": {},
   "source": [
    "Now get a list of running pods. What's the name of the pod that just started?"
   ]
  },
  {
   "cell_type": "markdown",
   "id": "27ea9226",
   "metadata": {},
   "source": [
    "**Answer:** Use ```kubectl get pods```. The name is ```churn-5f694c8bbb-4vjxr```"
   ]
  },
  {
   "cell_type": "markdown",
   "id": "b98b9f51",
   "metadata": {},
   "source": [
    "# Question 6: Creating a service\n",
    "\n",
    "Let's create a service for this deployment (```service.yaml```):"
   ]
  },
  {
   "cell_type": "markdown",
   "id": "f7fefc3f",
   "metadata": {},
   "source": [
    "```\n",
    "apiVersion: v1\n",
    "kind: Service\n",
    "metadata:\n",
    "  name: <Service name>\n",
    "spec:\n",
    "  type: LoadBalancer\n",
    "  selector:\n",
    "    app: <???>\n",
    "  ports:\n",
    "  - port: 80\n",
    "    targetPort: <PORT>\n",
    "```"
   ]
  },
  {
   "cell_type": "markdown",
   "id": "56810c21",
   "metadata": {},
   "source": [
    "**Answer:**\n",
    "* ```<Service name> = churn```\n",
    "* ```<???> = churn```\n",
    "* ```<PORT> = 9696```"
   ]
  },
  {
   "cell_type": "markdown",
   "id": "19237d40",
   "metadata": {},
   "source": [
    "Apply the config file: ```kubectl apply -f service.yaml```"
   ]
  },
  {
   "cell_type": "markdown",
   "id": "971541f8",
   "metadata": {},
   "source": [
    "# Testing the service locally\n",
    "\n",
    "We can do it by forwarding the 9696 port on our computer to the port 80 on the service:"
   ]
  },
  {
   "cell_type": "markdown",
   "id": "fd82c521",
   "metadata": {},
   "source": [
    "```kubectl port-forward service/churn 9696:80```"
   ]
  },
  {
   "cell_type": "markdown",
   "id": "dfb97f08",
   "metadata": {},
   "source": [
    "Run ```predict-test.py``` from session 5 to verify that everything is working."
   ]
  },
  {
   "cell_type": "markdown",
   "id": "d0adcf7e",
   "metadata": {},
   "source": [
    "Output: ```{'churn': False, 'churn_probability': 0.469135109804453}```"
   ]
  },
  {
   "cell_type": "code",
   "execution_count": null,
   "id": "ee56a9b3",
   "metadata": {},
   "outputs": [],
   "source": []
  }
 ],
 "metadata": {
  "kernelspec": {
   "display_name": "Python 3",
   "language": "python",
   "name": "python3"
  },
  "language_info": {
   "codemirror_mode": {
    "name": "ipython",
    "version": 3
   },
   "file_extension": ".py",
   "mimetype": "text/x-python",
   "name": "python",
   "nbconvert_exporter": "python",
   "pygments_lexer": "ipython3",
   "version": "3.9.7"
  }
 },
 "nbformat": 4,
 "nbformat_minor": 5
}
