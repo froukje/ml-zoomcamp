{
 "cells": [
  {
   "cell_type": "markdown",
   "id": "13855c3f",
   "metadata": {},
   "source": [
    "* Communicate with a model using tf-serving\n",
    "* Use protobuf to build a request"
   ]
  },
  {
   "cell_type": "code",
   "execution_count": 1,
   "id": "723a3b3f",
   "metadata": {},
   "outputs": [
    {
     "name": "stdout",
     "output_type": "stream",
     "text": [
      "Requirement already satisfied: grpcio==1.42.0 in /home/frauke/anaconda3/envs/ml-zoomcamp/lib/python3.9/site-packages (1.42.0)\n",
      "Requirement already satisfied: tensorflow-serving-api==2.7.0 in /home/frauke/anaconda3/envs/ml-zoomcamp/lib/python3.9/site-packages (2.7.0)\n",
      "Requirement already satisfied: six>=1.5.2 in /home/frauke/anaconda3/envs/ml-zoomcamp/lib/python3.9/site-packages (from grpcio==1.42.0) (1.16.0)\n",
      "Requirement already satisfied: protobuf>=3.6.0 in /home/frauke/anaconda3/envs/ml-zoomcamp/lib/python3.9/site-packages (from tensorflow-serving-api==2.7.0) (3.17.2)\n",
      "Requirement already satisfied: tensorflow<3,>=2.7.0 in /home/frauke/anaconda3/envs/ml-zoomcamp/lib/python3.9/site-packages (from tensorflow-serving-api==2.7.0) (2.8.0)\n",
      "Requirement already satisfied: tensorboard<2.9,>=2.8 in /home/frauke/anaconda3/envs/ml-zoomcamp/lib/python3.9/site-packages (from tensorflow<3,>=2.7.0->tensorflow-serving-api==2.7.0) (2.8.0)\n",
      "Requirement already satisfied: flatbuffers>=1.12 in /home/frauke/anaconda3/envs/ml-zoomcamp/lib/python3.9/site-packages (from tensorflow<3,>=2.7.0->tensorflow-serving-api==2.7.0) (2.0)\n",
      "Requirement already satisfied: tensorflow-io-gcs-filesystem>=0.23.1 in /home/frauke/anaconda3/envs/ml-zoomcamp/lib/python3.9/site-packages (from tensorflow<3,>=2.7.0->tensorflow-serving-api==2.7.0) (0.25.0)\n",
      "Requirement already satisfied: termcolor>=1.1.0 in /home/frauke/anaconda3/envs/ml-zoomcamp/lib/python3.9/site-packages (from tensorflow<3,>=2.7.0->tensorflow-serving-api==2.7.0) (1.1.0)\n",
      "Requirement already satisfied: h5py>=2.9.0 in /home/frauke/anaconda3/envs/ml-zoomcamp/lib/python3.9/site-packages (from tensorflow<3,>=2.7.0->tensorflow-serving-api==2.7.0) (2.10.0)\n",
      "Requirement already satisfied: keras-preprocessing>=1.1.1 in /home/frauke/anaconda3/envs/ml-zoomcamp/lib/python3.9/site-packages (from tensorflow<3,>=2.7.0->tensorflow-serving-api==2.7.0) (1.1.2)\n",
      "Requirement already satisfied: wrapt>=1.11.0 in /home/frauke/anaconda3/envs/ml-zoomcamp/lib/python3.9/site-packages (from tensorflow<3,>=2.7.0->tensorflow-serving-api==2.7.0) (1.12.1)\n",
      "Requirement already satisfied: google-pasta>=0.1.1 in /home/frauke/anaconda3/envs/ml-zoomcamp/lib/python3.9/site-packages (from tensorflow<3,>=2.7.0->tensorflow-serving-api==2.7.0) (0.2.0)\n",
      "Requirement already satisfied: setuptools in /home/frauke/anaconda3/envs/ml-zoomcamp/lib/python3.9/site-packages (from tensorflow<3,>=2.7.0->tensorflow-serving-api==2.7.0) (58.0.4)\n",
      "Requirement already satisfied: gast>=0.2.1 in /home/frauke/anaconda3/envs/ml-zoomcamp/lib/python3.9/site-packages (from tensorflow<3,>=2.7.0->tensorflow-serving-api==2.7.0) (0.4.0)\n",
      "Requirement already satisfied: astunparse>=1.6.0 in /home/frauke/anaconda3/envs/ml-zoomcamp/lib/python3.9/site-packages (from tensorflow<3,>=2.7.0->tensorflow-serving-api==2.7.0) (1.6.3)\n",
      "Requirement already satisfied: keras<2.9,>=2.8.0rc0 in /home/frauke/anaconda3/envs/ml-zoomcamp/lib/python3.9/site-packages (from tensorflow<3,>=2.7.0->tensorflow-serving-api==2.7.0) (2.8.0)\n",
      "Requirement already satisfied: absl-py>=0.4.0 in /home/frauke/anaconda3/envs/ml-zoomcamp/lib/python3.9/site-packages (from tensorflow<3,>=2.7.0->tensorflow-serving-api==2.7.0) (1.0.0)\n",
      "Requirement already satisfied: typing-extensions>=3.6.6 in /home/frauke/anaconda3/envs/ml-zoomcamp/lib/python3.9/site-packages (from tensorflow<3,>=2.7.0->tensorflow-serving-api==2.7.0) (4.1.1)\n",
      "Requirement already satisfied: opt-einsum>=2.3.2 in /home/frauke/anaconda3/envs/ml-zoomcamp/lib/python3.9/site-packages (from tensorflow<3,>=2.7.0->tensorflow-serving-api==2.7.0) (3.3.0)\n",
      "Requirement already satisfied: numpy>=1.20 in /home/frauke/anaconda3/envs/ml-zoomcamp/lib/python3.9/site-packages (from tensorflow<3,>=2.7.0->tensorflow-serving-api==2.7.0) (1.21.2)\n",
      "Requirement already satisfied: tf-estimator-nightly==2.8.0.dev2021122109 in /home/frauke/anaconda3/envs/ml-zoomcamp/lib/python3.9/site-packages (from tensorflow<3,>=2.7.0->tensorflow-serving-api==2.7.0) (2.8.0.dev2021122109)\n",
      "Requirement already satisfied: libclang>=9.0.1 in /home/frauke/anaconda3/envs/ml-zoomcamp/lib/python3.9/site-packages (from tensorflow<3,>=2.7.0->tensorflow-serving-api==2.7.0) (14.0.1)\n",
      "Requirement already satisfied: wheel<1.0,>=0.23.0 in /home/frauke/anaconda3/envs/ml-zoomcamp/lib/python3.9/site-packages (from astunparse>=1.6.0->tensorflow<3,>=2.7.0->tensorflow-serving-api==2.7.0) (0.37.1)\n",
      "Requirement already satisfied: requests<3,>=2.21.0 in /home/frauke/anaconda3/envs/ml-zoomcamp/lib/python3.9/site-packages (from tensorboard<2.9,>=2.8->tensorflow<3,>=2.7.0->tensorflow-serving-api==2.7.0) (2.27.1)\n",
      "Requirement already satisfied: google-auth<3,>=1.6.3 in /home/frauke/anaconda3/envs/ml-zoomcamp/lib/python3.9/site-packages (from tensorboard<2.9,>=2.8->tensorflow<3,>=2.7.0->tensorflow-serving-api==2.7.0) (2.6.3)\n",
      "Requirement already satisfied: werkzeug>=0.11.15 in /home/frauke/anaconda3/envs/ml-zoomcamp/lib/python3.9/site-packages (from tensorboard<2.9,>=2.8->tensorflow<3,>=2.7.0->tensorflow-serving-api==2.7.0) (2.0.3)\n",
      "Requirement already satisfied: tensorboard-data-server<0.7.0,>=0.6.0 in /home/frauke/anaconda3/envs/ml-zoomcamp/lib/python3.9/site-packages (from tensorboard<2.9,>=2.8->tensorflow<3,>=2.7.0->tensorflow-serving-api==2.7.0) (0.6.0)\n",
      "Requirement already satisfied: markdown>=2.6.8 in /home/frauke/anaconda3/envs/ml-zoomcamp/lib/python3.9/site-packages (from tensorboard<2.9,>=2.8->tensorflow<3,>=2.7.0->tensorflow-serving-api==2.7.0) (3.3.6)\n",
      "Requirement already satisfied: tensorboard-plugin-wit>=1.6.0 in /home/frauke/anaconda3/envs/ml-zoomcamp/lib/python3.9/site-packages (from tensorboard<2.9,>=2.8->tensorflow<3,>=2.7.0->tensorflow-serving-api==2.7.0) (1.8.1)\n",
      "Requirement already satisfied: google-auth-oauthlib<0.5,>=0.4.1 in /home/frauke/anaconda3/envs/ml-zoomcamp/lib/python3.9/site-packages (from tensorboard<2.9,>=2.8->tensorflow<3,>=2.7.0->tensorflow-serving-api==2.7.0) (0.4.6)\n",
      "Requirement already satisfied: rsa<5,>=3.1.4 in /home/frauke/anaconda3/envs/ml-zoomcamp/lib/python3.9/site-packages (from google-auth<3,>=1.6.3->tensorboard<2.9,>=2.8->tensorflow<3,>=2.7.0->tensorflow-serving-api==2.7.0) (4.8)\n",
      "Requirement already satisfied: cachetools<6.0,>=2.0.0 in /home/frauke/anaconda3/envs/ml-zoomcamp/lib/python3.9/site-packages (from google-auth<3,>=1.6.3->tensorboard<2.9,>=2.8->tensorflow<3,>=2.7.0->tensorflow-serving-api==2.7.0) (5.0.0)\n",
      "Requirement already satisfied: pyasn1-modules>=0.2.1 in /home/frauke/anaconda3/envs/ml-zoomcamp/lib/python3.9/site-packages (from google-auth<3,>=1.6.3->tensorboard<2.9,>=2.8->tensorflow<3,>=2.7.0->tensorflow-serving-api==2.7.0) (0.2.7)\n",
      "Requirement already satisfied: requests-oauthlib>=0.7.0 in /home/frauke/anaconda3/envs/ml-zoomcamp/lib/python3.9/site-packages (from google-auth-oauthlib<0.5,>=0.4.1->tensorboard<2.9,>=2.8->tensorflow<3,>=2.7.0->tensorflow-serving-api==2.7.0) (1.3.1)\n",
      "Requirement already satisfied: importlib-metadata>=4.4 in /home/frauke/anaconda3/envs/ml-zoomcamp/lib/python3.9/site-packages (from markdown>=2.6.8->tensorboard<2.9,>=2.8->tensorflow<3,>=2.7.0->tensorflow-serving-api==2.7.0) (4.10.0)\n",
      "Requirement already satisfied: zipp>=0.5 in /home/frauke/anaconda3/envs/ml-zoomcamp/lib/python3.9/site-packages (from importlib-metadata>=4.4->markdown>=2.6.8->tensorboard<2.9,>=2.8->tensorflow<3,>=2.7.0->tensorflow-serving-api==2.7.0) (3.7.0)\n",
      "Requirement already satisfied: pyasn1<0.5.0,>=0.4.6 in /home/frauke/anaconda3/envs/ml-zoomcamp/lib/python3.9/site-packages (from pyasn1-modules>=0.2.1->google-auth<3,>=1.6.3->tensorboard<2.9,>=2.8->tensorflow<3,>=2.7.0->tensorflow-serving-api==2.7.0) (0.4.8)\n",
      "Requirement already satisfied: certifi>=2017.4.17 in /home/frauke/anaconda3/envs/ml-zoomcamp/lib/python3.9/site-packages (from requests<3,>=2.21.0->tensorboard<2.9,>=2.8->tensorflow<3,>=2.7.0->tensorflow-serving-api==2.7.0) (2021.10.8)\n",
      "Requirement already satisfied: urllib3<1.27,>=1.21.1 in /home/frauke/anaconda3/envs/ml-zoomcamp/lib/python3.9/site-packages (from requests<3,>=2.21.0->tensorboard<2.9,>=2.8->tensorflow<3,>=2.7.0->tensorflow-serving-api==2.7.0) (1.26.8)\n",
      "Requirement already satisfied: charset-normalizer~=2.0.0 in /home/frauke/anaconda3/envs/ml-zoomcamp/lib/python3.9/site-packages (from requests<3,>=2.21.0->tensorboard<2.9,>=2.8->tensorflow<3,>=2.7.0->tensorflow-serving-api==2.7.0) (2.0.10)\n",
      "Requirement already satisfied: idna<4,>=2.5 in /home/frauke/anaconda3/envs/ml-zoomcamp/lib/python3.9/site-packages (from requests<3,>=2.21.0->tensorboard<2.9,>=2.8->tensorflow<3,>=2.7.0->tensorflow-serving-api==2.7.0) (3.1)\n"
     ]
    },
    {
     "name": "stdout",
     "output_type": "stream",
     "text": [
      "Requirement already satisfied: oauthlib>=3.0.0 in /home/frauke/anaconda3/envs/ml-zoomcamp/lib/python3.9/site-packages (from requests-oauthlib>=0.7.0->google-auth-oauthlib<0.5,>=0.4.1->tensorboard<2.9,>=2.8->tensorflow<3,>=2.7.0->tensorflow-serving-api==2.7.0) (3.2.0)\r\n"
     ]
    }
   ],
   "source": [
    "!pip install grpcio==1.42.0 tensorflow-serving-api==2.7.0"
   ]
  },
  {
   "cell_type": "code",
   "execution_count": 2,
   "id": "101c9294",
   "metadata": {},
   "outputs": [
    {
     "name": "stdout",
     "output_type": "stream",
     "text": [
      "Requirement already satisfied: keras-image-helper in /home/frauke/anaconda3/envs/ml-zoomcamp/lib/python3.9/site-packages (0.0.1)\r\n",
      "Requirement already satisfied: pillow in /home/frauke/anaconda3/envs/ml-zoomcamp/lib/python3.9/site-packages (from keras-image-helper) (9.0.1)\r\n",
      "Requirement already satisfied: numpy in /home/frauke/anaconda3/envs/ml-zoomcamp/lib/python3.9/site-packages (from keras-image-helper) (1.21.2)\r\n"
     ]
    }
   ],
   "source": [
    "!pip install keras-image-helper"
   ]
  },
  {
   "cell_type": "code",
   "execution_count": 3,
   "id": "59b72000",
   "metadata": {},
   "outputs": [],
   "source": [
    "import grpc\n",
    "import tensorflow as tf\n",
    "from tensorflow_serving.apis import predict_pb2\n",
    "from tensorflow_serving.apis import prediction_service_pb2_grpc\n",
    "from keras_image_helper import create_preprocessor"
   ]
  },
  {
   "cell_type": "code",
   "execution_count": 4,
   "id": "d50ac486",
   "metadata": {},
   "outputs": [],
   "source": [
    "host = 'localhost:8500' # this is where our tf-serving is running\n",
    "\n",
    "channel = grpc.insecure_channel(host)\n",
    "# use this channel to connest to our predictcion service\n",
    "stub = prediction_service_pb2_grpc.PredictionServiceStub(channel)"
   ]
  },
  {
   "cell_type": "code",
   "execution_count": 5,
   "id": "2a1801c0",
   "metadata": {},
   "outputs": [
    {
     "data": {
      "text/plain": [
       "<tensorflow_serving.apis.prediction_service_pb2_grpc.PredictionServiceStub at 0x7f89185cda00>"
      ]
     },
     "execution_count": 5,
     "metadata": {},
     "output_type": "execute_result"
    }
   ],
   "source": [
    "stub"
   ]
  },
  {
   "cell_type": "code",
   "execution_count": 6,
   "id": "5f48ae5a",
   "metadata": {},
   "outputs": [],
   "source": [
    "preprocessor = create_preprocessor('xception', target_size=(299, 299))"
   ]
  },
  {
   "cell_type": "code",
   "execution_count": 7,
   "id": "fa31f697",
   "metadata": {},
   "outputs": [
    {
     "data": {
      "text/plain": [
       "array([[[[-0.11372548, -0.15294117, -0.19999999],\n",
       "         [-0.11372548, -0.15294117, -0.19999999],\n",
       "         [-0.10588235, -0.14509803, -0.19215685],\n",
       "         ...,\n",
       "         [-0.01960784, -0.01960784, -0.08235294],\n",
       "         [-0.04313725, -0.04313725, -0.10588235],\n",
       "         [-0.11372548, -0.11372548, -0.17647058]],\n",
       "\n",
       "        [[-0.09019607, -0.12941176, -0.17647058],\n",
       "         [-0.09019607, -0.12941176, -0.17647058],\n",
       "         [-0.08235294, -0.12156862, -0.16862744],\n",
       "         ...,\n",
       "         [-0.01960784, -0.01960784, -0.08235294],\n",
       "         [-0.04313725, -0.04313725, -0.10588235],\n",
       "         [-0.10588235, -0.10588235, -0.16862744]],\n",
       "\n",
       "        [[-0.09803921, -0.1372549 , -0.18431371],\n",
       "         [-0.09803921, -0.1372549 , -0.18431371],\n",
       "         [-0.09019607, -0.12941176, -0.17647058],\n",
       "         ...,\n",
       "         [-0.01960784, -0.01960784, -0.08235294],\n",
       "         [-0.03529412, -0.03529412, -0.09803921],\n",
       "         [-0.09019607, -0.09019607, -0.15294117]],\n",
       "\n",
       "        ...,\n",
       "\n",
       "        [[-0.67058825, -0.7019608 , -0.7254902 ],\n",
       "         [-0.6862745 , -0.7176471 , -0.7411765 ],\n",
       "         [-0.70980394, -0.7411765 , -0.7647059 ],\n",
       "         ...,\n",
       "         [-0.62352943, -0.84313726, -0.9529412 ],\n",
       "         [-0.6313726 , -0.8509804 , -0.9607843 ],\n",
       "         [-0.6392157 , -0.85882354, -0.96862745]],\n",
       "\n",
       "        [[-0.52156866, -0.5529412 , -0.5764706 ],\n",
       "         [-0.52156866, -0.5529412 , -0.5764706 ],\n",
       "         [-0.5137255 , -0.54509807, -0.5686275 ],\n",
       "         ...,\n",
       "         [-0.5921569 , -0.8117647 , -0.92156863],\n",
       "         [-0.6       , -0.81960785, -0.92941177],\n",
       "         [-0.60784316, -0.827451  , -0.9372549 ]],\n",
       "\n",
       "        [[-0.62352943, -0.654902  , -0.6784314 ],\n",
       "         [-0.6156863 , -0.64705884, -0.67058825],\n",
       "         [-0.60784316, -0.6392157 , -0.6627451 ],\n",
       "         ...,\n",
       "         [-0.5686275 , -0.79607844, -0.90588236],\n",
       "         [-0.5764706 , -0.8039216 , -0.9137255 ],\n",
       "         [-0.58431375, -0.8117647 , -0.92156863]]]], dtype=float32)"
      ]
     },
     "execution_count": 7,
     "metadata": {},
     "output_type": "execute_result"
    }
   ],
   "source": [
    "url = \"http://bit.ly/mlbookcamp-pants\"\n",
    "X = preprocessor.from_url(url)\n",
    "X"
   ]
  },
  {
   "cell_type": "code",
   "execution_count": 8,
   "id": "41451fae",
   "metadata": {},
   "outputs": [
    {
     "data": {
      "text/plain": [
       "(1, 299, 299, 3)"
      ]
     },
     "execution_count": 8,
     "metadata": {},
     "output_type": "execute_result"
    }
   ],
   "source": [
    "X.shape"
   ]
  },
  {
   "cell_type": "markdown",
   "id": "e8919b93",
   "metadata": {},
   "source": [
    "Now we want to send X to our prediction service"
   ]
  },
  {
   "cell_type": "code",
   "execution_count": 13,
   "id": "7f16bdcd",
   "metadata": {},
   "outputs": [],
   "source": [
    "def np_to_protobuf(data):\n",
    "    '''turns np-array to protobuf'''\n",
    "    return tf.make_tensor_proto(data, shape=data.shape)"
   ]
  },
  {
   "cell_type": "code",
   "execution_count": 14,
   "id": "d06db986",
   "metadata": {},
   "outputs": [],
   "source": [
    "# request object to send to tf serving model\n",
    "pb_request = predict_pb2.PredictRequest() # more robust than json\n",
    "pb_request.model_spec.name = 'clothing-model'\n",
    "pb_request.model_spec.signature_name = 'serving_default'\n",
    "pb_request.inputs['input_13'].CopyFrom(np_to_protobuf(X))"
   ]
  },
  {
   "cell_type": "markdown",
   "id": "32f20a6b",
   "metadata": {},
   "source": [
    "Now the request is prepared, we will execute it now."
   ]
  },
  {
   "cell_type": "code",
   "execution_count": 15,
   "id": "1ab96628",
   "metadata": {},
   "outputs": [],
   "source": [
    "pb_response = stub.Predict(pb_request, timeout=20.0)"
   ]
  },
  {
   "cell_type": "code",
   "execution_count": 16,
   "id": "1433c8c5",
   "metadata": {},
   "outputs": [
    {
     "data": {
      "text/plain": [
       "outputs {\n",
       "  key: \"dense_7\"\n",
       "  value {\n",
       "    dtype: DT_FLOAT\n",
       "    tensor_shape {\n",
       "      dim {\n",
       "        size: 1\n",
       "      }\n",
       "      dim {\n",
       "        size: 10\n",
       "      }\n",
       "    }\n",
       "    float_val: -1.2789721488952637\n",
       "    float_val: -4.017117500305176\n",
       "    float_val: 0.13038446009159088\n",
       "    float_val: 1.3974616527557373\n",
       "    float_val: 8.70844554901123\n",
       "    float_val: -0.6520311832427979\n",
       "    float_val: -5.029510974884033\n",
       "    float_val: 2.9917054176330566\n",
       "    float_val: -0.3883972764015198\n",
       "    float_val: -2.4756569862365723\n",
       "  }\n",
       "}\n",
       "model_spec {\n",
       "  name: \"clothing-model\"\n",
       "  version {\n",
       "    value: 1\n",
       "  }\n",
       "  signature_name: \"serving_default\"\n",
       "}"
      ]
     },
     "execution_count": 16,
     "metadata": {},
     "output_type": "execute_result"
    }
   ],
   "source": [
    "pb_response"
   ]
  },
  {
   "cell_type": "code",
   "execution_count": 17,
   "id": "f11af3e8",
   "metadata": {},
   "outputs": [
    {
     "data": {
      "text/plain": [
       "[-1.2789721488952637, -4.017117500305176, 0.13038446009159088, 1.3974616527557373, 8.70844554901123, -0.6520311832427979, -5.029510974884033, 2.9917054176330566, -0.3883972764015198, -2.4756569862365723]"
      ]
     },
     "execution_count": 17,
     "metadata": {},
     "output_type": "execute_result"
    }
   ],
   "source": [
    "# extract prediction values\n",
    "preds = pb_response.outputs['dense_7'].float_val\n",
    "preds"
   ]
  },
  {
   "cell_type": "code",
   "execution_count": 18,
   "id": "82ec9d02",
   "metadata": {},
   "outputs": [],
   "source": [
    "classes = ['dress', 'hat', 'longsleeve', 'outwear', 'pants', 'shirt', 'shoes', 'shorts', 'skirt', 't-shirt']"
   ]
  },
  {
   "cell_type": "code",
   "execution_count": 19,
   "id": "201b5d04",
   "metadata": {},
   "outputs": [
    {
     "data": {
      "text/plain": [
       "{'dress': -1.2789721488952637,\n",
       " 'hat': -4.017117500305176,\n",
       " 'longsleeve': 0.13038446009159088,\n",
       " 'outwear': 1.3974616527557373,\n",
       " 'pants': 8.70844554901123,\n",
       " 'shirt': -0.6520311832427979,\n",
       " 'shoes': -5.029510974884033,\n",
       " 'shorts': 2.9917054176330566,\n",
       " 'skirt': -0.3883972764015198,\n",
       " 't-shirt': -2.4756569862365723}"
      ]
     },
     "execution_count": 19,
     "metadata": {},
     "output_type": "execute_result"
    }
   ],
   "source": [
    "dict(zip(classes, preds))"
   ]
  },
  {
   "cell_type": "code",
   "execution_count": null,
   "id": "13fe0d9b",
   "metadata": {},
   "outputs": [],
   "source": []
  }
 ],
 "metadata": {
  "kernelspec": {
   "display_name": "Python 3",
   "language": "python",
   "name": "python3"
  },
  "language_info": {
   "codemirror_mode": {
    "name": "ipython",
    "version": 3
   },
   "file_extension": ".py",
   "mimetype": "text/x-python",
   "name": "python",
   "nbconvert_exporter": "python",
   "pygments_lexer": "ipython3",
   "version": "3.9.7"
  }
 },
 "nbformat": 4,
 "nbformat_minor": 5
}
