{
 "cells": [
  {
   "cell_type": "markdown",
   "id": "9c167895-9b7d-42a1-9921-6aae230abb2a",
   "metadata": {},
   "source": [
    "# Homework for week 2\n",
    "\n",
    "**Data:** In this homework, we will use the New York City Airbnb Open Data from [kaggle](https://www.kaggle.com/dgomonov/new-york-city-airbnb-open-data?select=AB_NYC_2019.csv)\n",
    "\n",
    "**Objective:** The goal of this homework is to create a regression model for prediction apartment prices (column 'price').\n",
    "\n",
    "## Setup"
   ]
  },
  {
   "cell_type": "code",
   "execution_count": 106,
   "id": "c32d9284-7f1f-4dff-9153-955d8800b498",
   "metadata": {},
   "outputs": [],
   "source": [
    "import pandas as pd\n",
    "import numpy as np\n",
    "import matplotlib.pyplot as plt\n",
    "import seaborn as sns"
   ]
  },
  {
   "cell_type": "markdown",
   "id": "5508cd83-4bce-41be-8085-f54781558a46",
   "metadata": {},
   "source": [
    "## Read Data"
   ]
  },
  {
   "cell_type": "code",
   "execution_count": 107,
   "id": "f70ab896-7522-4292-a257-6616f4a46b18",
   "metadata": {},
   "outputs": [
    {
     "data": {
      "text/html": [
       "<div>\n",
       "<style scoped>\n",
       "    .dataframe tbody tr th:only-of-type {\n",
       "        vertical-align: middle;\n",
       "    }\n",
       "\n",
       "    .dataframe tbody tr th {\n",
       "        vertical-align: top;\n",
       "    }\n",
       "\n",
       "    .dataframe thead th {\n",
       "        text-align: right;\n",
       "    }\n",
       "</style>\n",
       "<table border=\"1\" class=\"dataframe\">\n",
       "  <thead>\n",
       "    <tr style=\"text-align: right;\">\n",
       "      <th></th>\n",
       "      <th>id</th>\n",
       "      <th>name</th>\n",
       "      <th>host_id</th>\n",
       "      <th>host_name</th>\n",
       "      <th>neighbourhood_group</th>\n",
       "      <th>neighbourhood</th>\n",
       "      <th>latitude</th>\n",
       "      <th>longitude</th>\n",
       "      <th>room_type</th>\n",
       "      <th>price</th>\n",
       "      <th>minimum_nights</th>\n",
       "      <th>number_of_reviews</th>\n",
       "      <th>last_review</th>\n",
       "      <th>reviews_per_month</th>\n",
       "      <th>calculated_host_listings_count</th>\n",
       "      <th>availability_365</th>\n",
       "    </tr>\n",
       "  </thead>\n",
       "  <tbody>\n",
       "    <tr>\n",
       "      <th>0</th>\n",
       "      <td>2539</td>\n",
       "      <td>Clean &amp; quiet apt home by the park</td>\n",
       "      <td>2787</td>\n",
       "      <td>John</td>\n",
       "      <td>Brooklyn</td>\n",
       "      <td>Kensington</td>\n",
       "      <td>40.64749</td>\n",
       "      <td>-73.97237</td>\n",
       "      <td>Private room</td>\n",
       "      <td>149</td>\n",
       "      <td>1</td>\n",
       "      <td>9</td>\n",
       "      <td>2018-10-19</td>\n",
       "      <td>0.21</td>\n",
       "      <td>6</td>\n",
       "      <td>365</td>\n",
       "    </tr>\n",
       "    <tr>\n",
       "      <th>1</th>\n",
       "      <td>2595</td>\n",
       "      <td>Skylit Midtown Castle</td>\n",
       "      <td>2845</td>\n",
       "      <td>Jennifer</td>\n",
       "      <td>Manhattan</td>\n",
       "      <td>Midtown</td>\n",
       "      <td>40.75362</td>\n",
       "      <td>-73.98377</td>\n",
       "      <td>Entire home/apt</td>\n",
       "      <td>225</td>\n",
       "      <td>1</td>\n",
       "      <td>45</td>\n",
       "      <td>2019-05-21</td>\n",
       "      <td>0.38</td>\n",
       "      <td>2</td>\n",
       "      <td>355</td>\n",
       "    </tr>\n",
       "    <tr>\n",
       "      <th>2</th>\n",
       "      <td>3647</td>\n",
       "      <td>THE VILLAGE OF HARLEM....NEW YORK !</td>\n",
       "      <td>4632</td>\n",
       "      <td>Elisabeth</td>\n",
       "      <td>Manhattan</td>\n",
       "      <td>Harlem</td>\n",
       "      <td>40.80902</td>\n",
       "      <td>-73.94190</td>\n",
       "      <td>Private room</td>\n",
       "      <td>150</td>\n",
       "      <td>3</td>\n",
       "      <td>0</td>\n",
       "      <td>NaN</td>\n",
       "      <td>NaN</td>\n",
       "      <td>1</td>\n",
       "      <td>365</td>\n",
       "    </tr>\n",
       "    <tr>\n",
       "      <th>3</th>\n",
       "      <td>3831</td>\n",
       "      <td>Cozy Entire Floor of Brownstone</td>\n",
       "      <td>4869</td>\n",
       "      <td>LisaRoxanne</td>\n",
       "      <td>Brooklyn</td>\n",
       "      <td>Clinton Hill</td>\n",
       "      <td>40.68514</td>\n",
       "      <td>-73.95976</td>\n",
       "      <td>Entire home/apt</td>\n",
       "      <td>89</td>\n",
       "      <td>1</td>\n",
       "      <td>270</td>\n",
       "      <td>2019-07-05</td>\n",
       "      <td>4.64</td>\n",
       "      <td>1</td>\n",
       "      <td>194</td>\n",
       "    </tr>\n",
       "    <tr>\n",
       "      <th>4</th>\n",
       "      <td>5022</td>\n",
       "      <td>Entire Apt: Spacious Studio/Loft by central park</td>\n",
       "      <td>7192</td>\n",
       "      <td>Laura</td>\n",
       "      <td>Manhattan</td>\n",
       "      <td>East Harlem</td>\n",
       "      <td>40.79851</td>\n",
       "      <td>-73.94399</td>\n",
       "      <td>Entire home/apt</td>\n",
       "      <td>80</td>\n",
       "      <td>10</td>\n",
       "      <td>9</td>\n",
       "      <td>2018-11-19</td>\n",
       "      <td>0.10</td>\n",
       "      <td>1</td>\n",
       "      <td>0</td>\n",
       "    </tr>\n",
       "  </tbody>\n",
       "</table>\n",
       "</div>"
      ],
      "text/plain": [
       "     id                                              name  host_id  \\\n",
       "0  2539                Clean & quiet apt home by the park     2787   \n",
       "1  2595                             Skylit Midtown Castle     2845   \n",
       "2  3647               THE VILLAGE OF HARLEM....NEW YORK !     4632   \n",
       "3  3831                   Cozy Entire Floor of Brownstone     4869   \n",
       "4  5022  Entire Apt: Spacious Studio/Loft by central park     7192   \n",
       "\n",
       "     host_name neighbourhood_group neighbourhood  latitude  longitude  \\\n",
       "0         John            Brooklyn    Kensington  40.64749  -73.97237   \n",
       "1     Jennifer           Manhattan       Midtown  40.75362  -73.98377   \n",
       "2    Elisabeth           Manhattan        Harlem  40.80902  -73.94190   \n",
       "3  LisaRoxanne            Brooklyn  Clinton Hill  40.68514  -73.95976   \n",
       "4        Laura           Manhattan   East Harlem  40.79851  -73.94399   \n",
       "\n",
       "         room_type  price  minimum_nights  number_of_reviews last_review  \\\n",
       "0     Private room    149               1                  9  2018-10-19   \n",
       "1  Entire home/apt    225               1                 45  2019-05-21   \n",
       "2     Private room    150               3                  0         NaN   \n",
       "3  Entire home/apt     89               1                270  2019-07-05   \n",
       "4  Entire home/apt     80              10                  9  2018-11-19   \n",
       "\n",
       "   reviews_per_month  calculated_host_listings_count  availability_365  \n",
       "0               0.21                               6               365  \n",
       "1               0.38                               2               355  \n",
       "2                NaN                               1               365  \n",
       "3               4.64                               1               194  \n",
       "4               0.10                               1                 0  "
      ]
     },
     "execution_count": 107,
     "metadata": {},
     "output_type": "execute_result"
    }
   ],
   "source": [
    "df = pd.read_csv(\"../data/AB_NYC_2019.csv\")\n",
    "df.head()"
   ]
  },
  {
   "cell_type": "markdown",
   "id": "54b35eed-4e9d-435d-9d03-32f81e05f53b",
   "metadata": {},
   "source": [
    "## Exploratory Data Analysis (EDA)\n",
    "\n",
    "Question: Look at the price variable. Does it have a long tail?"
   ]
  },
  {
   "cell_type": "code",
   "execution_count": 108,
   "id": "a079f4b5-3776-4292-b3ec-125148d6097d",
   "metadata": {},
   "outputs": [
    {
     "data": {
      "image/png": "[encoded data removed]",
      "text/plain": [
       "<Figure size 432x288 with 1 Axes>"
      ]
     },
     "metadata": {
      "needs_background": "light"
     },
     "output_type": "display_data"
    }
   ],
   "source": [
    "sns.histplot(df[\"price\"], bins=50);"
   ]
  },
  {
   "cell_type": "code",
   "execution_count": 109,
   "id": "17bcb043-cfb9-42b9-8130-94a158a2121e",
   "metadata": {},
   "outputs": [
    {
     "data": {
      "image/png": "[encoded data removed]",
      "text/plain": [
       "<Figure size 432x288 with 1 Axes>"
      ]
     },
     "metadata": {
      "needs_background": "light"
     },
     "output_type": "display_data"
    }
   ],
   "source": [
    "sns.histplot(df[\"price\"][df[\"price\"] < 1000], bins=50);"
   ]
  },
  {
   "cell_type": "markdown",
   "id": "756ba8b2-713a-41fc-b7e1-de6fa7644a80",
   "metadata": {},
   "source": [
    "Answer: Yes, it does have a long tail"
   ]
  },
  {
   "cell_type": "code",
   "execution_count": 110,
   "id": "365fc196-77a3-4da8-9341-43c50a0d9e44",
   "metadata": {},
   "outputs": [],
   "source": [
    "# Extract the necessary columns\n",
    "features = [\n",
    "    'latitude',\n",
    "    'longitude',\n",
    "    'price',\n",
    "    'minimum_nights',\n",
    "    'number_of_reviews',\n",
    "    'reviews_per_month',\n",
    "    'calculated_host_listings_count',\n",
    "    'availability_365']"
   ]
  },
  {
   "cell_type": "code",
   "execution_count": 111,
   "id": "232a9df2-79de-4186-be53-56e16b5c146f",
   "metadata": {},
   "outputs": [
    {
     "data": {
      "text/html": [
       "<div>\n",
       "<style scoped>\n",
       "    .dataframe tbody tr th:only-of-type {\n",
       "        vertical-align: middle;\n",
       "    }\n",
       "\n",
       "    .dataframe tbody tr th {\n",
       "        vertical-align: top;\n",
       "    }\n",
       "\n",
       "    .dataframe thead th {\n",
       "        text-align: right;\n",
       "    }\n",
       "</style>\n",
       "<table border=\"1\" class=\"dataframe\">\n",
       "  <thead>\n",
       "    <tr style=\"text-align: right;\">\n",
       "      <th></th>\n",
       "      <th>latitude</th>\n",
       "      <th>longitude</th>\n",
       "      <th>price</th>\n",
       "      <th>minimum_nights</th>\n",
       "      <th>number_of_reviews</th>\n",
       "      <th>reviews_per_month</th>\n",
       "      <th>calculated_host_listings_count</th>\n",
       "      <th>availability_365</th>\n",
       "    </tr>\n",
       "  </thead>\n",
       "  <tbody>\n",
       "    <tr>\n",
       "      <th>0</th>\n",
       "      <td>40.64749</td>\n",
       "      <td>-73.97237</td>\n",
       "      <td>149</td>\n",
       "      <td>1</td>\n",
       "      <td>9</td>\n",
       "      <td>0.21</td>\n",
       "      <td>6</td>\n",
       "      <td>365</td>\n",
       "    </tr>\n",
       "    <tr>\n",
       "      <th>1</th>\n",
       "      <td>40.75362</td>\n",
       "      <td>-73.98377</td>\n",
       "      <td>225</td>\n",
       "      <td>1</td>\n",
       "      <td>45</td>\n",
       "      <td>0.38</td>\n",
       "      <td>2</td>\n",
       "      <td>355</td>\n",
       "    </tr>\n",
       "    <tr>\n",
       "      <th>2</th>\n",
       "      <td>40.80902</td>\n",
       "      <td>-73.94190</td>\n",
       "      <td>150</td>\n",
       "      <td>3</td>\n",
       "      <td>0</td>\n",
       "      <td>NaN</td>\n",
       "      <td>1</td>\n",
       "      <td>365</td>\n",
       "    </tr>\n",
       "    <tr>\n",
       "      <th>3</th>\n",
       "      <td>40.68514</td>\n",
       "      <td>-73.95976</td>\n",
       "      <td>89</td>\n",
       "      <td>1</td>\n",
       "      <td>270</td>\n",
       "      <td>4.64</td>\n",
       "      <td>1</td>\n",
       "      <td>194</td>\n",
       "    </tr>\n",
       "    <tr>\n",
       "      <th>4</th>\n",
       "      <td>40.79851</td>\n",
       "      <td>-73.94399</td>\n",
       "      <td>80</td>\n",
       "      <td>10</td>\n",
       "      <td>9</td>\n",
       "      <td>0.10</td>\n",
       "      <td>1</td>\n",
       "      <td>0</td>\n",
       "    </tr>\n",
       "  </tbody>\n",
       "</table>\n",
       "</div>"
      ],
      "text/plain": [
       "   latitude  longitude  price  minimum_nights  number_of_reviews  \\\n",
       "0  40.64749  -73.97237    149               1                  9   \n",
       "1  40.75362  -73.98377    225               1                 45   \n",
       "2  40.80902  -73.94190    150               3                  0   \n",
       "3  40.68514  -73.95976     89               1                270   \n",
       "4  40.79851  -73.94399     80              10                  9   \n",
       "\n",
       "   reviews_per_month  calculated_host_listings_count  availability_365  \n",
       "0               0.21                               6               365  \n",
       "1               0.38                               2               355  \n",
       "2                NaN                               1               365  \n",
       "3               4.64                               1               194  \n",
       "4               0.10                               1                 0  "
      ]
     },
     "execution_count": 111,
     "metadata": {},
     "output_type": "execute_result"
    }
   ],
   "source": [
    "df_model = df[features]\n",
    "df_model.head()"
   ]
  },
  {
   "cell_type": "markdown",
   "id": "98ac92a2-95b5-4bbf-8d1c-d621731aff1a",
   "metadata": {},
   "source": [
    "### Question 1\n",
    "\n",
    "Find a feature with missing values. How many missing values does it have?"
   ]
  },
  {
   "cell_type": "code",
   "execution_count": 112,
   "id": "73bd8d48-5a1b-4094-923e-6cf4e7654543",
   "metadata": {},
   "outputs": [
    {
     "data": {
      "text/plain": [
       "latitude                              0\n",
       "longitude                             0\n",
       "price                                 0\n",
       "minimum_nights                        0\n",
       "number_of_reviews                     0\n",
       "reviews_per_month                 10052\n",
       "calculated_host_listings_count        0\n",
       "availability_365                      0\n",
       "dtype: int64"
      ]
     },
     "execution_count": 112,
     "metadata": {},
     "output_type": "execute_result"
    }
   ],
   "source": [
    "df_model.isnull().sum()"
   ]
  },
  {
   "cell_type": "markdown",
   "id": "9009b8e9-0d24-4573-81b6-3e4793d0de05",
   "metadata": {},
   "source": [
    "Answer: The feature \"reviews per month\" has 10052 missing values."
   ]
  },
  {
   "cell_type": "markdown",
   "id": "8b2f2248-eaa8-4567-a144-68e30ebe09c0",
   "metadata": {},
   "source": [
    "### Question 2\n",
    "\n",
    "What's the median (50% percentile) for variable 'minimum_nights'?"
   ]
  },
  {
   "cell_type": "code",
   "execution_count": 113,
   "id": "33de6372-872f-4f93-ba8a-aea9e453cdf5",
   "metadata": {},
   "outputs": [
    {
     "data": {
      "text/plain": [
       "3.0"
      ]
     },
     "execution_count": 113,
     "metadata": {},
     "output_type": "execute_result"
    }
   ],
   "source": [
    "df_model[\"minimum_nights\"].median()"
   ]
  },
  {
   "cell_type": "markdown",
   "id": "257db7c9-b85d-4dbe-a3ee-5195c642ee33",
   "metadata": {},
   "source": [
    "Answer: The median of \"minimum_nights\" is 3."
   ]
  },
  {
   "cell_type": "markdown",
   "id": "0998551e-3239-453e-855f-7252ece90d8e",
   "metadata": {},
   "source": [
    "### Split the data\n",
    "\n",
    "* Shuffle the initial dataset, use seed 42.\n",
    "* Split your data in train/val/test sets, with 60%/20%/20% distribution.\n",
    "* Make sure that the target value ('price') is not in your dataframe.\n",
    "* Apply the log transformation to the price variable using the np.log1p() function."
   ]
  },
  {
   "cell_type": "code",
   "execution_count": 116,
   "id": "d1b06838-8fb1-49ff-aab2-cb5febce3060",
   "metadata": {},
   "outputs": [
    {
     "name": "stdout",
     "output_type": "stream",
     "text": [
      "[    0     1     2 ... 48892 48893 48894]\n",
      "[  879 44383 15394 ... 38158   860 15795]\n"
     ]
    }
   ],
   "source": [
    "# Shuffle the data (seed 42)\n",
    "length = len(df_model)\n",
    "idx = np.arange(length)\n",
    "print(idx)\n",
    "np.random.seed(42)\n",
    "np.random.shuffle(idx)\n",
    "print(idx)"
   ]
  },
  {
   "cell_type": "code",
   "execution_count": 117,
   "id": "6b0fdd59-550d-4b04-b718-8124a811e210",
   "metadata": {},
   "outputs": [
    {
     "data": {
      "text/html": [
       "<div>\n",
       "<style scoped>\n",
       "    .dataframe tbody tr th:only-of-type {\n",
       "        vertical-align: middle;\n",
       "    }\n",
       "\n",
       "    .dataframe tbody tr th {\n",
       "        vertical-align: top;\n",
       "    }\n",
       "\n",
       "    .dataframe thead th {\n",
       "        text-align: right;\n",
       "    }\n",
       "</style>\n",
       "<table border=\"1\" class=\"dataframe\">\n",
       "  <thead>\n",
       "    <tr style=\"text-align: right;\">\n",
       "      <th></th>\n",
       "      <th>latitude</th>\n",
       "      <th>longitude</th>\n",
       "      <th>price</th>\n",
       "      <th>minimum_nights</th>\n",
       "      <th>number_of_reviews</th>\n",
       "      <th>reviews_per_month</th>\n",
       "      <th>calculated_host_listings_count</th>\n",
       "      <th>availability_365</th>\n",
       "    </tr>\n",
       "  </thead>\n",
       "  <tbody>\n",
       "    <tr>\n",
       "      <th>879</th>\n",
       "      <td>40.64354</td>\n",
       "      <td>-73.97777</td>\n",
       "      <td>89</td>\n",
       "      <td>3</td>\n",
       "      <td>62</td>\n",
       "      <td>0.71</td>\n",
       "      <td>1</td>\n",
       "      <td>189</td>\n",
       "    </tr>\n",
       "    <tr>\n",
       "      <th>44383</th>\n",
       "      <td>40.70666</td>\n",
       "      <td>-73.90779</td>\n",
       "      <td>30</td>\n",
       "      <td>21</td>\n",
       "      <td>0</td>\n",
       "      <td>NaN</td>\n",
       "      <td>1</td>\n",
       "      <td>73</td>\n",
       "    </tr>\n",
       "    <tr>\n",
       "      <th>15394</th>\n",
       "      <td>40.76116</td>\n",
       "      <td>-73.99016</td>\n",
       "      <td>120</td>\n",
       "      <td>2</td>\n",
       "      <td>17</td>\n",
       "      <td>0.43</td>\n",
       "      <td>1</td>\n",
       "      <td>0</td>\n",
       "    </tr>\n",
       "    <tr>\n",
       "      <th>43230</th>\n",
       "      <td>40.70763</td>\n",
       "      <td>-74.01050</td>\n",
       "      <td>470</td>\n",
       "      <td>2</td>\n",
       "      <td>5</td>\n",
       "      <td>1.88</td>\n",
       "      <td>327</td>\n",
       "      <td>272</td>\n",
       "    </tr>\n",
       "    <tr>\n",
       "      <th>16332</th>\n",
       "      <td>40.79658</td>\n",
       "      <td>-73.93287</td>\n",
       "      <td>199</td>\n",
       "      <td>2</td>\n",
       "      <td>30</td>\n",
       "      <td>0.80</td>\n",
       "      <td>1</td>\n",
       "      <td>30</td>\n",
       "    </tr>\n",
       "  </tbody>\n",
       "</table>\n",
       "</div>"
      ],
      "text/plain": [
       "       latitude  longitude  price  minimum_nights  number_of_reviews  \\\n",
       "879    40.64354  -73.97777     89               3                 62   \n",
       "44383  40.70666  -73.90779     30              21                  0   \n",
       "15394  40.76116  -73.99016    120               2                 17   \n",
       "43230  40.70763  -74.01050    470               2                  5   \n",
       "16332  40.79658  -73.93287    199               2                 30   \n",
       "\n",
       "       reviews_per_month  calculated_host_listings_count  availability_365  \n",
       "879                 0.71                               1               189  \n",
       "44383                NaN                               1                73  \n",
       "15394               0.43                               1                 0  \n",
       "43230               1.88                             327               272  \n",
       "16332               0.80                               1                30  "
      ]
     },
     "execution_count": 117,
     "metadata": {},
     "output_type": "execute_result"
    }
   ],
   "source": [
    "df_model = df_model.iloc[idx]\n",
    "df_model.head()"
   ]
  },
  {
   "cell_type": "code",
   "execution_count": 118,
   "id": "6517c4b4-cb78-40a1-b439-27beed92e784",
   "metadata": {},
   "outputs": [],
   "source": [
    "# Split the data\n",
    "n_val = int(length * 0.2)\n",
    "n_test = n_val\n",
    "n_train = length - 2*n_val"
   ]
  },
  {
   "cell_type": "code",
   "execution_count": 119,
   "id": "ca18db82-6b21-4c84-ad5c-f018ee0a5130",
   "metadata": {},
   "outputs": [
    {
     "name": "stdout",
     "output_type": "stream",
     "text": [
      "train length: 29337, val length 9779, test length 9779\n"
     ]
    }
   ],
   "source": [
    "print(f\"train length: {n_train}, val length {n_val}, test length {n_test}\")"
   ]
  },
  {
   "cell_type": "code",
   "execution_count": 120,
   "id": "a4b28f59-dbf9-46f1-8ff8-59f897370e26",
   "metadata": {
    "tags": []
   },
   "outputs": [],
   "source": [
    "df_train = df_model.iloc[:n_train]\n",
    "df_val = df_model.iloc[n_train:n_train+n_val]\n",
    "df_test = df_model.iloc[n_train+n_val:]"
   ]
  },
  {
   "cell_type": "code",
   "execution_count": 121,
   "id": "a03057b4-0e05-414a-aeae-08dd896a5a90",
   "metadata": {},
   "outputs": [],
   "source": [
    "# reset index\n",
    "df_train = df_train.reset_index(drop=True)\n",
    "df_val = df_val.reset_index(drop=True)\n",
    "df_test = df_test.reset_index(drop=True)"
   ]
  },
  {
   "cell_type": "code",
   "execution_count": 122,
   "id": "c81e38e4-20a3-488e-8a39-d074fc0a3e4d",
   "metadata": {},
   "outputs": [
    {
     "data": {
      "text/plain": [
       "0         89\n",
       "1         30\n",
       "2        120\n",
       "3        470\n",
       "4        199\n",
       "        ... \n",
       "29332     95\n",
       "29333    101\n",
       "29334    100\n",
       "29335     68\n",
       "29336     45\n",
       "Name: price, Length: 29337, dtype: int64"
      ]
     },
     "execution_count": 122,
     "metadata": {},
     "output_type": "execute_result"
    }
   ],
   "source": [
    "y_train = df_train[\"price\"]\n",
    "y_val = df_val[\"price\"]\n",
    "y_test = df_test[\"price\"]\n",
    "y_train"
   ]
  },
  {
   "cell_type": "code",
   "execution_count": 123,
   "id": "1cd8c7f9-4c6a-49ba-aef2-407ab3b6f1c1",
   "metadata": {},
   "outputs": [],
   "source": [
    "# delete the target from the dataframe\n",
    "del df_train[\"price\"]\n",
    "del df_val[\"price\"]\n",
    "del df_test[\"price\"]"
   ]
  },
  {
   "cell_type": "code",
   "execution_count": 124,
   "id": "b67ddc14-0bfe-4883-be5b-d3433df357ee",
   "metadata": {},
   "outputs": [],
   "source": [
    "# apply log transformation\n",
    "y_train = np.log1p(y_train)\n",
    "y_val = np.log1p(y_val)\n",
    "y_test = np.log1p(y_test)"
   ]
  },
  {
   "cell_type": "code",
   "execution_count": 125,
   "id": "efa2099b-ccda-4ad9-bc75-3e2753bb7c84",
   "metadata": {},
   "outputs": [
    {
     "data": {
      "image/png": "[encoded data removed]",
      "text/plain": [
       "<Figure size 432x288 with 1 Axes>"
      ]
     },
     "metadata": {
      "needs_background": "light"
     },
     "output_type": "display_data"
    }
   ],
   "source": [
    "# plot y_train / y_val\n",
    "sns.histplot(y_train, bins=50, color=\"blue\", alpha=0.5)\n",
    "sns.histplot(y_val, bins=50, color=\"red\", alpha=0.5);"
   ]
  },
  {
   "cell_type": "markdown",
   "id": "6f600c45-4e4f-4cc6-9e8b-6b82dc7846c1",
   "metadata": {},
   "source": [
    "### Question 3\n",
    "\n",
    "* We need to deal with missing values for the column from Q1.\n",
    "* We have two options: fill it with 0 or with the mean of this variable.\n",
    "* Try both options. For each, train a linear regression model without regularization using the code from the lessons.\n",
    "* For computing the mean, use the training only!\n",
    "* Use the validation dataset to evaluate the models and compare the RMSE of each option.\n",
    "* Round the RMSE scores to 2 decimal digits using round(score, 2)\n",
    "* Which option gives better RMSE?"
   ]
  },
  {
   "cell_type": "code",
   "execution_count": 126,
   "id": "70949f74-a67f-44c3-8362-8d7bf3d1807a",
   "metadata": {},
   "outputs": [],
   "source": [
    "# Fill missing values \n",
    "def fill_X(df, fill=0):\n",
    "    # fill missing values\n",
    "    X = df.fillna(fill).values\n",
    "    return X"
   ]
  },
  {
   "cell_type": "code",
   "execution_count": 127,
   "id": "267d472a-6363-4ce5-9211-82c3d51a4e31",
   "metadata": {},
   "outputs": [],
   "source": [
    "X_train_fill0 = fill_X(df_train)\n",
    "X_train_fill_mean = fill_X(df_train, fill=df_train.mean())\n",
    "X_val = df_val.values"
   ]
  },
  {
   "cell_type": "code",
   "execution_count": 128,
   "id": "dd58ba3a-ed43-46f3-99bf-6f998ff02286",
   "metadata": {},
   "outputs": [],
   "source": [
    "def train_linear_regression(X, y):\n",
    "    ones = np.ones(X.shape[0])\n",
    "    X = np.column_stack([ones, X])\n",
    "    \n",
    "    XTX = X.T.dot(X)\n",
    "    XTX_inv = np.linalg.inv(XTX)\n",
    "    w_full = XTX_inv.dot(X.T).dot(y)\n",
    "   \n",
    "    return w_full[0], w_full[1:]"
   ]
  },
  {
   "cell_type": "code",
   "execution_count": 129,
   "id": "63fc21c2-0306-458d-a0dd-fb351f92d6ed",
   "metadata": {},
   "outputs": [
    {
     "name": "stdout",
     "output_type": "stream",
     "text": [
      "fill with 0s: w0 -419.91265866086724, w [ 1.30676226e+00 -5.02167855e+00 -5.59803110e-04 -4.07634896e-04\n",
      " -8.25470066e-03  1.33371320e-03  6.50203890e-04]\n",
      "fill with 0s: w0 -423.5393082023219, w [ 1.31148321e+00 -5.06799071e+00 -4.87741552e-04 -6.63849280e-04\n",
      "  5.34563274e-03  1.32706019e-03  6.38794182e-04]\n"
     ]
    }
   ],
   "source": [
    "# fill 0\n",
    "w0_fill0, w_fill0 = train_linear_regression(X_train_fill0, y_train)\n",
    "print(f\"fill with 0s: w0 {w0_fill0}, w {w_fill0}\")\n",
    "# fill mean\n",
    "w0_fill_mean, w_fill_mean = train_linear_regression(X_train_fill_mean, y_train)\n",
    "print(f\"fill with 0s: w0 {w0_fill_mean}, w {w_fill_mean}\")"
   ]
  },
  {
   "cell_type": "markdown",
   "id": "3f6bac25-a55d-46f5-8bfe-97003e830ebb",
   "metadata": {},
   "source": [
    "**Case: Fill missing values with 0s**"
   ]
  },
  {
   "cell_type": "code",
   "execution_count": 130,
   "id": "59e80367-64b3-48c9-aa4f-608d8e67d624",
   "metadata": {},
   "outputs": [
    {
     "name": "stdout",
     "output_type": "stream",
     "text": [
      "[4.7827747  4.45947456 4.89702082 ... 4.82048871 4.86944871 4.61612559]\n",
      "[4.57853271 4.48375564 4.73586366 ... 4.77182321 4.75592014 4.78192004]\n"
     ]
    }
   ],
   "source": [
    "# predictions for training\n",
    "y_pred_train_fill0 = w0_fill0 + X_train.dot(w_fill0)\n",
    "print(y_pred_train_fill0)\n",
    "# predictions for validation\n",
    "y_pred_val_fill0 = w0_fill0 + X_val.dot(w_fill0)\n",
    "print(y_pred_val_fill0)"
   ]
  },
  {
   "cell_type": "code",
   "execution_count": 131,
   "id": "a8319d8f-1638-43f9-8ae7-c15afbcbd8b8",
   "metadata": {},
   "outputs": [],
   "source": [
    "def rmse(y, y_pred):\n",
    "    error = (y - y_pred)**2\n",
    "    rmse = np.sqrt(error.mean())\n",
    "    return rmse"
   ]
  },
  {
   "cell_type": "code",
   "execution_count": 132,
   "id": "c46d0b80-42b4-48d0-a013-7cc944b00e22",
   "metadata": {},
   "outputs": [
    {
     "name": "stdout",
     "output_type": "stream",
     "text": [
      "RMSE for training: 0.6429\n",
      "RMSE for validation: 0.6149\n"
     ]
    }
   ],
   "source": [
    "print(f\"RMSE for training: {round(rmse(y_train, y_pred_train_fill0), 4)}\")\n",
    "print(f\"RMSE for validation: {round(rmse(y_val, y_pred_val_fill0), 4)}\")"
   ]
  },
  {
   "cell_type": "markdown",
   "id": "0b858e0e-2ac2-4eb8-8fdb-0dd68aa1f996",
   "metadata": {},
   "source": [
    "**Case: Fill missing values with mean**"
   ]
  },
  {
   "cell_type": "code",
   "execution_count": 133,
   "id": "8d14c4ac-19fc-4e18-a3ae-31d8e239c450",
   "metadata": {},
   "outputs": [
    {
     "name": "stdout",
     "output_type": "stream",
     "text": [
      "[4.76589611 4.44850272 4.89107725 ... 4.83526871 4.87768975 4.60682893]\n",
      "[4.56404917 4.47586466 4.72706726 ... 4.76271671 4.74761535 4.81081466]\n"
     ]
    }
   ],
   "source": [
    "# predictions for training\n",
    "y_pred_train_fill_mean = w0_fill_mean + X_train.dot(w_fill_mean)\n",
    "print(y_pred_train_fill_mean)\n",
    "# predictions for validation\n",
    "y_pred_val_fill_mean = w0_fill_mean + X_val.dot(w_fill_mean)\n",
    "print(y_pred_val_fill_mean)"
   ]
  },
  {
   "cell_type": "code",
   "execution_count": 134,
   "id": "0b63c54a-d27f-43f0-b557-35cd2792b0cf",
   "metadata": {},
   "outputs": [
    {
     "name": "stdout",
     "output_type": "stream",
     "text": [
      "RMSE for training: 0.6431\n",
      "RMSE for validation: 0.6144\n"
     ]
    }
   ],
   "source": [
    "print(f\"RMSE for training: {round(rmse(y_train, y_pred_train_fill_mean), 4)}\")\n",
    "print(f\"RMSE for validation: {round(rmse(y_val, y_pred_val_fill_mean), 4)}\")"
   ]
  },
  {
   "cell_type": "markdown",
   "id": "4a6d0533-188c-4688-9a7c-38081f544796",
   "metadata": {},
   "source": [
    "Answer: Filling missing values with the mean gives a lower RMSE."
   ]
  },
  {
   "cell_type": "markdown",
   "id": "80a48923-37ef-43d2-8602-7375e94c504a",
   "metadata": {},
   "source": [
    "### Question 4\n",
    "\n",
    "* Now let's train a regularized linear regression.\n",
    "* For this question, fill the NAs with 0.\n",
    "* Try different values of r from this list: [0, 0.000001, 0.0001, 0.001, 0.01, 0.1, 1, 5, 10].\n",
    "* Use RMSE to evaluate the model on the validation dataset.\n",
    "* Round the RMSE scores to 2 decimal digits.\n",
    "* Which r gives the best RMSE?\n",
    "\n",
    "If there are multiple options, select the smallest r."
   ]
  },
  {
   "cell_type": "code",
   "execution_count": 135,
   "id": "a4c1e6a2-47bb-41e4-a087-0c7bf2424fc6",
   "metadata": {},
   "outputs": [],
   "source": [
    "def train_linear_regression_reg(X, y, r):\n",
    "    ones = np.ones(X.shape[0])\n",
    "    X = np.column_stack([ones, X])\n",
    "    \n",
    "    XTX = X.T.dot(X)\n",
    "    XTX = XTX + r*np.eye(XTX.shape[0])\n",
    "    XTX_inv = np.linalg.inv(XTX)\n",
    "    w_full = XTX_inv.dot(X.T).dot(y)\n",
    "   \n",
    "    return w_full[0], w_full[1:]"
   ]
  },
  {
   "cell_type": "code",
   "execution_count": 136,
   "id": "68ca4951-c4d2-48e9-aad3-17a9c1ab6c48",
   "metadata": {},
   "outputs": [
    {
     "name": "stdout",
     "output_type": "stream",
     "text": [
      "r: 0; RMSE: 0.615\n",
      "r: 1e-06; RMSE: 0.615\n",
      "r: 0.0001; RMSE: 0.615\n",
      "r: 0.001; RMSE: 0.615\n",
      "r: 0.01; RMSE: 0.626\n",
      "r: 0.1; RMSE: 0.647\n",
      "r: 1; RMSE: 0.652\n",
      "r: 5; RMSE: 0.652\n",
      "r: 10; RMSE: 0.652\n"
     ]
    }
   ],
   "source": [
    "for r in [0, 0.000001, 0.0001, 0.001, 0.01, 0.1, 1, 5, 10]:\n",
    "    # fill missing values with 0\n",
    "    X_train = df_train.fillna(0).values\n",
    "    w0, w = train_linear_regression_reg(X_train, y_train, r)\n",
    "    \n",
    "    # prediction\n",
    "    y_pred = w0 + X_val.dot(w)\n",
    "    \n",
    "    score = rmse(y_val, y_pred)\n",
    "    print(f\"r: {r}; RMSE: {round(score, 3)}\")"
   ]
  },
  {
   "cell_type": "markdown",
   "id": "275f0a18-cf98-4187-b6bb-540bc183bc71",
   "metadata": {},
   "source": [
    "Answer: Several values for r give the same reults, when rounded on two digitals. The lowest is 1e-6."
   ]
  },
  {
   "cell_type": "markdown",
   "id": "9b609381-3d03-47f0-8397-def6b251a008",
   "metadata": {},
   "source": [
    "### Question 5\n",
    "\n",
    "* We used seed 42 for splitting the data. Let's find out how selecting the seed influences our score.\n",
    "* Try different seed values: [0, 1, 2, 3, 4, 5, 6, 7, 8, 9].\n",
    "* For each seed, do the train/validation/test split with 60%/20%/20% distribution.\n",
    "* Fill the missing values with 0 and train a model without regularization.\n",
    "* For each seed, evaluate the model on the validation dataset and collect the RMSE scores.\n",
    "* What's the standard deviation of all the scores? To compute the standard deviation, use np.std.\n",
    "* Round the result to 3 decimal digits (round(std, 3))"
   ]
  },
  {
   "cell_type": "code",
   "execution_count": 137,
   "id": "952d5efe-93d3-4991-b17d-aeb65c4acb19",
   "metadata": {},
   "outputs": [],
   "source": [
    "seeds = [0, 1, 2, 3, 4, 5, 6, 7, 8, 9]"
   ]
  },
  {
   "cell_type": "code",
   "execution_count": 146,
   "id": "4ba7921c-0deb-417a-bf4f-6566ea260784",
   "metadata": {},
   "outputs": [],
   "source": [
    "length = len(df_model)\n",
    "idx = np.arange(length)\n",
    "\n",
    "def full_loop(df_model, seed):\n",
    "    \n",
    "    # Shuffle the data\n",
    "    np.random.seed(seed)\n",
    "    np.random.shuffle(idx)\n",
    "    df_model = df_model.iloc[idx]\n",
    "    \n",
    "    # split data\n",
    "    df_train = df_model.iloc[:n_train]\n",
    "    df_val = df_model.iloc[n_train:n_train+n_val]\n",
    "    \n",
    "    # fill missing values with 0\n",
    "    X_train = df_train.fillna(0).values\n",
    "    X_val = df_val.fillna(0).values\n",
    " \n",
    "    y_train = df_train[\"price\"]\n",
    "    y_val = df_val[\"price\"]\n",
    "    \n",
    "    # apply log transformation\n",
    "    y_train = np.log1p(y_train)\n",
    "    y_val = np.log1p(y_val)\n",
    "    \n",
    "    # train linear regression\n",
    "    w0, w = train_linear_regression_reg(X_train, y_train, r=0)\n",
    "        \n",
    "    # make predictions\n",
    "    y_pred = w0 + X_val.dot(w)\n",
    "    \n",
    "    # calculate rmse\n",
    "    score  = rmse(y_val, y_pred)\n",
    "    \n",
    "    return score    "
   ]
  },
  {
   "cell_type": "code",
   "execution_count": 147,
   "id": "2e7cf771-f02a-46bc-8b15-cfa7296bdf6a",
   "metadata": {},
   "outputs": [
    {
     "name": "stdout",
     "output_type": "stream",
     "text": [
      "seed: 0, score: 0.49295169951263423\n",
      "seed: 1, score: 0.4809397273634807\n",
      "seed: 2, score: 0.49618796412866817\n",
      "seed: 3, score: 0.4876765315964381\n",
      "seed: 4, score: 0.4964519786908811\n",
      "seed: 5, score: 0.5252786500046434\n",
      "seed: 6, score: 0.501665873587582\n",
      "seed: 7, score: 0.4884128995760581\n",
      "seed: 8, score: 0.5231415000731029\n",
      "seed: 9, score: 0.5406866180177985\n",
      "\n",
      "std: 0.01856724095509386\n"
     ]
    }
   ],
   "source": [
    "scores = []\n",
    "for seed in seeds:\n",
    "    \n",
    "    score = full_loop(df_model, seed)\n",
    "    scores.append(score)\n",
    "    print(f\"seed: {seed}, score: {score}\")\n",
    "    \n",
    "# std of scores\n",
    "std_scores = np.std(scores)\n",
    "print(f\"\\nstd: {std_scores}\")"
   ]
  },
  {
   "cell_type": "markdown",
   "id": "c7424802-ce69-46a5-8cd6-584dda95a78d",
   "metadata": {
    "tags": []
   },
   "source": [
    "### Question 6\n",
    "\n",
    "* Split the dataset like previously, use seed 9.\n",
    "* Combine train and validation datasets.\n",
    "* Fill the missing values with 0 and train a model with r=0.001.\n",
    "* What's the RMSE on the test dataset?"
   ]
  },
  {
   "cell_type": "code",
   "execution_count": 150,
   "id": "e578445a-772d-4d16-b918-5a98a85457c6",
   "metadata": {},
   "outputs": [],
   "source": [
    "def final_test(df_model, seed=9):\n",
    "    \n",
    "    # Shuffle the data\n",
    "    np.random.seed(seed)\n",
    "    np.random.shuffle(idx)\n",
    "    df_model = df_model.iloc[idx]\n",
    "    \n",
    "    # split data\n",
    "    df_train = df_model.iloc[:n_train+n_val]\n",
    "    df_test = df_model.iloc[n_train+n_val:]\n",
    "    \n",
    "    # fill missing values with 0\n",
    "    X_train = df_train.fillna(0).values\n",
    "    X_test = df_test.fillna(0).values\n",
    "    \n",
    "    y_train = df_train[\"price\"]\n",
    "    y_test = df_test[\"price\"]\n",
    "    \n",
    "    # apply log transformation\n",
    "    y_train = np.log1p(y_train)\n",
    "    y_test = np.log1p(y_test)\n",
    "    \n",
    "    # train linear regression\n",
    "    w0, w = train_linear_regression_reg(X_train, y_train, r=0.001)\n",
    "        \n",
    "    # make predictions\n",
    "    y_pred = w0 + X_test.dot(w)\n",
    "    \n",
    "    # calculate rmse\n",
    "    score  = rmse(y_test, y_pred)\n",
    "    return score "
   ]
  },
  {
   "cell_type": "code",
   "execution_count": 151,
   "id": "fb2a014c-8a30-43bd-8a6c-fa3d784f1db5",
   "metadata": {},
   "outputs": [
    {
     "name": "stdout",
     "output_type": "stream",
     "text": [
      "RMSE: 0.501\n"
     ]
    }
   ],
   "source": [
    "score = final_test(df_model)\n",
    "print(f\"RMSE: {round(score, 3)}\")"
   ]
  },
  {
   "cell_type": "markdown",
   "id": "8d0061da-f430-49fe-b4d3-d876ee5ce0ef",
   "metadata": {},
   "source": [
    "Answer: The RMSE with seed 9 and r=0.001 is lower than before."
   ]
  }
 ],
 "metadata": {
  "kernelspec": {
   "display_name": "ml-zoomcamp",
   "language": "python",
   "name": "ml-zoomcamp"
  },
  "language_info": {
   "codemirror_mode": {
    "name": "ipython",
    "version": 3
   },
   "file_extension": ".py",
   "mimetype": "text/x-python",
   "name": "python",
   "nbconvert_exporter": "python",
   "pygments_lexer": "ipython3",
   "version": "3.9.7"
  }
 },
 "nbformat": 4,
 "nbformat_minor": 5
}
