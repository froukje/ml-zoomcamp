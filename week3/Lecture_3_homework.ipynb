{
 "cells": [
  {
   "cell_type": "markdown",
   "id": "86a4b012-b9b8-4632-950f-48d16346bcf8",
   "metadata": {},
   "source": [
    "# Homework for week 3\n",
    "**Data:** As in the previous week. The Airbnb data from New York City. It can be downloaded from [kaggle](https://www.kaggle.com/dgomonov/new-york-city-airbnb-open-data?select=AB_NYC_2019.csv)\n",
    "\n",
    "**Objective:** We'll keep working with the 'price' variable, and we'll transform it to a classification task."
   ]
  },
  {
   "cell_type": "markdown",
   "id": "ac675f38-beed-490a-b887-c1d9e4887208",
   "metadata": {},
   "source": [
    "For the rest of the homework, you'll need to use the features from the previous homework with additional two ```'neighbourhood_group'``` and ```'room_type'```. So the whole feature set will be set as follows:\n",
    "\n",
    "* ```'neighbourhood_group'```,\n",
    "* ```'room_type'```,\n",
    "* ```'latitude'```,\n",
    "* ```'longitude'```,\n",
    "* ```'price'```,\n",
    "* ```'minimum_nights'```,\n",
    "* ```'number_of_reviews'```,\n",
    "* ```'reviews_per_month'```,\n",
    "* ```'calculated_host_listings_count'```,\n",
    "* ```'availability_365'```\n",
    "\n",
    "Select only them and fill in the missing values with 0."
   ]
  },
  {
   "cell_type": "markdown",
   "id": "c37057bc-ab82-4a17-a36a-366eaff19550",
   "metadata": {},
   "source": [
    "## Setup"
   ]
  },
  {
   "cell_type": "code",
   "execution_count": 137,
   "id": "a4ff632a-d753-4271-a5c1-b94c1ad97b25",
   "metadata": {},
   "outputs": [],
   "source": [
    "import pandas as pd\n",
    "import numpy as np\n",
    "\n",
    "from sklearn.model_selection import train_test_split\n",
    "from sklearn.metrics import mutual_info_score, mean_squared_error\n",
    "from sklearn.feature_extraction import DictVectorizer\n",
    "from sklearn.linear_model import LogisticRegression, Ridge\n",
    "\n",
    "import matplotlib.pyplot as plt\n",
    "import seaborn as sns"
   ]
  },
  {
   "cell_type": "markdown",
   "id": "7e67c9f5-49ef-49b7-b0bb-df97b4421e30",
   "metadata": {},
   "source": [
    "## Read Data"
   ]
  },
  {
   "cell_type": "code",
   "execution_count": 91,
   "id": "828ef8d9-d161-4657-9931-648a1c291309",
   "metadata": {},
   "outputs": [
    {
     "data": {
      "text/html": [
       "<div>\n",
       "<style scoped>\n",
       "    .dataframe tbody tr th:only-of-type {\n",
       "        vertical-align: middle;\n",
       "    }\n",
       "\n",
       "    .dataframe tbody tr th {\n",
       "        vertical-align: top;\n",
       "    }\n",
       "\n",
       "    .dataframe thead th {\n",
       "        text-align: right;\n",
       "    }\n",
       "</style>\n",
       "<table border=\"1\" class=\"dataframe\">\n",
       "  <thead>\n",
       "    <tr style=\"text-align: right;\">\n",
       "      <th></th>\n",
       "      <th>id</th>\n",
       "      <th>name</th>\n",
       "      <th>host_id</th>\n",
       "      <th>host_name</th>\n",
       "      <th>neighbourhood_group</th>\n",
       "      <th>neighbourhood</th>\n",
       "      <th>latitude</th>\n",
       "      <th>longitude</th>\n",
       "      <th>room_type</th>\n",
       "      <th>price</th>\n",
       "      <th>minimum_nights</th>\n",
       "      <th>number_of_reviews</th>\n",
       "      <th>last_review</th>\n",
       "      <th>reviews_per_month</th>\n",
       "      <th>calculated_host_listings_count</th>\n",
       "      <th>availability_365</th>\n",
       "    </tr>\n",
       "  </thead>\n",
       "  <tbody>\n",
       "    <tr>\n",
       "      <th>0</th>\n",
       "      <td>2539</td>\n",
       "      <td>Clean &amp; quiet apt home by the park</td>\n",
       "      <td>2787</td>\n",
       "      <td>John</td>\n",
       "      <td>Brooklyn</td>\n",
       "      <td>Kensington</td>\n",
       "      <td>40.64749</td>\n",
       "      <td>-73.97237</td>\n",
       "      <td>Private room</td>\n",
       "      <td>149</td>\n",
       "      <td>1</td>\n",
       "      <td>9</td>\n",
       "      <td>2018-10-19</td>\n",
       "      <td>0.21</td>\n",
       "      <td>6</td>\n",
       "      <td>365</td>\n",
       "    </tr>\n",
       "    <tr>\n",
       "      <th>1</th>\n",
       "      <td>2595</td>\n",
       "      <td>Skylit Midtown Castle</td>\n",
       "      <td>2845</td>\n",
       "      <td>Jennifer</td>\n",
       "      <td>Manhattan</td>\n",
       "      <td>Midtown</td>\n",
       "      <td>40.75362</td>\n",
       "      <td>-73.98377</td>\n",
       "      <td>Entire home/apt</td>\n",
       "      <td>225</td>\n",
       "      <td>1</td>\n",
       "      <td>45</td>\n",
       "      <td>2019-05-21</td>\n",
       "      <td>0.38</td>\n",
       "      <td>2</td>\n",
       "      <td>355</td>\n",
       "    </tr>\n",
       "    <tr>\n",
       "      <th>2</th>\n",
       "      <td>3647</td>\n",
       "      <td>THE VILLAGE OF HARLEM....NEW YORK !</td>\n",
       "      <td>4632</td>\n",
       "      <td>Elisabeth</td>\n",
       "      <td>Manhattan</td>\n",
       "      <td>Harlem</td>\n",
       "      <td>40.80902</td>\n",
       "      <td>-73.94190</td>\n",
       "      <td>Private room</td>\n",
       "      <td>150</td>\n",
       "      <td>3</td>\n",
       "      <td>0</td>\n",
       "      <td>NaN</td>\n",
       "      <td>NaN</td>\n",
       "      <td>1</td>\n",
       "      <td>365</td>\n",
       "    </tr>\n",
       "    <tr>\n",
       "      <th>3</th>\n",
       "      <td>3831</td>\n",
       "      <td>Cozy Entire Floor of Brownstone</td>\n",
       "      <td>4869</td>\n",
       "      <td>LisaRoxanne</td>\n",
       "      <td>Brooklyn</td>\n",
       "      <td>Clinton Hill</td>\n",
       "      <td>40.68514</td>\n",
       "      <td>-73.95976</td>\n",
       "      <td>Entire home/apt</td>\n",
       "      <td>89</td>\n",
       "      <td>1</td>\n",
       "      <td>270</td>\n",
       "      <td>2019-07-05</td>\n",
       "      <td>4.64</td>\n",
       "      <td>1</td>\n",
       "      <td>194</td>\n",
       "    </tr>\n",
       "    <tr>\n",
       "      <th>4</th>\n",
       "      <td>5022</td>\n",
       "      <td>Entire Apt: Spacious Studio/Loft by central park</td>\n",
       "      <td>7192</td>\n",
       "      <td>Laura</td>\n",
       "      <td>Manhattan</td>\n",
       "      <td>East Harlem</td>\n",
       "      <td>40.79851</td>\n",
       "      <td>-73.94399</td>\n",
       "      <td>Entire home/apt</td>\n",
       "      <td>80</td>\n",
       "      <td>10</td>\n",
       "      <td>9</td>\n",
       "      <td>2018-11-19</td>\n",
       "      <td>0.10</td>\n",
       "      <td>1</td>\n",
       "      <td>0</td>\n",
       "    </tr>\n",
       "  </tbody>\n",
       "</table>\n",
       "</div>"
      ],
      "text/plain": [
       "     id                                              name  host_id  \\\n",
       "0  2539                Clean & quiet apt home by the park     2787   \n",
       "1  2595                             Skylit Midtown Castle     2845   \n",
       "2  3647               THE VILLAGE OF HARLEM....NEW YORK !     4632   \n",
       "3  3831                   Cozy Entire Floor of Brownstone     4869   \n",
       "4  5022  Entire Apt: Spacious Studio/Loft by central park     7192   \n",
       "\n",
       "     host_name neighbourhood_group neighbourhood  latitude  longitude  \\\n",
       "0         John            Brooklyn    Kensington  40.64749  -73.97237   \n",
       "1     Jennifer           Manhattan       Midtown  40.75362  -73.98377   \n",
       "2    Elisabeth           Manhattan        Harlem  40.80902  -73.94190   \n",
       "3  LisaRoxanne            Brooklyn  Clinton Hill  40.68514  -73.95976   \n",
       "4        Laura           Manhattan   East Harlem  40.79851  -73.94399   \n",
       "\n",
       "         room_type  price  minimum_nights  number_of_reviews last_review  \\\n",
       "0     Private room    149               1                  9  2018-10-19   \n",
       "1  Entire home/apt    225               1                 45  2019-05-21   \n",
       "2     Private room    150               3                  0         NaN   \n",
       "3  Entire home/apt     89               1                270  2019-07-05   \n",
       "4  Entire home/apt     80              10                  9  2018-11-19   \n",
       "\n",
       "   reviews_per_month  calculated_host_listings_count  availability_365  \n",
       "0               0.21                               6               365  \n",
       "1               0.38                               2               355  \n",
       "2                NaN                               1               365  \n",
       "3               4.64                               1               194  \n",
       "4               0.10                               1                 0  "
      ]
     },
     "execution_count": 91,
     "metadata": {},
     "output_type": "execute_result"
    }
   ],
   "source": [
    "df = pd.read_csv(\"../data/AB_NYC_2019.csv\")\n",
    "df.head()"
   ]
  },
  {
   "cell_type": "code",
   "execution_count": 92,
   "id": "b0cd3c3b-4cfb-4ae2-a3f6-e5795c82ac44",
   "metadata": {},
   "outputs": [
    {
     "data": {
      "text/html": [
       "<div>\n",
       "<style scoped>\n",
       "    .dataframe tbody tr th:only-of-type {\n",
       "        vertical-align: middle;\n",
       "    }\n",
       "\n",
       "    .dataframe tbody tr th {\n",
       "        vertical-align: top;\n",
       "    }\n",
       "\n",
       "    .dataframe thead th {\n",
       "        text-align: right;\n",
       "    }\n",
       "</style>\n",
       "<table border=\"1\" class=\"dataframe\">\n",
       "  <thead>\n",
       "    <tr style=\"text-align: right;\">\n",
       "      <th></th>\n",
       "      <th>neighbourhood_group</th>\n",
       "      <th>room_type</th>\n",
       "      <th>latitude</th>\n",
       "      <th>longitude</th>\n",
       "      <th>price</th>\n",
       "      <th>minimum_nights</th>\n",
       "      <th>number_of_reviews</th>\n",
       "      <th>reviews_per_month</th>\n",
       "      <th>calculated_host_listings_count</th>\n",
       "      <th>availability_365</th>\n",
       "    </tr>\n",
       "  </thead>\n",
       "  <tbody>\n",
       "    <tr>\n",
       "      <th>0</th>\n",
       "      <td>Brooklyn</td>\n",
       "      <td>Private room</td>\n",
       "      <td>40.64749</td>\n",
       "      <td>-73.97237</td>\n",
       "      <td>149</td>\n",
       "      <td>1</td>\n",
       "      <td>9</td>\n",
       "      <td>0.21</td>\n",
       "      <td>6</td>\n",
       "      <td>365</td>\n",
       "    </tr>\n",
       "    <tr>\n",
       "      <th>1</th>\n",
       "      <td>Manhattan</td>\n",
       "      <td>Entire home/apt</td>\n",
       "      <td>40.75362</td>\n",
       "      <td>-73.98377</td>\n",
       "      <td>225</td>\n",
       "      <td>1</td>\n",
       "      <td>45</td>\n",
       "      <td>0.38</td>\n",
       "      <td>2</td>\n",
       "      <td>355</td>\n",
       "    </tr>\n",
       "    <tr>\n",
       "      <th>2</th>\n",
       "      <td>Manhattan</td>\n",
       "      <td>Private room</td>\n",
       "      <td>40.80902</td>\n",
       "      <td>-73.94190</td>\n",
       "      <td>150</td>\n",
       "      <td>3</td>\n",
       "      <td>0</td>\n",
       "      <td>NaN</td>\n",
       "      <td>1</td>\n",
       "      <td>365</td>\n",
       "    </tr>\n",
       "    <tr>\n",
       "      <th>3</th>\n",
       "      <td>Brooklyn</td>\n",
       "      <td>Entire home/apt</td>\n",
       "      <td>40.68514</td>\n",
       "      <td>-73.95976</td>\n",
       "      <td>89</td>\n",
       "      <td>1</td>\n",
       "      <td>270</td>\n",
       "      <td>4.64</td>\n",
       "      <td>1</td>\n",
       "      <td>194</td>\n",
       "    </tr>\n",
       "    <tr>\n",
       "      <th>4</th>\n",
       "      <td>Manhattan</td>\n",
       "      <td>Entire home/apt</td>\n",
       "      <td>40.79851</td>\n",
       "      <td>-73.94399</td>\n",
       "      <td>80</td>\n",
       "      <td>10</td>\n",
       "      <td>9</td>\n",
       "      <td>0.10</td>\n",
       "      <td>1</td>\n",
       "      <td>0</td>\n",
       "    </tr>\n",
       "  </tbody>\n",
       "</table>\n",
       "</div>"
      ],
      "text/plain": [
       "  neighbourhood_group        room_type  latitude  longitude  price  \\\n",
       "0            Brooklyn     Private room  40.64749  -73.97237    149   \n",
       "1           Manhattan  Entire home/apt  40.75362  -73.98377    225   \n",
       "2           Manhattan     Private room  40.80902  -73.94190    150   \n",
       "3            Brooklyn  Entire home/apt  40.68514  -73.95976     89   \n",
       "4           Manhattan  Entire home/apt  40.79851  -73.94399     80   \n",
       "\n",
       "   minimum_nights  number_of_reviews  reviews_per_month  \\\n",
       "0               1                  9               0.21   \n",
       "1               1                 45               0.38   \n",
       "2               3                  0                NaN   \n",
       "3               1                270               4.64   \n",
       "4              10                  9               0.10   \n",
       "\n",
       "   calculated_host_listings_count  availability_365  \n",
       "0                               6               365  \n",
       "1                               2               355  \n",
       "2                               1               365  \n",
       "3                               1               194  \n",
       "4                               1                 0  "
      ]
     },
     "execution_count": 92,
     "metadata": {},
     "output_type": "execute_result"
    }
   ],
   "source": [
    "columns = [\n",
    "    'neighbourhood_group',\n",
    "    'room_type',\n",
    "    'latitude',\n",
    "    'longitude',\n",
    "    'price',\n",
    "    'minimum_nights',\n",
    "    'number_of_reviews',\n",
    "    'reviews_per_month',\n",
    "    'calculated_host_listings_count',\n",
    "    'availability_365'\n",
    "]\n",
    "df_sel = df[columns]\n",
    "df_sel.head()"
   ]
  },
  {
   "cell_type": "markdown",
   "id": "b3fb3bec-ab23-4fb7-968a-c15d7ec4a8c3",
   "metadata": {},
   "source": [
    "* Fill missing values with 0"
   ]
  },
  {
   "cell_type": "code",
   "execution_count": 93,
   "id": "bb39f9e3-fc68-4538-afa7-05643d7bac30",
   "metadata": {},
   "outputs": [
    {
     "data": {
      "text/plain": [
       "neighbourhood_group                   0\n",
       "room_type                             0\n",
       "latitude                              0\n",
       "longitude                             0\n",
       "price                                 0\n",
       "minimum_nights                        0\n",
       "number_of_reviews                     0\n",
       "reviews_per_month                 10052\n",
       "calculated_host_listings_count        0\n",
       "availability_365                      0\n",
       "dtype: int64"
      ]
     },
     "execution_count": 93,
     "metadata": {},
     "output_type": "execute_result"
    }
   ],
   "source": [
    "# Where are missing values?\n",
    "df_sel.isnull().sum()"
   ]
  },
  {
   "cell_type": "code",
   "execution_count": 94,
   "id": "63fb4460-c5bc-48d7-8908-cda9f347f785",
   "metadata": {},
   "outputs": [
    {
     "data": {
      "text/plain": [
       "neighbourhood_group               0\n",
       "room_type                         0\n",
       "latitude                          0\n",
       "longitude                         0\n",
       "price                             0\n",
       "minimum_nights                    0\n",
       "number_of_reviews                 0\n",
       "reviews_per_month                 0\n",
       "calculated_host_listings_count    0\n",
       "availability_365                  0\n",
       "dtype: int64"
      ]
     },
     "execution_count": 94,
     "metadata": {},
     "output_type": "execute_result"
    }
   ],
   "source": [
    "# fill missing values\n",
    "df_sel = df_sel.fillna(0)\n",
    "df_sel.isnull().sum()"
   ]
  },
  {
   "cell_type": "markdown",
   "id": "8e582241-b373-4885-a3f5-8b496168a17b",
   "metadata": {
    "tags": []
   },
   "source": [
    "## Question 1\n",
    "\n",
    "What is the most frequent observation (mode) for the column 'neighbourhood_group'?"
   ]
  },
  {
   "cell_type": "code",
   "execution_count": 95,
   "id": "eaf9f9ec-e923-433a-8500-a9ea2e42ed56",
   "metadata": {},
   "outputs": [
    {
     "name": "stdout",
     "output_type": "stream",
     "text": [
      "Brooklyn: 20104\n",
      "Manhattan: 21661\n",
      "Queens: 5666\n",
      "Staten Island: 373\n",
      "Bronx: 1091\n"
     ]
    }
   ],
   "source": [
    "nu = df_sel[\"neighbourhood_group\"].unique()\n",
    "for i in nu:\n",
    "    print(f\"{i}: {df_sel['neighbourhood_group'].value_counts()[i]}\")"
   ]
  },
  {
   "cell_type": "markdown",
   "id": "7d5ed258-e08d-40d5-8020-0639ee2e560a",
   "metadata": {},
   "source": [
    "* The most frequent observation is \"Manhattan\".\n",
    "* Alternative:"
   ]
  },
  {
   "cell_type": "code",
   "execution_count": 96,
   "id": "04d34fcb-15d6-43a6-8708-0b63395ea499",
   "metadata": {},
   "outputs": [
    {
     "data": {
      "text/plain": [
       "0    Manhattan\n",
       "dtype: object"
      ]
     },
     "execution_count": 96,
     "metadata": {},
     "output_type": "execute_result"
    }
   ],
   "source": [
    "df_sel[\"neighbourhood_group\"].mode()"
   ]
  },
  {
   "cell_type": "markdown",
   "id": "4f1ba2d2-ce9a-438e-bb0a-f6f2772d7147",
   "metadata": {},
   "source": [
    "## Split the data\n",
    "\n",
    "* Split your data in train/val/test sets, with 60%/20%/20% distribution.\n",
    "* Use Scikit-Learn for that (the ````train_test_split``` function) and set the seed to 42.\n",
    "* Make sure that the target value (```'price'```) is not in your dataframe."
   ]
  },
  {
   "cell_type": "code",
   "execution_count": 97,
   "id": "9def06c0-a664-489f-8df6-0922a829ad39",
   "metadata": {},
   "outputs": [],
   "source": [
    "df_train_full, df_test = train_test_split(df_sel, test_size=0.2, random_state=42, shuffle=True)\n",
    "df_train, df_val = train_test_split(df_train_full, test_size=0.25, random_state=42, shuffle=True)"
   ]
  },
  {
   "cell_type": "code",
   "execution_count": 98,
   "id": "c6d79e8d-c6d9-40c4-b0b7-92d3a12cda62",
   "metadata": {},
   "outputs": [
    {
     "name": "stdout",
     "output_type": "stream",
     "text": [
      "df_train_full length: 39116, df_train length: 29337, df_val length: 9779, df_test length: 9779\n"
     ]
    }
   ],
   "source": [
    "print(f\"df_train_full length: {len(df_train_full)}, df_train length: {len(df_train)}, df_val length: {len(df_val)}, df_test length: {len(df_test)}\")"
   ]
  },
  {
   "cell_type": "code",
   "execution_count": 99,
   "id": "397b206e-919f-4683-af76-6fc74e76654a",
   "metadata": {},
   "outputs": [],
   "source": [
    "# Define target\n",
    "y_train_full = df_train_full.price \n",
    "y_train = df_train.price \n",
    "y_val = df_val.price \n",
    "y_test = df_test.price "
   ]
  },
  {
   "cell_type": "code",
   "execution_count": 100,
   "id": "4a6dbd85-156a-45c0-9568-24c854d00ba2",
   "metadata": {
    "tags": []
   },
   "outputs": [],
   "source": [
    "del df_train_full[\"price\"]\n",
    "del df_train[\"price\"]\n",
    "del df_val[\"price\"]\n",
    "del df_test[\"price\"]"
   ]
  },
  {
   "cell_type": "code",
   "execution_count": 101,
   "id": "9bc6d4b1-a290-4954-a0ef-19f0b8e0695d",
   "metadata": {},
   "outputs": [],
   "source": [
    "df_train_full = df_train_full.reset_index(drop=True)\n",
    "df_train = df_train.reset_index(drop=True)\n",
    "df_val = df_val.reset_index(drop=True)\n",
    "df_test = df_test.reset_index(drop=True)"
   ]
  },
  {
   "cell_type": "code",
   "execution_count": 102,
   "id": "7c8fcdbb-6510-44b9-b16a-048c93035524",
   "metadata": {},
   "outputs": [
    {
     "data": {
      "text/html": [
       "<div>\n",
       "<style scoped>\n",
       "    .dataframe tbody tr th:only-of-type {\n",
       "        vertical-align: middle;\n",
       "    }\n",
       "\n",
       "    .dataframe tbody tr th {\n",
       "        vertical-align: top;\n",
       "    }\n",
       "\n",
       "    .dataframe thead th {\n",
       "        text-align: right;\n",
       "    }\n",
       "</style>\n",
       "<table border=\"1\" class=\"dataframe\">\n",
       "  <thead>\n",
       "    <tr style=\"text-align: right;\">\n",
       "      <th></th>\n",
       "      <th>neighbourhood_group</th>\n",
       "      <th>room_type</th>\n",
       "      <th>latitude</th>\n",
       "      <th>longitude</th>\n",
       "      <th>minimum_nights</th>\n",
       "      <th>number_of_reviews</th>\n",
       "      <th>reviews_per_month</th>\n",
       "      <th>calculated_host_listings_count</th>\n",
       "      <th>availability_365</th>\n",
       "    </tr>\n",
       "  </thead>\n",
       "  <tbody>\n",
       "    <tr>\n",
       "      <th>0</th>\n",
       "      <td>Brooklyn</td>\n",
       "      <td>Entire home/apt</td>\n",
       "      <td>40.71577</td>\n",
       "      <td>-73.95530</td>\n",
       "      <td>3</td>\n",
       "      <td>11</td>\n",
       "      <td>0.87</td>\n",
       "      <td>1</td>\n",
       "      <td>1</td>\n",
       "    </tr>\n",
       "    <tr>\n",
       "      <th>1</th>\n",
       "      <td>Manhattan</td>\n",
       "      <td>Private room</td>\n",
       "      <td>40.84917</td>\n",
       "      <td>-73.94048</td>\n",
       "      <td>2</td>\n",
       "      <td>2</td>\n",
       "      <td>0.16</td>\n",
       "      <td>1</td>\n",
       "      <td>0</td>\n",
       "    </tr>\n",
       "    <tr>\n",
       "      <th>2</th>\n",
       "      <td>Brooklyn</td>\n",
       "      <td>Private room</td>\n",
       "      <td>40.68993</td>\n",
       "      <td>-73.95947</td>\n",
       "      <td>2</td>\n",
       "      <td>0</td>\n",
       "      <td>0.00</td>\n",
       "      <td>2</td>\n",
       "      <td>0</td>\n",
       "    </tr>\n",
       "    <tr>\n",
       "      <th>3</th>\n",
       "      <td>Brooklyn</td>\n",
       "      <td>Entire home/apt</td>\n",
       "      <td>40.68427</td>\n",
       "      <td>-73.93118</td>\n",
       "      <td>3</td>\n",
       "      <td>87</td>\n",
       "      <td>4.91</td>\n",
       "      <td>1</td>\n",
       "      <td>267</td>\n",
       "    </tr>\n",
       "    <tr>\n",
       "      <th>4</th>\n",
       "      <td>Queens</td>\n",
       "      <td>Private room</td>\n",
       "      <td>40.74705</td>\n",
       "      <td>-73.89564</td>\n",
       "      <td>5</td>\n",
       "      <td>13</td>\n",
       "      <td>0.25</td>\n",
       "      <td>1</td>\n",
       "      <td>0</td>\n",
       "    </tr>\n",
       "  </tbody>\n",
       "</table>\n",
       "</div>"
      ],
      "text/plain": [
       "  neighbourhood_group        room_type  latitude  longitude  minimum_nights  \\\n",
       "0            Brooklyn  Entire home/apt  40.71577  -73.95530               3   \n",
       "1           Manhattan     Private room  40.84917  -73.94048               2   \n",
       "2            Brooklyn     Private room  40.68993  -73.95947               2   \n",
       "3            Brooklyn  Entire home/apt  40.68427  -73.93118               3   \n",
       "4              Queens     Private room  40.74705  -73.89564               5   \n",
       "\n",
       "   number_of_reviews  reviews_per_month  calculated_host_listings_count  \\\n",
       "0                 11               0.87                               1   \n",
       "1                  2               0.16                               1   \n",
       "2                  0               0.00                               2   \n",
       "3                 87               4.91                               1   \n",
       "4                 13               0.25                               1   \n",
       "\n",
       "   availability_365  \n",
       "0                 1  \n",
       "1                 0  \n",
       "2                 0  \n",
       "3               267  \n",
       "4                 0  "
      ]
     },
     "execution_count": 102,
     "metadata": {},
     "output_type": "execute_result"
    }
   ],
   "source": [
    "df_train_full.head()"
   ]
  },
  {
   "cell_type": "markdown",
   "id": "7f4a778f-19c2-4e65-b63b-044b7b6e5dcd",
   "metadata": {},
   "source": [
    "## Question 2\n",
    "\n",
    "* Create the correlation matrix for the numerical features of your train dataset.\n",
    "* In a correlation matrix, you compute the correlation coefficient between every pair of features in the dataset.\n",
    "* What are the two features that have the biggest correlation in this dataset?\n"
   ]
  },
  {
   "cell_type": "code",
   "execution_count": 103,
   "id": "25c48b59-4055-4389-9b6b-a75313746f94",
   "metadata": {},
   "outputs": [
    {
     "data": {
      "text/plain": [
       "neighbourhood_group                object\n",
       "room_type                          object\n",
       "latitude                          float64\n",
       "longitude                         float64\n",
       "minimum_nights                      int64\n",
       "number_of_reviews                   int64\n",
       "reviews_per_month                 float64\n",
       "calculated_host_listings_count      int64\n",
       "availability_365                    int64\n",
       "dtype: object"
      ]
     },
     "execution_count": 103,
     "metadata": {},
     "output_type": "execute_result"
    }
   ],
   "source": [
    "df_train.dtypes"
   ]
  },
  {
   "cell_type": "code",
   "execution_count": 104,
   "id": "b6aa1611-128b-47fc-ade5-558d153477dc",
   "metadata": {},
   "outputs": [],
   "source": [
    "numerical = [\"latitude\", \"longitude\", \"minimum_nights\", \"number_of_reviews\", \"reviews_per_month\", \n",
    "             \"calculated_host_listings_count\", \"availability_365\"]\n",
    "categorical = [\"neighbourhood_group\", \"room_type\"]"
   ]
  },
  {
   "cell_type": "code",
   "execution_count": 105,
   "id": "ee02b81b-d23b-4ee5-88e0-811d638a3dd4",
   "metadata": {},
   "outputs": [
    {
     "data": {
      "text/html": [
       "<div>\n",
       "<style scoped>\n",
       "    .dataframe tbody tr th:only-of-type {\n",
       "        vertical-align: middle;\n",
       "    }\n",
       "\n",
       "    .dataframe tbody tr th {\n",
       "        vertical-align: top;\n",
       "    }\n",
       "\n",
       "    .dataframe thead th {\n",
       "        text-align: right;\n",
       "    }\n",
       "</style>\n",
       "<table border=\"1\" class=\"dataframe\">\n",
       "  <thead>\n",
       "    <tr style=\"text-align: right;\">\n",
       "      <th></th>\n",
       "      <th>latitude</th>\n",
       "      <th>longitude</th>\n",
       "      <th>minimum_nights</th>\n",
       "      <th>number_of_reviews</th>\n",
       "      <th>reviews_per_month</th>\n",
       "      <th>calculated_host_listings_count</th>\n",
       "      <th>availability_365</th>\n",
       "    </tr>\n",
       "  </thead>\n",
       "  <tbody>\n",
       "    <tr>\n",
       "      <th>latitude</th>\n",
       "      <td>1.000000</td>\n",
       "      <td>0.080301</td>\n",
       "      <td>0.027441</td>\n",
       "      <td>-0.006246</td>\n",
       "      <td>-0.007159</td>\n",
       "      <td>0.019375</td>\n",
       "      <td>-0.005891</td>\n",
       "    </tr>\n",
       "    <tr>\n",
       "      <th>longitude</th>\n",
       "      <td>0.080301</td>\n",
       "      <td>1.000000</td>\n",
       "      <td>-0.060660</td>\n",
       "      <td>0.055084</td>\n",
       "      <td>0.134642</td>\n",
       "      <td>-0.117041</td>\n",
       "      <td>0.083666</td>\n",
       "    </tr>\n",
       "    <tr>\n",
       "      <th>minimum_nights</th>\n",
       "      <td>0.027441</td>\n",
       "      <td>-0.060660</td>\n",
       "      <td>1.000000</td>\n",
       "      <td>-0.076020</td>\n",
       "      <td>-0.120703</td>\n",
       "      <td>0.118647</td>\n",
       "      <td>0.138901</td>\n",
       "    </tr>\n",
       "    <tr>\n",
       "      <th>number_of_reviews</th>\n",
       "      <td>-0.006246</td>\n",
       "      <td>0.055084</td>\n",
       "      <td>-0.076020</td>\n",
       "      <td>1.000000</td>\n",
       "      <td>0.590374</td>\n",
       "      <td>-0.073167</td>\n",
       "      <td>0.174477</td>\n",
       "    </tr>\n",
       "    <tr>\n",
       "      <th>reviews_per_month</th>\n",
       "      <td>-0.007159</td>\n",
       "      <td>0.134642</td>\n",
       "      <td>-0.120703</td>\n",
       "      <td>0.590374</td>\n",
       "      <td>1.000000</td>\n",
       "      <td>-0.048767</td>\n",
       "      <td>0.165376</td>\n",
       "    </tr>\n",
       "    <tr>\n",
       "      <th>calculated_host_listings_count</th>\n",
       "      <td>0.019375</td>\n",
       "      <td>-0.117041</td>\n",
       "      <td>0.118647</td>\n",
       "      <td>-0.073167</td>\n",
       "      <td>-0.048767</td>\n",
       "      <td>1.000000</td>\n",
       "      <td>0.225913</td>\n",
       "    </tr>\n",
       "    <tr>\n",
       "      <th>availability_365</th>\n",
       "      <td>-0.005891</td>\n",
       "      <td>0.083666</td>\n",
       "      <td>0.138901</td>\n",
       "      <td>0.174477</td>\n",
       "      <td>0.165376</td>\n",
       "      <td>0.225913</td>\n",
       "      <td>1.000000</td>\n",
       "    </tr>\n",
       "  </tbody>\n",
       "</table>\n",
       "</div>"
      ],
      "text/plain": [
       "                                latitude  longitude  minimum_nights  \\\n",
       "latitude                        1.000000   0.080301        0.027441   \n",
       "longitude                       0.080301   1.000000       -0.060660   \n",
       "minimum_nights                  0.027441  -0.060660        1.000000   \n",
       "number_of_reviews              -0.006246   0.055084       -0.076020   \n",
       "reviews_per_month              -0.007159   0.134642       -0.120703   \n",
       "calculated_host_listings_count  0.019375  -0.117041        0.118647   \n",
       "availability_365               -0.005891   0.083666        0.138901   \n",
       "\n",
       "                                number_of_reviews  reviews_per_month  \\\n",
       "latitude                                -0.006246          -0.007159   \n",
       "longitude                                0.055084           0.134642   \n",
       "minimum_nights                          -0.076020          -0.120703   \n",
       "number_of_reviews                        1.000000           0.590374   \n",
       "reviews_per_month                        0.590374           1.000000   \n",
       "calculated_host_listings_count          -0.073167          -0.048767   \n",
       "availability_365                         0.174477           0.165376   \n",
       "\n",
       "                                calculated_host_listings_count  \\\n",
       "latitude                                              0.019375   \n",
       "longitude                                            -0.117041   \n",
       "minimum_nights                                        0.118647   \n",
       "number_of_reviews                                    -0.073167   \n",
       "reviews_per_month                                    -0.048767   \n",
       "calculated_host_listings_count                        1.000000   \n",
       "availability_365                                      0.225913   \n",
       "\n",
       "                                availability_365  \n",
       "latitude                               -0.005891  \n",
       "longitude                               0.083666  \n",
       "minimum_nights                          0.138901  \n",
       "number_of_reviews                       0.174477  \n",
       "reviews_per_month                       0.165376  \n",
       "calculated_host_listings_count          0.225913  \n",
       "availability_365                        1.000000  "
      ]
     },
     "execution_count": 105,
     "metadata": {},
     "output_type": "execute_result"
    }
   ],
   "source": [
    "corr_matrix = df_train[numerical].corr()\n",
    "corr_matrix"
   ]
  },
  {
   "cell_type": "code",
   "execution_count": 106,
   "id": "0e75bd46-9d00-4ee6-980c-53e99df61c09",
   "metadata": {},
   "outputs": [
    {
     "data": {
      "text/plain": [
       "latitude                        latitude                          1.000000\n",
       "longitude                       longitude                         1.000000\n",
       "calculated_host_listings_count  calculated_host_listings_count    1.000000\n",
       "reviews_per_month               reviews_per_month                 1.000000\n",
       "minimum_nights                  minimum_nights                    1.000000\n",
       "number_of_reviews               number_of_reviews                 1.000000\n",
       "availability_365                availability_365                  1.000000\n",
       "number_of_reviews               reviews_per_month                 0.590374\n",
       "reviews_per_month               number_of_reviews                 0.590374\n",
       "availability_365                calculated_host_listings_count    0.225913\n",
       "calculated_host_listings_count  availability_365                  0.225913\n",
       "availability_365                number_of_reviews                 0.174477\n",
       "number_of_reviews               availability_365                  0.174477\n",
       "availability_365                reviews_per_month                 0.165376\n",
       "reviews_per_month               availability_365                  0.165376\n",
       "availability_365                minimum_nights                    0.138901\n",
       "minimum_nights                  availability_365                  0.138901\n",
       "longitude                       reviews_per_month                 0.134642\n",
       "reviews_per_month               longitude                         0.134642\n",
       "calculated_host_listings_count  minimum_nights                    0.118647\n",
       "minimum_nights                  calculated_host_listings_count    0.118647\n",
       "availability_365                longitude                         0.083666\n",
       "longitude                       availability_365                  0.083666\n",
       "                                latitude                          0.080301\n",
       "latitude                        longitude                         0.080301\n",
       "longitude                       number_of_reviews                 0.055084\n",
       "number_of_reviews               longitude                         0.055084\n",
       "latitude                        minimum_nights                    0.027441\n",
       "minimum_nights                  latitude                          0.027441\n",
       "calculated_host_listings_count  latitude                          0.019375\n",
       "latitude                        calculated_host_listings_count    0.019375\n",
       "                                availability_365                 -0.005891\n",
       "availability_365                latitude                         -0.005891\n",
       "number_of_reviews               latitude                         -0.006246\n",
       "latitude                        number_of_reviews                -0.006246\n",
       "                                reviews_per_month                -0.007159\n",
       "reviews_per_month               latitude                         -0.007159\n",
       "calculated_host_listings_count  reviews_per_month                -0.048767\n",
       "reviews_per_month               calculated_host_listings_count   -0.048767\n",
       "minimum_nights                  longitude                        -0.060660\n",
       "longitude                       minimum_nights                   -0.060660\n",
       "calculated_host_listings_count  number_of_reviews                -0.073167\n",
       "number_of_reviews               calculated_host_listings_count   -0.073167\n",
       "                                minimum_nights                   -0.076020\n",
       "minimum_nights                  number_of_reviews                -0.076020\n",
       "longitude                       calculated_host_listings_count   -0.117041\n",
       "calculated_host_listings_count  longitude                        -0.117041\n",
       "minimum_nights                  reviews_per_month                -0.120703\n",
       "reviews_per_month               minimum_nights                   -0.120703\n",
       "dtype: float64"
      ]
     },
     "execution_count": 106,
     "metadata": {},
     "output_type": "execute_result"
    }
   ],
   "source": [
    "# sort values\n",
    "s = corr_matrix.unstack()\n",
    "so = s.sort_values(ascending=False)\n",
    "so"
   ]
  },
  {
   "cell_type": "markdown",
   "id": "668d6e9e-9b79-4452-b2f7-109d3ad3b713",
   "metadata": {},
   "source": [
    "* Answer: The highest correlation is between \"reviews_per_month\" and \"number_of_reviews\""
   ]
  },
  {
   "cell_type": "markdown",
   "id": "367be550-d271-40ad-8e45-b45c082450f0",
   "metadata": {},
   "source": [
    "## Make price binary\n",
    "\n",
    "* We need to turn the price variable from numeric into binary.\n",
    "* Let's create a variable ```above_average``` which is ```1``` if the price is above (or equal to) ```152```."
   ]
  },
  {
   "cell_type": "code",
   "execution_count": 107,
   "id": "a1a1409d-b436-4dac-85e9-b90e8a1112f5",
   "metadata": {},
   "outputs": [
    {
     "data": {
      "text/plain": [
       "array([0, 0, 0, ..., 1, 0, 0])"
      ]
     },
     "execution_count": 107,
     "metadata": {},
     "output_type": "execute_result"
    }
   ],
   "source": [
    "above_average_train_full = (y_train_full >= 152).astype(int).values\n",
    "above_average_train = (y_train >= 152).astype(int).values\n",
    "above_average_val = (y_val >= 152).astype(int).values\n",
    "above_average_test = (y_test >= 152).astype(int).values\n",
    "above_average_train"
   ]
  },
  {
   "cell_type": "markdown",
   "id": "15e1a71a-a845-42d6-92e7-3e16db6f988a",
   "metadata": {},
   "source": [
    "## Question 3\n",
    "\n",
    "* Calculate the mutual information score with the (binarized) price for the two categorical variables that we have. Use the training set only.\n",
    "* Which of these two variables has bigger score?\n",
    "* Round it to 2 decimal digits using ```round(score, 2)```"
   ]
  },
  {
   "cell_type": "code",
   "execution_count": 108,
   "id": "aca5ec1d-ac28-4c94-aa01-564106ac1bf9",
   "metadata": {},
   "outputs": [
    {
     "name": "stdout",
     "output_type": "stream",
     "text": [
      "neighbourhood_group: 0.04650605348506435\n",
      "room_type: 0.14322617342090396\n"
     ]
    }
   ],
   "source": [
    "for c in categorical:\n",
    "    print(f\"{c}: {mutual_info_score(above_average_train, df_train[c])}\")"
   ]
  },
  {
   "cell_type": "markdown",
   "id": "64ccd5c1-e1ae-467c-b579-23e4b3dca160",
   "metadata": {},
   "source": [
    "* Answer: The mutual score between ```\"room_type\"``` and ```above_average\"``` is higher than the mutual score between ```\"neighbourhood_group\"``` and ```\"above_average\"```."
   ]
  },
  {
   "cell_type": "markdown",
   "id": "de474666-6298-4f52-9d47-45ab8dcb1d5e",
   "metadata": {},
   "source": [
    "## Question 4\n",
    "\n",
    "* Now let's train a logistic regression\n",
    "* Remember that we have two categorical variables in the data. Include them using one-hot encoding.\n",
    "* Fit the model on the training dataset.\n",
    "    * To make sure the results are reproducible across different versions of Scikit-Learn, fit the model with these parameters:\n",
    "    * ```model = LogisticRegression(solver='lbfgs', C=1.0, random_state=42)```\n",
    "* Calculate the accuracy on the validation dataset and round it to 2 decimal digits."
   ]
  },
  {
   "cell_type": "code",
   "execution_count": 109,
   "id": "7e571722-3d4e-4c1e-a8c9-cb4bf1f472a9",
   "metadata": {},
   "outputs": [],
   "source": [
    "# convert dataframe to dictionary\n",
    "dicts_train_full = df_train_full[categorical+numerical].to_dict(orient=\"records\")\n",
    "dicts_train = df_train[categorical+numerical].to_dict(orient=\"records\")\n",
    "dicts_val = df_val[categorical+numerical].to_dict(orient=\"records\")\n",
    "dicts_test = df_test[categorical+numerical].to_dict(orient=\"records\")"
   ]
  },
  {
   "cell_type": "code",
   "execution_count": 110,
   "id": "1bb71635-4265-4ee8-84ea-31ede16a55c6",
   "metadata": {},
   "outputs": [
    {
     "data": {
      "text/plain": [
       "DictVectorizer()"
      ]
     },
     "execution_count": 110,
     "metadata": {},
     "output_type": "execute_result"
    }
   ],
   "source": [
    "# one-hot encoding\n",
    "dv = DictVectorizer()\n",
    "dv.fit(dicts_train)"
   ]
  },
  {
   "cell_type": "code",
   "execution_count": 111,
   "id": "44dec0f6-cb42-499e-8486-48e2f793039d",
   "metadata": {},
   "outputs": [
    {
     "name": "stderr",
     "output_type": "stream",
     "text": [
      "/home/jens/miniconda3/envs/ml-zoomcamp/lib/python3.9/site-packages/sklearn/utils/deprecation.py:87: FutureWarning: Function get_feature_names is deprecated; get_feature_names is deprecated in 1.0 and will be removed in 1.2. Please use get_feature_names_out instead.\n",
      "  warnings.warn(msg, category=FutureWarning)\n"
     ]
    },
    {
     "data": {
      "text/plain": [
       "['availability_365',\n",
       " 'calculated_host_listings_count',\n",
       " 'latitude',\n",
       " 'longitude',\n",
       " 'minimum_nights',\n",
       " 'neighbourhood_group=Bronx',\n",
       " 'neighbourhood_group=Brooklyn',\n",
       " 'neighbourhood_group=Manhattan',\n",
       " 'neighbourhood_group=Queens',\n",
       " 'neighbourhood_group=Staten Island',\n",
       " 'number_of_reviews',\n",
       " 'reviews_per_month',\n",
       " 'room_type=Entire home/apt',\n",
       " 'room_type=Private room',\n",
       " 'room_type=Shared room']"
      ]
     },
     "execution_count": 111,
     "metadata": {},
     "output_type": "execute_result"
    }
   ],
   "source": [
    "dv.get_feature_names()"
   ]
  },
  {
   "cell_type": "code",
   "execution_count": 112,
   "id": "d5f89e1d-4cb5-4894-b055-f2886f4d90ac",
   "metadata": {},
   "outputs": [],
   "source": [
    "X_train = dv.transform(dicts_train)\n",
    "X_val = dv.transform(dicts_val)"
   ]
  },
  {
   "cell_type": "code",
   "execution_count": 113,
   "id": "dcc4a444-bac1-464d-8fce-6fd550d6f335",
   "metadata": {},
   "outputs": [
    {
     "name": "stderr",
     "output_type": "stream",
     "text": [
      "/home/jens/miniconda3/envs/ml-zoomcamp/lib/python3.9/site-packages/sklearn/linear_model/_logistic.py:814: ConvergenceWarning: lbfgs failed to converge (status=1):\n",
      "STOP: TOTAL NO. of ITERATIONS REACHED LIMIT.\n",
      "\n",
      "Increase the number of iterations (max_iter) or scale the data as shown in:\n",
      "    https://scikit-learn.org/stable/modules/preprocessing.html\n",
      "Please also refer to the documentation for alternative solver options:\n",
      "    https://scikit-learn.org/stable/modules/linear_model.html#logistic-regression\n",
      "  n_iter_i = _check_optimize_result(\n"
     ]
    },
    {
     "data": {
      "text/plain": [
       "LogisticRegression(random_state=42)"
      ]
     },
     "execution_count": 113,
     "metadata": {},
     "output_type": "execute_result"
    }
   ],
   "source": [
    "model = LogisticRegression(solver='lbfgs', C=1.0, random_state=42)\n",
    "model.fit(X_train, above_average_train)"
   ]
  },
  {
   "cell_type": "code",
   "execution_count": 114,
   "id": "dfbf4f5c-7487-441f-a7ec-752820e0b424",
   "metadata": {},
   "outputs": [
    {
     "data": {
      "text/plain": [
       "array([0.03145732, 0.57807102, 0.41602726, ..., 0.09248241, 0.03240703,\n",
       "       0.63858722])"
      ]
     },
     "execution_count": 114,
     "metadata": {},
     "output_type": "execute_result"
    }
   ],
   "source": [
    "# predictions\n",
    "y_pred = model.predict_proba(X_val)[:,1]\n",
    "y_pred"
   ]
  },
  {
   "cell_type": "code",
   "execution_count": 115,
   "id": "87ad129e-fabc-4dc8-a361-159aae3cffc6",
   "metadata": {},
   "outputs": [
    {
     "data": {
      "text/plain": [
       "array([False,  True, False, ..., False, False,  True])"
      ]
     },
     "execution_count": 115,
     "metadata": {},
     "output_type": "execute_result"
    }
   ],
   "source": [
    "y_dec = (y_pred > 0.5)\n",
    "y_dec"
   ]
  },
  {
   "cell_type": "code",
   "execution_count": 116,
   "id": "a9fae03b-a05c-45b1-9848-0e6b4d0742b3",
   "metadata": {},
   "outputs": [
    {
     "data": {
      "text/plain": [
       "0.7862767154105736"
      ]
     },
     "execution_count": 116,
     "metadata": {},
     "output_type": "execute_result"
    }
   ],
   "source": [
    "# compare to real values\n",
    "(y_dec == above_average_val).mean()"
   ]
  },
  {
   "cell_type": "markdown",
   "id": "573c30b9-7b60-4a09-bb06-fbf957d1d72c",
   "metadata": {},
   "source": [
    "* The accuracy on the validation set is ~79%"
   ]
  },
  {
   "cell_type": "markdown",
   "id": "6d65027a-f796-4b9c-94b9-ce5dd9c4e160",
   "metadata": {},
   "source": [
    "## Question 5\n",
    " \n",
    "* We have 9 features: 7 numerical features and 2 categorical.\n",
    "* Let's find the least useful one using the feature elimination technique.\n",
    "* Train a model with all these features (using the same parameters as in Q4).\n",
    "* Now exclude each feature from this set and train a model without it. Record the accuracy for each model.\n",
    "* For each feature, calculate the difference between the original accuracy and the accuracy without the feature.\n",
    "* Which of following feature has the smallest difference?\n",
    "    * ```neighbourhood_group```\n",
    "    * ```room_type```\n",
    "    * ```number_of_reviews```\n",
    "    * ```reviews_per_month```\n",
    "\n",
    "**note:** the difference doesn't have to be positive"
   ]
  },
  {
   "cell_type": "code",
   "execution_count": 117,
   "id": "c73d8b3d-8eae-49cd-b51e-96841c0d0ded",
   "metadata": {},
   "outputs": [
    {
     "data": {
      "text/plain": [
       "['latitude',\n",
       " 'longitude',\n",
       " 'minimum_nights',\n",
       " 'number_of_reviews',\n",
       " 'reviews_per_month',\n",
       " 'calculated_host_listings_count',\n",
       " 'availability_365',\n",
       " 'neighbourhood_group',\n",
       " 'room_type']"
      ]
     },
     "execution_count": 117,
     "metadata": {},
     "output_type": "execute_result"
    }
   ],
   "source": [
    "numerical+categorical"
   ]
  },
  {
   "cell_type": "code",
   "execution_count": 118,
   "id": "f63caa60-b837-4f32-97c3-0c30f6b0d679",
   "metadata": {
    "tags": []
   },
   "outputs": [
    {
     "name": "stdout",
     "output_type": "stream",
     "text": [
      "feature deleted: latitude\n"
     ]
    },
    {
     "name": "stderr",
     "output_type": "stream",
     "text": [
      "/home/jens/miniconda3/envs/ml-zoomcamp/lib/python3.9/site-packages/sklearn/linear_model/_logistic.py:814: ConvergenceWarning: lbfgs failed to converge (status=1):\n",
      "STOP: TOTAL NO. of ITERATIONS REACHED LIMIT.\n",
      "\n",
      "Increase the number of iterations (max_iter) or scale the data as shown in:\n",
      "    https://scikit-learn.org/stable/modules/preprocessing.html\n",
      "Please also refer to the documentation for alternative solver options:\n",
      "    https://scikit-learn.org/stable/modules/linear_model.html#logistic-regression\n",
      "  n_iter_i = _check_optimize_result(\n"
     ]
    },
    {
     "name": "stdout",
     "output_type": "stream",
     "text": [
      "Accuracy: 0.7863789753553533\n",
      "feature deleted: longitude\n"
     ]
    },
    {
     "name": "stderr",
     "output_type": "stream",
     "text": [
      "/home/jens/miniconda3/envs/ml-zoomcamp/lib/python3.9/site-packages/sklearn/linear_model/_logistic.py:814: ConvergenceWarning: lbfgs failed to converge (status=1):\n",
      "STOP: TOTAL NO. of ITERATIONS REACHED LIMIT.\n",
      "\n",
      "Increase the number of iterations (max_iter) or scale the data as shown in:\n",
      "    https://scikit-learn.org/stable/modules/preprocessing.html\n",
      "Please also refer to the documentation for alternative solver options:\n",
      "    https://scikit-learn.org/stable/modules/linear_model.html#logistic-regression\n",
      "  n_iter_i = _check_optimize_result(\n"
     ]
    },
    {
     "name": "stdout",
     "output_type": "stream",
     "text": [
      "Accuracy: 0.7867880151344718\n",
      "feature deleted: minimum_nights\n"
     ]
    },
    {
     "name": "stderr",
     "output_type": "stream",
     "text": [
      "/home/jens/miniconda3/envs/ml-zoomcamp/lib/python3.9/site-packages/sklearn/linear_model/_logistic.py:814: ConvergenceWarning: lbfgs failed to converge (status=1):\n",
      "STOP: TOTAL NO. of ITERATIONS REACHED LIMIT.\n",
      "\n",
      "Increase the number of iterations (max_iter) or scale the data as shown in:\n",
      "    https://scikit-learn.org/stable/modules/preprocessing.html\n",
      "Please also refer to the documentation for alternative solver options:\n",
      "    https://scikit-learn.org/stable/modules/linear_model.html#logistic-regression\n",
      "  n_iter_i = _check_optimize_result(\n"
     ]
    },
    {
     "name": "stdout",
     "output_type": "stream",
     "text": [
      "Accuracy: 0.7852541159627774\n",
      "feature deleted: number_of_reviews\n"
     ]
    },
    {
     "name": "stderr",
     "output_type": "stream",
     "text": [
      "/home/jens/miniconda3/envs/ml-zoomcamp/lib/python3.9/site-packages/sklearn/linear_model/_logistic.py:814: ConvergenceWarning: lbfgs failed to converge (status=1):\n",
      "STOP: TOTAL NO. of ITERATIONS REACHED LIMIT.\n",
      "\n",
      "Increase the number of iterations (max_iter) or scale the data as shown in:\n",
      "    https://scikit-learn.org/stable/modules/preprocessing.html\n",
      "Please also refer to the documentation for alternative solver options:\n",
      "    https://scikit-learn.org/stable/modules/linear_model.html#logistic-regression\n",
      "  n_iter_i = _check_optimize_result(\n"
     ]
    },
    {
     "name": "stdout",
     "output_type": "stream",
     "text": [
      "Accuracy: 0.7865834952449126\n",
      "feature deleted: reviews_per_month\n"
     ]
    },
    {
     "name": "stderr",
     "output_type": "stream",
     "text": [
      "/home/jens/miniconda3/envs/ml-zoomcamp/lib/python3.9/site-packages/sklearn/linear_model/_logistic.py:814: ConvergenceWarning: lbfgs failed to converge (status=1):\n",
      "STOP: TOTAL NO. of ITERATIONS REACHED LIMIT.\n",
      "\n",
      "Increase the number of iterations (max_iter) or scale the data as shown in:\n",
      "    https://scikit-learn.org/stable/modules/preprocessing.html\n",
      "Please also refer to the documentation for alternative solver options:\n",
      "    https://scikit-learn.org/stable/modules/linear_model.html#logistic-regression\n",
      "  n_iter_i = _check_optimize_result(\n"
     ]
    },
    {
     "name": "stdout",
     "output_type": "stream",
     "text": [
      "Accuracy: 0.7851518560179978\n",
      "feature deleted: calculated_host_listings_count\n"
     ]
    },
    {
     "name": "stderr",
     "output_type": "stream",
     "text": [
      "/home/jens/miniconda3/envs/ml-zoomcamp/lib/python3.9/site-packages/sklearn/linear_model/_logistic.py:814: ConvergenceWarning: lbfgs failed to converge (status=1):\n",
      "STOP: TOTAL NO. of ITERATIONS REACHED LIMIT.\n",
      "\n",
      "Increase the number of iterations (max_iter) or scale the data as shown in:\n",
      "    https://scikit-learn.org/stable/modules/preprocessing.html\n",
      "Please also refer to the documentation for alternative solver options:\n",
      "    https://scikit-learn.org/stable/modules/linear_model.html#logistic-regression\n",
      "  n_iter_i = _check_optimize_result(\n"
     ]
    },
    {
     "name": "stdout",
     "output_type": "stream",
     "text": [
      "Accuracy: 0.7866857551896922\n",
      "feature deleted: availability_365\n"
     ]
    },
    {
     "name": "stderr",
     "output_type": "stream",
     "text": [
      "/home/jens/miniconda3/envs/ml-zoomcamp/lib/python3.9/site-packages/sklearn/linear_model/_logistic.py:814: ConvergenceWarning: lbfgs failed to converge (status=1):\n",
      "STOP: TOTAL NO. of ITERATIONS REACHED LIMIT.\n",
      "\n",
      "Increase the number of iterations (max_iter) or scale the data as shown in:\n",
      "    https://scikit-learn.org/stable/modules/preprocessing.html\n",
      "Please also refer to the documentation for alternative solver options:\n",
      "    https://scikit-learn.org/stable/modules/linear_model.html#logistic-regression\n",
      "  n_iter_i = _check_optimize_result(\n"
     ]
    },
    {
     "name": "stdout",
     "output_type": "stream",
     "text": [
      "Accuracy: 0.7815727579507107\n",
      "feature deleted: neighbourhood_group\n",
      "Accuracy: 0.7509970344616014\n",
      "feature deleted: room_type\n",
      "Accuracy: 0.7161263932917477\n"
     ]
    },
    {
     "name": "stderr",
     "output_type": "stream",
     "text": [
      "/home/jens/miniconda3/envs/ml-zoomcamp/lib/python3.9/site-packages/sklearn/linear_model/_logistic.py:814: ConvergenceWarning: lbfgs failed to converge (status=1):\n",
      "STOP: TOTAL NO. of ITERATIONS REACHED LIMIT.\n",
      "\n",
      "Increase the number of iterations (max_iter) or scale the data as shown in:\n",
      "    https://scikit-learn.org/stable/modules/preprocessing.html\n",
      "Please also refer to the documentation for alternative solver options:\n",
      "    https://scikit-learn.org/stable/modules/linear_model.html#logistic-regression\n",
      "  n_iter_i = _check_optimize_result(\n"
     ]
    }
   ],
   "source": [
    "acc_list = []\n",
    "del_feat = []\n",
    "for f in ['latitude',\n",
    "         'longitude',\n",
    "         'minimum_nights',\n",
    "         'number_of_reviews',\n",
    "         'reviews_per_month',\n",
    "         'calculated_host_listings_count',\n",
    "         'availability_365',\n",
    "         'neighbourhood_group',\n",
    "         'room_type']:\n",
    "    \n",
    "    list_all = numerical+categorical\n",
    "    list_all.remove(f)\n",
    "    \n",
    "    del_feat.append(f)\n",
    "    print(f\"feature deleted: {f}\")\n",
    "    \n",
    "    dicts_train = df_train[list_all].to_dict(orient=\"records\")\n",
    "    dicts_val = df_val[list_all].to_dict(orient=\"records\")\n",
    "    \n",
    "    dv = DictVectorizer()\n",
    "    dv.fit(dicts_train)\n",
    "    \n",
    "    X_train = dv.transform(dicts_train)\n",
    "    X_val = dv.transform(dicts_val)\n",
    "    \n",
    "    # fit model\n",
    "    model = LogisticRegression(solver='lbfgs', C=1.0, random_state=42)\n",
    "    model.fit(X_train, above_average_train)\n",
    "    \n",
    "    # predictions\n",
    "    y_pred = model.predict_proba(X_val)[:,1]\n",
    "    y_dec = (y_pred > 0.5)\n",
    "    \n",
    "    # accuracy\n",
    "    acc = (y_dec == above_average_val).mean()\n",
    "    \n",
    "    print(f\"Accuracy: {acc}\")\n",
    "    \n",
    "    acc_list.append(acc)"
   ]
  },
  {
   "cell_type": "code",
   "execution_count": 119,
   "id": "9cd751cd-07e3-479e-b611-54eacd02e581",
   "metadata": {},
   "outputs": [
    {
     "data": {
      "text/plain": [
       "[('latitude', 0.7863789753553533),\n",
       " ('longitude', 0.7867880151344718),\n",
       " ('minimum_nights', 0.7852541159627774),\n",
       " ('number_of_reviews', 0.7865834952449126),\n",
       " ('reviews_per_month', 0.7851518560179978),\n",
       " ('calculated_host_listings_count', 0.7866857551896922),\n",
       " ('availability_365', 0.7815727579507107),\n",
       " ('neighbourhood_group', 0.7509970344616014),\n",
       " ('room_type', 0.7161263932917477)]"
      ]
     },
     "execution_count": 119,
     "metadata": {},
     "output_type": "execute_result"
    }
   ],
   "source": [
    "list(zip(del_feat,acc_list))"
   ]
  },
  {
   "cell_type": "markdown",
   "id": "15d19950-49b3-4926-96f8-b33f29b1d815",
   "metadata": {},
   "source": [
    "* Answer: The least useful feature is ```room_type```"
   ]
  },
  {
   "cell_type": "markdown",
   "id": "f7b9f9c9-2d75-4faa-b169-dd4989eb85ec",
   "metadata": {},
   "source": [
    "## Question 6\n",
    "\n",
    "* For this question, we'll see how to use a linear regression model from Scikit-Learn\n",
    "* We'll need to use the original column ```'price'```. Apply the logarithmic transformation to this column.\n",
    "* Fit the Ridge regression model on the training data.\n",
    "* This model has a parameter ```alpha```. Let's try the following values: ```[0, 0.01, 0.1, 1, 10]```\n",
    "* Which of these alphas leads to the best RMSE on the validation set? Round your RMSE scores to 3 decimal digits.\n",
    "\n",
    "If there are multiple options, select the smallest ```alpha```."
   ]
  },
  {
   "cell_type": "markdown",
   "id": "b7fbf1d7-5b20-4573-9f8c-c5d078794b20",
   "metadata": {},
   "source": [
    "* Ridge model: Linear least squares with l2 regularization."
   ]
  },
  {
   "cell_type": "code",
   "execution_count": 129,
   "id": "b4bd3f1b-288a-41c3-b6fe-5508107f3109",
   "metadata": {},
   "outputs": [
    {
     "data": {
      "text/plain": [
       "Ridge(alpha=1)"
      ]
     },
     "execution_count": 129,
     "metadata": {},
     "output_type": "execute_result"
    }
   ],
   "source": [
    "# default alpha\n",
    "model = Ridge(alpha=1)\n",
    "# log transformation\n",
    "y_train_log = np.log1p(y_train)\n",
    "y_val_log = np.log1p(y_val)\n",
    "model.fit(X_train, y_train_log)"
   ]
  },
  {
   "cell_type": "code",
   "execution_count": 147,
   "id": "99aa4661-5e5e-44ee-98db-8db5137c6603",
   "metadata": {},
   "outputs": [
    {
     "data": {
      "image/png": "[encoded data removed]",
      "text/plain": [
       "<Figure size 1080x360 with 2 Axes>"
      ]
     },
     "metadata": {
      "needs_background": "light"
     },
     "output_type": "display_data"
    }
   ],
   "source": [
    "# compare y_train and y_train_log\n",
    "fig, axes = plt.subplots(1,2, figsize=(15,5))\n",
    "axes[0].set_title(\"original y_train\")\n",
    "sns.histplot(y_train, ax=axes[0], bins=50)\n",
    "axes[1].set_title(\"log transformed y_train\")\n",
    "sns.histplot(y_train_log, ax=axes[1], bins=50);"
   ]
  },
  {
   "cell_type": "code",
   "execution_count": 130,
   "id": "0a4f189e-82fe-45bd-93e5-5a60d55c7e97",
   "metadata": {},
   "outputs": [],
   "source": [
    "y_pred = model.predict(X_val)"
   ]
  },
  {
   "cell_type": "code",
   "execution_count": 131,
   "id": "890bfff8-59d9-46c5-bb0b-fafc7941ea81",
   "metadata": {},
   "outputs": [
    {
     "data": {
      "text/plain": [
       "0.6425579972863262"
      ]
     },
     "execution_count": 131,
     "metadata": {},
     "output_type": "execute_result"
    }
   ],
   "source": [
    "mean_squared_error(y_pred, y_val_log, squared=False)"
   ]
  },
  {
   "cell_type": "code",
   "execution_count": 132,
   "id": "79f0f19f-dfce-44b4-ae49-cfd2e7fe442e",
   "metadata": {},
   "outputs": [
    {
     "name": "stdout",
     "output_type": "stream",
     "text": [
      "alpha: 0, RMSE: 157.299\n",
      "alpha: 0.01, RMSE: 157.299\n",
      "alpha: 0.1, RMSE: 157.298\n",
      "alpha: 1, RMSE: 157.297\n",
      "alpha: 10, RMSE: 157.285\n"
     ]
    }
   ],
   "source": [
    "# Try different alpha\n",
    "alpha = [0, 0.01, 0.1, 1, 10]\n",
    "for a in alpha:\n",
    "    model = Ridge(alpha=a)\n",
    "    model.fit(X_train, y_train)\n",
    "    \n",
    "    y_pred = model.predict(X_val)\n",
    "    \n",
    "    rmse = mean_squared_error(y_pred, y_val_log, squared=False)\n",
    "    print(f\"alpha: {a}, RMSE: {round(rmse, 3)}\")"
   ]
  },
  {
   "cell_type": "markdown",
   "id": "d9973985-5075-4a16-8b42-c5547bedba6f",
   "metadata": {},
   "source": [
    "* Answer: The lowest RMSE is alpha = 10"
   ]
  }
 ],
 "metadata": {
  "kernelspec": {
   "display_name": "ml-zoomcamp",
   "language": "python",
   "name": "ml-zoomcamp"
  },
  "language_info": {
   "codemirror_mode": {
    "name": "ipython",
    "version": 3
   },
   "file_extension": ".py",
   "mimetype": "text/x-python",
   "name": "python",
   "nbconvert_exporter": "python",
   "pygments_lexer": "ipython3",
   "version": "3.9.7"
  }
 },
 "nbformat": 4,
 "nbformat_minor": 5
}
