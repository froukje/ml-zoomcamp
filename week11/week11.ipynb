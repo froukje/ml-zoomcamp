{
 "cells": [
  {
   "cell_type": "markdown",
   "id": "9abe4774",
   "metadata": {},
   "source": [
    "# KServe\n",
    "\n",
    "* KServe is a framework for deploying machine learning models on the top of kubernetes.\n",
    "* https://github.com/kserve/kserve\n",
    "* \"KServe provides a Kubernetes Custom Resource Definition for serving machine learning (ML) models on arbitrary frameworks. It aims to solve production model serving use cases by providing performant, high abstraction interfaces for common ML frameworks like Tensorflow, XGBoost, ScikitLearn, PyTorch, and ONNX.\"\n",
    "* Used to be part of Kubeflow.\n",
    "    * Free and open source ML platform, that runs on Kubernetes\n",
    "* We will deploy the same model as previsouly, this time we will use KServe.\n",
    "\n",
    "![overview](Screenshot_01.png)"
   ]
  },
  {
   "cell_type": "markdown",
   "id": "538afd05",
   "metadata": {},
   "source": [
    "First we will use a simpler (sklearn-model) in order to understand KServe\n",
    "![sklearn](Screenshot_02.png)"
   ]
  },
  {
   "cell_type": "markdown",
   "id": "9168ed52",
   "metadata": {},
   "source": [
    "# Running KServe locally\n",
    "* Installing KServe locally with Kind\n",
    "    * Delete old cluster and create a new one:\n",
    "        ```kind delete cluster```\n",
    "        ```kind create cluster```\n",
    "    * Install KServe. KServe Homepage: https://kserve.github.io/website/0.8/get_started/\n",
    "    * Download the installation file ```wget https://raw.githubusercontent.com/kserve/kserve/release-0.8/hack/quick_install.sh```\n",
    "    * Execute the file ```bash quick_install.sh```\n",
    "* Deploying an example model from the documentation"
   ]
  },
  {
   "cell_type": "markdown",
   "id": "4ef5ebc2",
   "metadata": {},
   "source": [
    "# Deploy a Scikit Learn Model with KServe\n",
    "* Training the churn model with specific Scikit learn version\n",
    "* Deploy the churn prediction model with KServe"
   ]
  },
  {
   "cell_type": "markdown",
   "id": "b1f980fd",
   "metadata": {},
   "source": [
    "# Deploy Custom Scikit Learn Images with KServe\n",
    "* Customizing the scikit learn image \n",
    "* Running KServe service locally"
   ]
  },
  {
   "cell_type": "markdown",
   "id": "917c38ea",
   "metadata": {},
   "source": [
    "# Serving Tensorflow Models with KServe\n",
    "* Convert the keras model to saved_model format\n",
    "* Deploy the model\n",
    "* Prepare the input"
   ]
  },
  {
   "cell_type": "markdown",
   "id": "7a2c0bd5",
   "metadata": {},
   "source": [
    "# KServe Transformers\n",
    "* Why do we need transformers\n",
    "* Creating a service for pre- and post-processing\n",
    "* Using existing transformers"
   ]
  },
  {
   "cell_type": "markdown",
   "id": "929242df",
   "metadata": {},
   "source": [
    "# Deploy with KServe and EKS\n",
    "* Create an EKS Cluster\n",
    "* Install KServe on EKS\n",
    "* Configure the domain\n",
    "* Setting up S3 access\n",
    "* Deploy the clothing model\n"
   ]
  },
  {
   "cell_type": "markdown",
   "id": "d64b64b0",
   "metadata": {},
   "source": [
    "# Summary\n",
    "* Less yaml, faster deployment\n",
    "* Less stability\n",
    "* The need for Ops is not gone"
   ]
  },
  {
   "cell_type": "markdown",
   "id": "7729edb8",
   "metadata": {},
   "source": [
    "# Explore more\n",
    "* Helm Charts\n",
    "* Kubeflow, Kubeflow pipelines\n",
    "* Sagemaker\n",
    "* A lot of vendors that take care of Ops"
   ]
  },
  {
   "cell_type": "code",
   "execution_count": null,
   "id": "c982ccca",
   "metadata": {},
   "outputs": [],
   "source": []
  }
 ],
 "metadata": {
  "kernelspec": {
   "display_name": "Python 3",
   "language": "python",
   "name": "python3"
  },
  "language_info": {
   "codemirror_mode": {
    "name": "ipython",
    "version": 3
   },
   "file_extension": ".py",
   "mimetype": "text/x-python",
   "name": "python",
   "nbconvert_exporter": "python",
   "pygments_lexer": "ipython3",
   "version": "3.9.7"
  }
 },
 "nbformat": 4,
 "nbformat_minor": 5
}
