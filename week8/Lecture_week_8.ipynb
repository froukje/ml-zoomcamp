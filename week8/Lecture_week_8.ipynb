{
 "cells": [
  {
   "cell_type": "markdown",
   "id": "13c590df",
   "metadata": {},
   "source": [
    "# Deep Learning\n",
    "\n",
    "* This week, we'll learn about neural nets and build a model for classifying images of clothes\n",
    "* We will use Tensorflow"
   ]
  },
  {
   "cell_type": "markdown",
   "id": "996a69e0",
   "metadata": {},
   "source": [
    "## Data: Fashion Classification\n",
    "\n",
    "* https://www.kaggle.com/datasets/zalando-research/fashionmnist"
   ]
  },
  {
   "cell_type": "code",
   "execution_count": null,
   "id": "d857db9c",
   "metadata": {},
   "outputs": [],
   "source": []
  }
 ],
 "metadata": {
  "kernelspec": {
   "display_name": "ml-zoomcamp",
   "language": "python",
   "name": "ml-zoomcamp"
  },
  "language_info": {
   "codemirror_mode": {
    "name": "ipython",
    "version": 3
   },
   "file_extension": ".py",
   "mimetype": "text/x-python",
   "name": "python",
   "nbconvert_exporter": "python",
   "pygments_lexer": "ipython3",
   "version": "3.9.7"
  }
 },
 "nbformat": 4,
 "nbformat_minor": 5
}
