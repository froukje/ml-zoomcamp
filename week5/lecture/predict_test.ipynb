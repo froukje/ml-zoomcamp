{
 "cells": [
  {
   "cell_type": "code",
   "execution_count": 15,
   "id": "c412f817",
   "metadata": {},
   "outputs": [
    {
     "data": {
      "application/javascript": [
       "IPython.notebook.set_autosave_interval(0)"
      ]
     },
     "metadata": {},
     "output_type": "display_data"
    },
    {
     "name": "stdout",
     "output_type": "stream",
     "text": [
      "Autosave disabled\n"
     ]
    }
   ],
   "source": [
    "%autosave 0"
   ]
  },
  {
   "cell_type": "code",
   "execution_count": 16,
   "id": "30ca167b",
   "metadata": {},
   "outputs": [],
   "source": [
    "# Use the web service\n",
    "import requests"
   ]
  },
  {
   "cell_type": "code",
   "execution_count": 17,
   "id": "f61368df",
   "metadata": {},
   "outputs": [],
   "source": [
    "url = \"http://localhost:9696/predict\""
   ]
  },
  {
   "cell_type": "code",
   "execution_count": 18,
   "id": "71d04c34",
   "metadata": {},
   "outputs": [],
   "source": [
    "customer = {\n",
    "    \"gender\": \"female\",\n",
    "    \"seniorcitizen\": 0,\n",
    "    \"partner\": \"yes\",\n",
    "    \"dependents\": \"no\",\n",
    "    \"phoneservice\": \"no\",\n",
    "    \"multiplelines\": \"no_phone_service\",\n",
    "    \"internetservice\": \"dsl\",\n",
    "    \"onlinesecurity\": \"no\",\n",
    "    \"deviceprotection\": \"no\",\n",
    "    \"techsupport\": \"no\",\n",
    "    \"streamingtv\": \"no\",\n",
    "    \"streamingmovies\": \"no\",\n",
    "    \"contract\": \"month-to-month\",\n",
    "    \"paperlessbilling\": \"yes\",\n",
    "    \"paymentmethod\": \"electronic_check\",\n",
    "    \"tenure\": 1,\n",
    "    \"monthlycharges\": 29.85,\n",
    "    \"totalcharges\": 29.85\n",
    "}"
   ]
  },
  {
   "cell_type": "code",
   "execution_count": 19,
   "id": "0d4f15c9",
   "metadata": {},
   "outputs": [
    {
     "data": {
      "text/plain": [
       "{'gender': 'female',\n",
       " 'seniorcitizen': 0,\n",
       " 'partner': 'yes',\n",
       " 'dependents': 'no',\n",
       " 'phoneservice': 'no',\n",
       " 'multiplelines': 'no_phone_service',\n",
       " 'internetservice': 'dsl',\n",
       " 'onlinesecurity': 'no',\n",
       " 'deviceprotection': 'no',\n",
       " 'techsupport': 'no',\n",
       " 'streamingtv': 'no',\n",
       " 'streamingmovies': 'no',\n",
       " 'contract': 'month-to-month',\n",
       " 'paperlessbilling': 'yes',\n",
       " 'paymentmethod': 'electronic_check',\n",
       " 'tenure': 1,\n",
       " 'monthlycharges': 29.85,\n",
       " 'totalcharges': 29.85}"
      ]
     },
     "execution_count": 19,
     "metadata": {},
     "output_type": "execute_result"
    }
   ],
   "source": [
    "customer"
   ]
  },
  {
   "cell_type": "code",
   "execution_count": 20,
   "id": "8b293b22",
   "metadata": {},
   "outputs": [
    {
     "data": {
      "text/plain": [
       "<Response [200]>"
      ]
     },
     "execution_count": 20,
     "metadata": {},
     "output_type": "execute_result"
    }
   ],
   "source": [
    "# send this customer in a post request\n",
    "requests.post(url, json=customer)"
   ]
  },
  {
   "cell_type": "code",
   "execution_count": 27,
   "id": "beff433e",
   "metadata": {},
   "outputs": [
    {
     "data": {
      "text/plain": [
       "{'churn': True, 'churn_probability': 0.6638191204255028}"
      ]
     },
     "execution_count": 27,
     "metadata": {},
     "output_type": "execute_result"
    }
   ],
   "source": [
    "# See the actual response\n",
    "response = requests.post(url, json=customer).json()\n",
    "response"
   ]
  },
  {
   "cell_type": "code",
   "execution_count": 28,
   "id": "a326e062",
   "metadata": {},
   "outputs": [
    {
     "name": "stdout",
     "output_type": "stream",
     "text": [
      "sending promo e-mail to xyz-123\n"
     ]
    }
   ],
   "source": [
    "id = \"xyz-123\"\n",
    "if response[\"churn\"] == True:\n",
    "    print(f\"sending promo e-mail to {id}\")"
   ]
  },
  {
   "cell_type": "code",
   "execution_count": null,
   "id": "fbd2597f",
   "metadata": {},
   "outputs": [],
   "source": []
  }
 ],
 "metadata": {
  "kernelspec": {
   "display_name": "Python 3",
   "language": "python",
   "name": "python3"
  },
  "language_info": {
   "codemirror_mode": {
    "name": "ipython",
    "version": 3
   },
   "file_extension": ".py",
   "mimetype": "text/x-python",
   "name": "python",
   "nbconvert_exporter": "python",
   "pygments_lexer": "ipython3",
   "version": "3.9.7"
  }
 },
 "nbformat": 4,
 "nbformat_minor": 5
}
