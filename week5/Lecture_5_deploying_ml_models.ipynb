{
 "cells": [
  {
   "cell_type": "markdown",
   "id": "14111bc0-a03f-4e9e-b1f2-182eee5e87a7",
   "metadata": {},
   "source": [
    "# Deploying Machine Learning Models\n",
    "\n",
    "* Train a model\n",
    "* Save the model\n",
    "* Use the model in a web service\n",
    "\n",
    "![Overview](Screenshot_1.png)\n",
    "\n",
    "**Code from previous weeks to train the model**"
   ]
  },
  {
   "cell_type": "markdown",
   "id": "ecad5428-75b5-4085-b2e8-4d7a49a3700c",
   "metadata": {},
   "source": [
    "## Setup"
   ]
  },
  {
   "cell_type": "code",
   "execution_count": 1,
   "id": "fce0b80b-d06d-45ce-8bf6-d6a781676d55",
   "metadata": {},
   "outputs": [],
   "source": [
    "import pandas as pd\n",
    "import numpy as np\n",
    "\n",
    "from sklearn.model_selection import train_test_split\n",
    "from sklearn.model_selection import KFold\n",
    "\n",
    "from sklearn.feature_extraction import DictVectorizer\n",
    "from sklearn.linear_model import LogisticRegression\n",
    "from sklearn.metrics import roc_auc_score"
   ]
  },
  {
   "cell_type": "markdown",
   "id": "ad79a796-a520-4c45-87cf-2ff157caef6e",
   "metadata": {},
   "source": [
    "## Read and prepare the Data"
   ]
  },
  {
   "cell_type": "code",
   "execution_count": 2,
   "id": "3c0c49ee-9e56-4dd4-8829-d3d9e2d8202c",
   "metadata": {},
   "outputs": [],
   "source": [
    "df = pd.read_csv(\"../data/WA_Fn-UseC_-Telco-Customer-Churn.csv\")\n",
    "\n",
    "df.columns = df.columns.str.lower().str.replace(' ', '_')\n",
    "\n",
    "categorical_columns = list(df.dtypes[df.dtypes == 'object'].index)\n",
    "\n",
    "for c in categorical_columns:\n",
    "    df[c] = df[c].str.lower().str.replace(' ', '_')\n",
    "\n",
    "df.totalcharges = pd.to_numeric(df.totalcharges, errors='coerce')\n",
    "df.totalcharges = df.totalcharges.fillna(0)\n",
    "\n",
    "df.churn = (df.churn == 'yes').astype(int)"
   ]
  },
  {
   "cell_type": "code",
   "execution_count": 4,
   "id": "3d196b1b-c915-4f71-9d32-a130711f1742",
   "metadata": {},
   "outputs": [],
   "source": [
    "df_full_train, df_test = train_test_split(df, test_size=0.2, random_state=1)"
   ]
  },
  {
   "cell_type": "code",
   "execution_count": 5,
   "id": "ba5142c2-1657-420c-ae4a-7375fa018fc0",
   "metadata": {},
   "outputs": [],
   "source": [
    "numerical = ['tenure', 'monthlycharges', 'totalcharges']\n",
    "\n",
    "categorical = [\n",
    "    'gender',\n",
    "    'seniorcitizen',\n",
    "    'partner',\n",
    "    'dependents',\n",
    "    'phoneservice',\n",
    "    'multiplelines',\n",
    "    'internetservice',\n",
    "    'onlinesecurity',\n",
    "    'onlinebackup',\n",
    "    'deviceprotection',\n",
    "    'techsupport',\n",
    "    'streamingtv',\n",
    "    'streamingmovies',\n",
    "    'contract',\n",
    "    'paperlessbilling',\n",
    "    'paymentmethod',\n",
    "]"
   ]
  },
  {
   "cell_type": "markdown",
   "id": "2c711340-ba08-44d4-ac04-ee787aded433",
   "metadata": {},
   "source": [
    "## Train the Model"
   ]
  },
  {
   "cell_type": "code",
   "execution_count": 6,
   "id": "ec4c9051-cf60-4d1d-8b3b-95553b7b0652",
   "metadata": {},
   "outputs": [],
   "source": [
    "def train(df_train, y_train, C=1.0):\n",
    "    dicts = df_train[categorical + numerical].to_dict(orient='records')\n",
    "\n",
    "    dv = DictVectorizer(sparse=False)\n",
    "    X_train = dv.fit_transform(dicts)\n",
    "\n",
    "    model = LogisticRegression(C=C, max_iter=1000)\n",
    "    model.fit(X_train, y_train)\n",
    "    \n",
    "    return dv, model"
   ]
  },
  {
   "cell_type": "code",
   "execution_count": 7,
   "id": "e7d33dfe-15ac-4962-b8b4-eabe169d9b98",
   "metadata": {},
   "outputs": [],
   "source": [
    "def predict(df, dv, model):\n",
    "    dicts = df[categorical + numerical].to_dict(orient='records')\n",
    "\n",
    "    X = dv.transform(dicts)\n",
    "    y_pred = model.predict_proba(X)[:, 1]\n",
    "\n",
    "    return y_pred"
   ]
  },
  {
   "cell_type": "code",
   "execution_count": 8,
   "id": "44f05b4c-3d7a-4902-ba63-dfbbcfa3f97b",
   "metadata": {},
   "outputs": [],
   "source": [
    "C = 1.0\n",
    "n_splits = 5"
   ]
  },
  {
   "cell_type": "code",
   "execution_count": 9,
   "id": "15b1f7e0-f9da-4fc0-bf34-aa8e47185803",
   "metadata": {},
   "outputs": [
    {
     "name": "stdout",
     "output_type": "stream",
     "text": [
      "C=1.0 0.840 +- 0.008\n"
     ]
    }
   ],
   "source": [
    "kfold = KFold(n_splits=n_splits, shuffle=True, random_state=1)\n",
    "\n",
    "scores = []\n",
    "\n",
    "for train_idx, val_idx in kfold.split(df_full_train):\n",
    "    df_train = df_full_train.iloc[train_idx]\n",
    "    df_val = df_full_train.iloc[val_idx]\n",
    "\n",
    "    y_train = df_train.churn.values\n",
    "    y_val = df_val.churn.values\n",
    "\n",
    "    dv, model = train(df_train, y_train, C=C)\n",
    "    y_pred = predict(df_val, dv, model)\n",
    "\n",
    "    auc = roc_auc_score(y_val, y_pred)\n",
    "    scores.append(auc)\n",
    "\n",
    "print('C=%s %.3f +- %.3f' % (C, np.mean(scores), np.std(scores)))"
   ]
  },
  {
   "cell_type": "code",
   "execution_count": 10,
   "id": "eefcd569-b77e-40cb-9230-1319f214552d",
   "metadata": {},
   "outputs": [
    {
     "data": {
      "text/plain": [
       "[0.8420689059666695,\n",
       " 0.8455854357038802,\n",
       " 0.8325025085289987,\n",
       " 0.8301724275756219,\n",
       " 0.8510401305261838]"
      ]
     },
     "execution_count": 10,
     "metadata": {},
     "output_type": "execute_result"
    }
   ],
   "source": [
    "scores"
   ]
  },
  {
   "cell_type": "code",
   "execution_count": 11,
   "id": "5df43d19-d828-453e-8559-af2f55658fab",
   "metadata": {},
   "outputs": [
    {
     "data": {
      "text/plain": [
       "0.8572386167896259"
      ]
     },
     "execution_count": 11,
     "metadata": {},
     "output_type": "execute_result"
    }
   ],
   "source": [
    "dv, model = train(df_full_train, df_full_train.churn.values, C=1.0)\n",
    "y_pred = predict(df_test, dv, model)\n",
    "\n",
    "y_test = df_test.churn.values\n",
    "\n",
    "auc = roc_auc_score(y_test, y_pred)\n",
    "auc"
   ]
  },
  {
   "cell_type": "markdown",
   "id": "5d6dc94b-200e-44ca-8d68-b3ee1594eee0",
   "metadata": {
    "tags": []
   },
   "source": [
    "## Saving and Loading the Model\n",
    "\n",
    "* Save the model to pickle\n",
    "* Load the model from pickle\n",
    "* Turn our model into a Python script"
   ]
  },
  {
   "cell_type": "markdown",
   "id": "884d2eec-2d92-4ec1-95f3-d723a5bf886a",
   "metadata": {},
   "source": [
    "### Save the model\n",
    "\n",
    "* Use library \"pickle\" to write our model into a file \n",
    "* Libary to d¿save binary files"
   ]
  },
  {
   "cell_type": "code",
   "execution_count": 12,
   "id": "1f2878d0-a1dd-4c24-8911-95454b7bce7a",
   "metadata": {},
   "outputs": [],
   "source": [
    "import pickle"
   ]
  },
  {
   "cell_type": "code",
   "execution_count": 13,
   "id": "8a037ab5-66c8-4c37-ae10-caa48b8c9b4f",
   "metadata": {},
   "outputs": [
    {
     "data": {
      "text/plain": [
       "'model_C=1.0.bin'"
      ]
     },
     "execution_count": 13,
     "metadata": {},
     "output_type": "execute_result"
    }
   ],
   "source": [
    "output_file = f\"model_C={C}.bin\"\n",
    "output_file"
   ]
  },
  {
   "cell_type": "code",
   "execution_count": 14,
   "id": "c886f5dd-8e38-4769-a37a-6011b400b64c",
   "metadata": {},
   "outputs": [],
   "source": [
    "# write a binary file\n",
    "f_out = open(output_file, \"wb\")\n",
    "# save the model and the dictionary vectorizer (we need that in order to run the model)\n",
    "pickle.dump((dv, model), f_out)\n",
    "# close the file\n",
    "f_out.close()"
   ]
  },
  {
   "cell_type": "code",
   "execution_count": 15,
   "id": "22b75b3c-3e1b-40b6-998f-fb0942d187dd",
   "metadata": {},
   "outputs": [],
   "source": [
    "# alternative\n",
    "# this ensures that the file is closed, when the \"with\" statement is left\n",
    "with open(output_file, \"wb\") as f_out:\n",
    "    pickle.dump((dv, model), f_out)\n",
    "    # do stuff\n",
    "    \n",
    "# do other stuff (file is closed)"
   ]
  },
  {
   "cell_type": "markdown",
   "id": "884047db-bf26-4ae0-b4ee-f6b03fc22469",
   "metadata": {},
   "source": [
    "## Load the Model\n",
    "\n",
    "* Restart the kernel to pretend we are in a new process, that doesn't know the previous variables\n",
    "* sklearn does not need to be imported, but needs to be installed"
   ]
  },
  {
   "cell_type": "code",
   "execution_count": 1,
   "id": "18de7e74-44a1-47b3-80c2-3911719ab33f",
   "metadata": {},
   "outputs": [],
   "source": [
    "import pickle"
   ]
  },
  {
   "cell_type": "code",
   "execution_count": 2,
   "id": "b596306d-af6f-40b3-aa3f-4e1c14dee23b",
   "metadata": {},
   "outputs": [],
   "source": [
    "model_file = \"model_C=1.0.bin\""
   ]
  },
  {
   "cell_type": "code",
   "execution_count": 3,
   "id": "f66595dd-5244-4ed8-ab1d-12a0b267a471",
   "metadata": {},
   "outputs": [],
   "source": [
    "with open(model_file, \"rb\") as f_in:\n",
    "    dv, model = pickle.load(f_in)"
   ]
  },
  {
   "cell_type": "code",
   "execution_count": 4,
   "id": "27ce6bb9-e1b6-4efe-bd38-2cf1ec57cd40",
   "metadata": {},
   "outputs": [
    {
     "data": {
      "text/plain": [
       "(DictVectorizer(sparse=False), LogisticRegression(max_iter=1000))"
      ]
     },
     "execution_count": 4,
     "metadata": {},
     "output_type": "execute_result"
    }
   ],
   "source": [
    "dv, model"
   ]
  },
  {
   "cell_type": "code",
   "execution_count": 6,
   "id": "441df18a-e66d-460e-800a-29a788ea971d",
   "metadata": {},
   "outputs": [],
   "source": [
    "customer = {\n",
    "    \"gender\": \"female\",\n",
    "    \"seniorcitizen\": 0,\n",
    "    \"partner\": \"yes\",\n",
    "    \"dependents\": \"no\",\n",
    "    \"phoneservice\": \"no\",\n",
    "    \"multiplelines\": \"no_phone_service\",\n",
    "    \"internetservice\": \"dsl\",\n",
    "    \"onlinesecurity\": \"no\",\n",
    "    \"deviceprotection\": \"no\",\n",
    "    \"techsupport\": \"no\",\n",
    "    \"streamingtv\": \"no\",\n",
    "    \"streamingmovies\": \"no\",\n",
    "    \"contract\": \"month-to-month\",\n",
    "    \"paperlessbilling\": \"yes\",\n",
    "    \"paymentmethod\": \"electronic_check\",\n",
    "    \"tenure\": 1,\n",
    "    \"monthlycharges\": 29.85,\n",
    "    \"totalcharges\": 29.85\n",
    "}"
   ]
  },
  {
   "cell_type": "code",
   "execution_count": 7,
   "id": "5c66a532-1ed8-4713-b310-3db679534a41",
   "metadata": {},
   "outputs": [],
   "source": [
    "# turn this customer into a feature matrix\n",
    "X = dv.transform([customer])"
   ]
  },
  {
   "cell_type": "code",
   "execution_count": 11,
   "id": "267ab111-8f8e-4f07-bbac-d89c64092d09",
   "metadata": {},
   "outputs": [
    {
     "data": {
      "text/plain": [
       "0.6638191204255028"
      ]
     },
     "execution_count": 11,
     "metadata": {},
     "output_type": "execute_result"
    }
   ],
   "source": [
    "# probabilty that this customer churns\n",
    "model.predict_proba(X)[0,1]"
   ]
  },
  {
   "cell_type": "markdown",
   "id": "462113ce-d9a2-463b-b28e-e940554431cb",
   "metadata": {},
   "source": [
    "* This is how a model can be saved and used later for prediction\n",
    "* However, it is not convinient to do this all in a jupyter notebook\n",
    "* Create a single .py file that does all this"
   ]
  },
  {
   "cell_type": "markdown",
   "id": "ff91eb91-1f87-4ab9-8346-dbed03b8b03b",
   "metadata": {
    "jp-MarkdownHeadingCollapsed": true,
    "tags": []
   },
   "source": [
    "## Web Services: Introduction to Flask\n",
    "\n",
    "* Writing a simple ping/pong app\n",
    "* Querying it with \"curl\" and browser\n"
   ]
  },
  {
   "cell_type": "code",
   "execution_count": null,
   "id": "b5891bad-e5cc-486a-b206-6684afa1101e",
   "metadata": {},
   "outputs": [],
   "source": []
  },
  {
   "cell_type": "markdown",
   "id": "8e8e7757-39bb-432a-b055-7b917a450fee",
   "metadata": {},
   "source": [
    "## Serving the Churn Model with Flask\n",
    "\n",
    "* Wrapping the predict script into a Flask app\n",
    "* Querzing it with \"requests\"\n",
    "* Preparing for production: gunicorn\n",
    "* Running it on Windows with waitress"
   ]
  },
  {
   "cell_type": "code",
   "execution_count": null,
   "id": "7dd92c4f-4113-408c-ab32-7f1a9fed9a23",
   "metadata": {},
   "outputs": [],
   "source": []
  },
  {
   "cell_type": "markdown",
   "id": "d278b75c-c7db-4b34-b470-527479063b2d",
   "metadata": {},
   "source": [
    "## Dependency and Environment Management: Pipenv\n",
    "\n",
    "* Why we need virtual environments\n",
    "* Installing Pipenv\n",
    "* Installing libraries with Pipenv\n",
    "* Running things with Pipenv"
   ]
  },
  {
   "cell_type": "code",
   "execution_count": null,
   "id": "ecd77d6c-8db2-41db-a2b1-c11281d25d82",
   "metadata": {},
   "outputs": [],
   "source": []
  },
  {
   "cell_type": "markdown",
   "id": "c6834494-0993-492c-b270-1a494ee4e632",
   "metadata": {},
   "source": [
    "## Environment Management: Docker\n",
    "\n",
    "* Why we need docker\n",
    "* Running a Python Image with docker\n",
    "* Dockerfile\n",
    "* Building a docker image\n",
    "* Running a docker image"
   ]
  },
  {
   "cell_type": "code",
   "execution_count": null,
   "id": "e6cb7cb8-4c97-4c08-995f-012cae085c7e",
   "metadata": {},
   "outputs": [],
   "source": []
  },
  {
   "cell_type": "markdown",
   "id": "a9474314-b65d-4aab-9e61-ea04efa2f018",
   "metadata": {},
   "source": [
    "## Deploying to the Cloud: AWS Elastic Beanstalk (optional)\n",
    "\n",
    "* Installing the eb cli\n",
    "* Running eb locally\n",
    "* Deploying the model"
   ]
  },
  {
   "cell_type": "code",
   "execution_count": null,
   "id": "d6494199-2ce0-42eb-bddb-9273ea92031b",
   "metadata": {},
   "outputs": [],
   "source": []
  },
  {
   "cell_type": "markdown",
   "id": "bdf94500-a01c-441a-998d-196b724f29d5",
   "metadata": {},
   "source": [
    "## Explore More\n",
    "\n",
    "* Flask is not the only framework for creating web services. Try others, e.g. FastAPI\n",
    "* Experiment with other ways of managing environments, e.g., virtual env, conda,  poetry\n",
    "* Explore other ways of deploying web services, e.g. GCP, Azure, Heroku, Python Anywhere, etc. "
   ]
  },
  {
   "cell_type": "code",
   "execution_count": null,
   "id": "67d984a6-4469-4ddb-a0d1-781bfb2c1c1d",
   "metadata": {},
   "outputs": [],
   "source": []
  },
  {
   "cell_type": "markdown",
   "id": "53f52c3d-c18d-4213-af58-ebf4193628da",
   "metadata": {},
   "source": [
    "## Summary"
   ]
  },
  {
   "cell_type": "code",
   "execution_count": null,
   "id": "d78866aa-9ba2-427f-871a-64e8aafb65e7",
   "metadata": {},
   "outputs": [],
   "source": []
  }
 ],
 "metadata": {
  "kernelspec": {
   "display_name": "ml-zoomcamp",
   "language": "python",
   "name": "ml-zoomcamp"
  },
  "language_info": {
   "codemirror_mode": {
    "name": "ipython",
    "version": 3
   },
   "file_extension": ".py",
   "mimetype": "text/x-python",
   "name": "python",
   "nbconvert_exporter": "python",
   "pygments_lexer": "ipython3",
   "version": "3.9.7"
  }
 },
 "nbformat": 4,
 "nbformat_minor": 5
}
