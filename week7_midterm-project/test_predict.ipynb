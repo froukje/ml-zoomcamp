{
 "cells": [
  {
   "cell_type": "markdown",
   "id": "5489910f",
   "metadata": {},
   "source": [
    "Test the predict_flask.py skript"
   ]
  },
  {
   "cell_type": "code",
   "execution_count": 1,
   "id": "5dd8cf74",
   "metadata": {},
   "outputs": [],
   "source": [
    "import requests"
   ]
  },
  {
   "cell_type": "code",
   "execution_count": 2,
   "id": "fb2bf0d5",
   "metadata": {},
   "outputs": [],
   "source": [
    "url = \"http://10.193.167.24:9696/predict\""
   ]
  },
  {
   "cell_type": "code",
   "execution_count": 3,
   "id": "1b8d8431",
   "metadata": {},
   "outputs": [],
   "source": [
    "avocado = {\n",
    "        \"Unnamed: 0\": [11],\n",
    "        \"Date\": [\"2018-01-07\"],\n",
    "        \"Total Volume\": [17489.58],\n",
    "        4046: [2894.77],\n",
    "        4225: [2356.13],\n",
    "        4770: [224.53],\n",
    "        \"Total Bags\": [12014.15],\n",
    "        \"Small Bags\": [11988.14],\n",
    "        \"Large Bags\": [26.01],\n",
    "        \"XLarge Bags\": [0.0],\n",
    "        \"type\": [\"organic\"],\n",
    "        \"year\": [2018],\n",
    "        \"region\": [\"WestTexNewMexico\"]\n",
    "}"
   ]
  },
  {
   "cell_type": "code",
   "execution_count": 4,
   "id": "92fc54c2",
   "metadata": {},
   "outputs": [
    {
     "data": {
      "text/plain": [
       "{'Unnamed: 0': [11],\n",
       " 'Date': ['2018-01-07'],\n",
       " 'Total Volume': [17489.58],\n",
       " 4046: [2894.77],\n",
       " 4225: [2356.13],\n",
       " 4770: [224.53],\n",
       " 'Total Bags': [12014.15],\n",
       " 'Small Bags': [11988.14],\n",
       " 'Large Bags': [26.01],\n",
       " 'XLarge Bags': [0.0],\n",
       " 'type': ['organic'],\n",
       " 'year': [2018],\n",
       " 'region': ['WestTexNewMexico']}"
      ]
     },
     "execution_count": 4,
     "metadata": {},
     "output_type": "execute_result"
    }
   ],
   "source": [
    "avocado"
   ]
  },
  {
   "cell_type": "markdown",
   "id": "224cb0f6",
   "metadata": {},
   "source": [
    "Send this data as a POST request"
   ]
  },
  {
   "cell_type": "code",
   "execution_count": 6,
   "id": "4fbb1c6e",
   "metadata": {},
   "outputs": [
    {
     "data": {
      "text/plain": [
       "{'predicted_price': 1.0884724855422974}"
      ]
     },
     "execution_count": 6,
     "metadata": {},
     "output_type": "execute_result"
    }
   ],
   "source": [
    "requests.post(url, json=avocado).json()"
   ]
  },
  {
   "cell_type": "code",
   "execution_count": null,
   "id": "a703071e",
   "metadata": {},
   "outputs": [],
   "source": []
  }
 ],
 "metadata": {
  "kernelspec": {
   "display_name": "ml-zoomcamp",
   "language": "python",
   "name": "ml-zoomcamp"
  },
  "language_info": {
   "codemirror_mode": {
    "name": "ipython",
    "version": 3
   },
   "file_extension": ".py",
   "mimetype": "text/x-python",
   "name": "python",
   "nbconvert_exporter": "python",
   "pygments_lexer": "ipython3",
   "version": "3.9.7"
  }
 },
 "nbformat": 4,
 "nbformat_minor": 5
}
