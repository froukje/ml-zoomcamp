{
 "cells": [
  {
   "cell_type": "markdown",
   "id": "cff435f2-0261-4160-8e34-b5c56af2bb16",
   "metadata": {},
   "source": [
    "# Evaluation Metrics for Classification\n",
    "\n",
    "* Use the same data as in the previous session: Churn Prediction (Identify clients that want to leave the company)\n",
    "* Data https://www.kaggle.com/blastchar/telco-customer-churn"
   ]
  },
  {
   "cell_type": "markdown",
   "id": "a9c606de-f885-4881-ac03-2f91ee5dd3ff",
   "metadata": {},
   "source": [
    "## Review of previous Session\n",
    "\n",
    "* Metrics: A function, that compares the actual values with the predicted values. It outputs a single umber that measures the goodness of the model\n",
    "\n",
    "### Setup"
   ]
  },
  {
   "cell_type": "code",
   "execution_count": 2,
   "id": "d7a4bf0f-5824-4905-a374-b50d4279d4f1",
   "metadata": {},
   "outputs": [],
   "source": [
    "import pandas as pd\n",
    "import numpy as np\n",
    "\n",
    "from sklearn.model_selection import train_test_split\n",
    "from sklearn.metrics import mutual_info_score\n",
    "from sklearn.feature_extraction import DictVectorizer\n",
    "from sklearn.linear_model import LogisticRegression\n",
    "\n",
    "import matplotlib.pyplot as plt"
   ]
  },
  {
   "cell_type": "markdown",
   "id": "d49cb1f5-a3e5-4f0f-877d-1d67d1284379",
   "metadata": {},
   "source": [
    "### Load Data"
   ]
  },
  {
   "cell_type": "code",
   "execution_count": 3,
   "id": "9541f68c-d164-4097-a35e-c9894e4fba1d",
   "metadata": {},
   "outputs": [],
   "source": [
    "df = pd.read_csv(\"../data/WA_Fn-UseC_-Telco-Customer-Churn.csv\")"
   ]
  },
  {
   "cell_type": "markdown",
   "id": "4b7472f5-def7-46c2-8d86-74f954f318c4",
   "metadata": {},
   "source": [
    "### Data Preparation"
   ]
  },
  {
   "cell_type": "code",
   "execution_count": 8,
   "id": "0715e0db-c953-47be-b645-97d7c5ab0570",
   "metadata": {},
   "outputs": [],
   "source": [
    "# Unify column names\n",
    "df.columns = df.columns.str.lower().str.replace(\" \", \"_\")\n",
    "# List of all categorical columns\n",
    "categorical_columns = list(df.dtypes[df.dtypes == object].index)\n",
    "# Unify categolrical columns\n",
    "for c in categorical_columns:\n",
    "    df[c] = df[c].str.lower().str.replace(\" \", \"_\")\n",
    "\n",
    "# Change \"totalcharges to numeric and fill na with 0\n",
    "df.totalcharges = pd.to_numeric(df[\"totalcharges\"], errors=\"coerce\")\n",
    "df.totalcharges = df.totalcharges.fillna(0)\n",
    "\n",
    "# Change \"churn\" to type int\n",
    "df[\"churn\"] = (df[\"churn\"] == \"yes\").astype(int)"
   ]
  },
  {
   "cell_type": "markdown",
   "id": "0e47b2cf-747a-4970-ba4d-f02cbfe79f8d",
   "metadata": {},
   "source": [
    "### Model Setup"
   ]
  },
  {
   "cell_type": "code",
   "execution_count": 10,
   "id": "61ddad15-3767-4ac5-abff-b86e7bfa986c",
   "metadata": {},
   "outputs": [],
   "source": [
    "# 80% train + val = train_full, 20% test\n",
    "df_train_full, df_test = train_test_split(df, test_size=0.2, random_state=1)\n",
    "# 75% train, 25% val out of train_full \n",
    "# 60% train, 20% val, 20% test out of df\n",
    "df_train, df_val = train_test_split(df_train_full, test_size=0.25, random_state=1)\n",
    "\n",
    "# reset index\n",
    "df_train = df_train.reset_index(drop=True)\n",
    "df_val = df_val.reset_index(drop=True)\n",
    "df_test = df_test.reset_index(drop=True)\n",
    "\n",
    "y_train = df_train[\"churn\"]\n",
    "y_val = df_val[\"churn\"]\n",
    "y_test = df_test[\"churn\"]\n",
    "\n",
    "# delete \"churn from df_train, df_val, df_test (not from df)\n",
    "del df_train[\"churn\"]\n",
    "del df_val[\"churn\"]\n",
    "del df_test[\"churn\"]"
   ]
  },
  {
   "cell_type": "code",
   "execution_count": 11,
   "id": "81d44f24-cb7a-4b52-8b83-cffdd07e395a",
   "metadata": {},
   "outputs": [],
   "source": [
    "numerical = [\"tenure\", \"monthlycharges\", \"totalcharges\"]\n",
    "categorical = ['gender', 'seniorcitizen', 'partner', 'dependents',\n",
    "       'phoneservice', 'multiplelines', 'internetservice',\n",
    "       'onlinesecurity', 'onlinebackup', 'deviceprotection', 'techsupport',\n",
    "       'streamingtv', 'streamingmovies', 'contract', 'paperlessbilling',\n",
    "       'paymentmethod']"
   ]
  },
  {
   "cell_type": "code",
   "execution_count": 13,
   "id": "4ed56df1-a78f-4988-898d-6f82e0f2a0d0",
   "metadata": {
    "tags": []
   },
   "outputs": [
    {
     "name": "stderr",
     "output_type": "stream",
     "text": [
      "/home/jens/miniconda3/envs/ml-zoomcamp/lib/python3.9/site-packages/sklearn/linear_model/_logistic.py:814: ConvergenceWarning: lbfgs failed to converge (status=1):\n",
      "STOP: TOTAL NO. of ITERATIONS REACHED LIMIT.\n",
      "\n",
      "Increase the number of iterations (max_iter) or scale the data as shown in:\n",
      "    https://scikit-learn.org/stable/modules/preprocessing.html\n",
      "Please also refer to the documentation for alternative solver options:\n",
      "    https://scikit-learn.org/stable/modules/linear_model.html#logistic-regression\n",
      "  n_iter_i = _check_optimize_result(\n"
     ]
    },
    {
     "data": {
      "text/plain": [
       "LogisticRegression()"
      ]
     },
     "execution_count": 13,
     "metadata": {},
     "output_type": "execute_result"
    }
   ],
   "source": [
    "# First convert to dictionary\n",
    "train_dicts = df_train[categorical+numerical].to_dict(orient=\"records\")\n",
    "\n",
    "dv = DictVectorizer(sparse=False) # don't use sparse matrix\n",
    "dv.fit(train_dicts)\n",
    "X_train = dv.transform(train_dicts)\n",
    "\n",
    "val_dicts = df_val[categorical+numerical].to_dict(orient=\"records\")\n",
    "X_val = dv.transform(val_dicts)\n",
    "\n",
    "model = LogisticRegression()\n",
    "model.fit(X_train, y_train)"
   ]
  },
  {
   "cell_type": "markdown",
   "id": "a514ca21-d8b8-46c2-9590-1c6e5d3b9ec5",
   "metadata": {},
   "source": [
    "### Predictions"
   ]
  },
  {
   "cell_type": "code",
   "execution_count": 14,
   "id": "f3963b4f-51dc-4c2b-8933-fa2ad8f7580d",
   "metadata": {},
   "outputs": [
    {
     "data": {
      "text/plain": [
       "0.8034066713981547"
      ]
     },
     "execution_count": 14,
     "metadata": {},
     "output_type": "execute_result"
    }
   ],
   "source": [
    "y_pred = model.predict_proba(X_val)[:,1]\n",
    "churn_decision = (y_pred > 0.5)\n",
    "(y_val == churn_decision).mean()"
   ]
  },
  {
   "cell_type": "markdown",
   "id": "c3aade31-a89c-4af7-a64a-3c6d39266d4f",
   "metadata": {},
   "source": [
    "## Accuracy and Dummzy Model\n",
    "\n",
    "* Evaluate the model on different thresholds\n",
    "* Check the accuracy of the dummy baseline"
   ]
  },
  {
   "cell_type": "code",
   "execution_count": 19,
   "id": "548c0052-9abd-42ce-98fd-0088bad90367",
   "metadata": {},
   "outputs": [
    {
     "data": {
      "text/plain": [
       "1409"
      ]
     },
     "execution_count": 19,
     "metadata": {},
     "output_type": "execute_result"
    }
   ],
   "source": [
    "# How many validation values do we have?\n",
    "len(y_val)"
   ]
  },
  {
   "cell_type": "code",
   "execution_count": 20,
   "id": "7bfe43fc-db2a-4f80-8373-4116ee4fdc3a",
   "metadata": {},
   "outputs": [
    {
     "data": {
      "text/plain": [
       "1132"
      ]
     },
     "execution_count": 20,
     "metadata": {},
     "output_type": "execute_result"
    }
   ],
   "source": [
    "# How many correct decisions did we take?\n",
    "(y_val == churn_decision).sum()"
   ]
  },
  {
   "cell_type": "markdown",
   "id": "03bc157d-37be-4159-ac1a-8073e082a340",
   "metadata": {},
   "source": [
    "* Accruracy: Correct Prediction / All Predictions"
   ]
  },
  {
   "cell_type": "code",
   "execution_count": 21,
   "id": "94043d4b-ba0e-4964-9935-a9de58f26b1c",
   "metadata": {},
   "outputs": [
    {
     "data": {
      "text/plain": [
       "0.8034066713981547"
      ]
     },
     "execution_count": 21,
     "metadata": {},
     "output_type": "execute_result"
    }
   ],
   "source": [
    "1132/1409"
   ]
  },
  {
   "cell_type": "markdown",
   "id": "5dadb639-28c5-4a86-8c3b-3ff18a0d0aa1",
   "metadata": {},
   "source": [
    "* Is the threshold of 0.5 good?\n",
    "* Test the model with different thresholds"
   ]
  },
  {
   "cell_type": "code",
   "execution_count": 22,
   "id": "b0df11ad-abe4-4f59-b393-343b1889e597",
   "metadata": {},
   "outputs": [
    {
     "data": {
      "text/plain": [
       "array([0.  , 0.05, 0.1 , 0.15, 0.2 , 0.25, 0.3 , 0.35, 0.4 , 0.45, 0.5 ,\n",
       "       0.55, 0.6 , 0.65, 0.7 , 0.75, 0.8 , 0.85, 0.9 , 0.95, 1.  ])"
      ]
     },
     "execution_count": 22,
     "metadata": {},
     "output_type": "execute_result"
    }
   ],
   "source": [
    "thresholds = np.linspace(0,1,21)\n",
    "thresholds"
   ]
  },
  {
   "cell_type": "code",
   "execution_count": 28,
   "id": "c8bc491a-bec8-43b7-b842-a0710395dc7d",
   "metadata": {},
   "outputs": [
    {
     "name": "stdout",
     "output_type": "stream",
     "text": [
      "threshold: 0.00, score: 0.274\n",
      "threshold: 0.05, score: 0.510\n",
      "threshold: 0.10, score: 0.591\n",
      "threshold: 0.15, score: 0.666\n",
      "threshold: 0.20, score: 0.710\n",
      "threshold: 0.25, score: 0.739\n",
      "threshold: 0.30, score: 0.760\n",
      "threshold: 0.35, score: 0.772\n",
      "threshold: 0.40, score: 0.785\n",
      "threshold: 0.45, score: 0.794\n",
      "threshold: 0.50, score: 0.803\n",
      "threshold: 0.55, score: 0.801\n",
      "threshold: 0.60, score: 0.796\n",
      "threshold: 0.65, score: 0.786\n",
      "threshold: 0.70, score: 0.766\n",
      "threshold: 0.75, score: 0.744\n",
      "threshold: 0.80, score: 0.734\n",
      "threshold: 0.85, score: 0.726\n",
      "threshold: 0.90, score: 0.726\n",
      "threshold: 0.95, score: 0.726\n",
      "threshold: 1.00, score: 0.726\n"
     ]
    }
   ],
   "source": [
    "scores = []\n",
    "for t in thresholds:\n",
    "    churn_decision = (y_pred > t)\n",
    "    score = (y_val == churn_decision).mean()\n",
    "    print(f\"threshold: {t:.2f}, score: {score:.3f}\")\n",
    "    scores.append(score)"
   ]
  },
  {
   "cell_type": "code",
   "execution_count": 29,
   "id": "b06d517f-5b3b-4914-9f96-3249960af188",
   "metadata": {},
   "outputs": [
    {
     "data": {
      "image/png": "[encoded data removed]",
      "text/plain": [
       "<Figure size 432x288 with 1 Axes>"
      ]
     },
     "metadata": {
      "needs_background": "light"
     },
     "output_type": "display_data"
    }
   ],
   "source": [
    "plt.plot(thresholds, scores);"
   ]
  },
  {
   "cell_type": "markdown",
   "id": "b5863d4d-9faa-453e-84bf-bd07c341abe6",
   "metadata": {},
   "source": [
    "* Here 0.5 is the best threshold, before and afterwards the accuracy is lower\n",
    "* Scikit-learn provides a function for the accuracy (above we wrote our own function)"
   ]
  },
  {
   "cell_type": "code",
   "execution_count": 30,
   "id": "e0b0c194-da7f-4800-9c80-c3f9dc01a040",
   "metadata": {},
   "outputs": [],
   "source": [
    "from sklearn.metrics import accuracy_score"
   ]
  },
  {
   "cell_type": "code",
   "execution_count": 33,
   "id": "15a4ffa1-c321-4cac-8454-938d466dc308",
   "metadata": {},
   "outputs": [
    {
     "data": {
      "text/plain": [
       "0.8034066713981547"
      ]
     },
     "execution_count": 33,
     "metadata": {},
     "output_type": "execute_result"
    }
   ],
   "source": [
    "accuracy_score(y_val, (y_pred > 0.5))"
   ]
  },
  {
   "cell_type": "markdown",
   "id": "2eb06644-8976-4f7d-ba85-6371313bd1e7",
   "metadata": {},
   "source": [
    "* Special cases: threshold = 0 and threshold = 1\n",
    "* threshold = 1 means, we are predicting that no customer is churning\n",
    "    * For this case (Dummy Model) the accuracy is ~73%\n",
    "* threshold = 0 means, we are predicting that all customers are churning\n",
    "* Our model gives an accuracy of 0.8"
   ]
  },
  {
   "cell_type": "code",
   "execution_count": 37,
   "id": "5fcc8336-5ba7-49ca-a159-d20a1f6e1208",
   "metadata": {},
   "outputs": [
    {
     "data": {
      "text/plain": [
       "0.7260468417317246"
      ]
     },
     "execution_count": 37,
     "metadata": {},
     "output_type": "execute_result"
    }
   ],
   "source": [
    "# non-churning users\n",
    "1 - y_val.mean()"
   ]
  },
  {
   "cell_type": "markdown",
   "id": "55cd79f1-bbb4-4362-ba22-4310120c2489",
   "metadata": {},
   "source": [
    "* In this data set that are much more non-churning than churning users\n",
    "* We have class imbalance in this data set\n",
    "    * For class imbalance, predicting the majority class already gives quite good accuracy and accuracy can be a misleading metric"
   ]
  },
  {
   "cell_type": "markdown",
   "id": "739c4736-7a1e-4348-80c7-dbf753f256dd",
   "metadata": {},
   "source": [
    "## Confusion Table\n",
    "\n",
    "* Different types of errors and correct decisions\n",
    "* Arranging them in a table"
   ]
  },
  {
   "cell_type": "markdown",
   "id": "fd238f6d-a0c1-48c9-8e67-7696eb4c31bb",
   "metadata": {},
   "source": [
    "![confusion_table](Screenshot1.png \"Confusion Table\")\n",
    "![confusion_table](Screenshot2.png \"Confusion Table\")"
   ]
  },
  {
   "cell_type": "code",
   "execution_count": 43,
   "id": "1f0809e8-5685-4e01-9562-ca5182b43cd0",
   "metadata": {},
   "outputs": [],
   "source": [
    "actual_positive = (y_val == 1)\n",
    "actual_negative = (y_val == 0)\n",
    "\n",
    "t = 0.5\n",
    "predict_positive = (y_pred >= t)\n",
    "predict_negative = (y_pred < t)"
   ]
  },
  {
   "cell_type": "code",
   "execution_count": 46,
   "id": "b5efff4b-f501-4517-ab8a-c5eb1c480349",
   "metadata": {},
   "outputs": [
    {
     "data": {
      "text/plain": [
       "210"
      ]
     },
     "execution_count": 46,
     "metadata": {},
     "output_type": "execute_result"
    }
   ],
   "source": [
    "tp = (predict_positive & actual_positive).sum()\n",
    "tp"
   ]
  },
  {
   "cell_type": "code",
   "execution_count": 47,
   "id": "76eb0d5e-477d-4707-a2da-9b8679729b15",
   "metadata": {},
   "outputs": [
    {
     "data": {
      "text/plain": [
       "922"
      ]
     },
     "execution_count": 47,
     "metadata": {},
     "output_type": "execute_result"
    }
   ],
   "source": [
    "tn = (predict_negative & actual_negative).sum()\n",
    "tn"
   ]
  },
  {
   "cell_type": "code",
   "execution_count": 48,
   "id": "c1280b4c-afcc-4974-8de7-7de00db78535",
   "metadata": {},
   "outputs": [
    {
     "data": {
      "text/plain": [
       "101"
      ]
     },
     "execution_count": 48,
     "metadata": {},
     "output_type": "execute_result"
    }
   ],
   "source": [
    "fp = (predict_positive & actual_negative).sum()\n",
    "fp"
   ]
  },
  {
   "cell_type": "code",
   "execution_count": 49,
   "id": "a58fcd48-35a5-4997-81d7-35381228ccd2",
   "metadata": {},
   "outputs": [
    {
     "data": {
      "text/plain": [
       "176"
      ]
     },
     "execution_count": 49,
     "metadata": {},
     "output_type": "execute_result"
    }
   ],
   "source": [
    "fn = (predict_negative & actual_positive).sum()\n",
    "fn"
   ]
  },
  {
   "cell_type": "code",
   "execution_count": 50,
   "id": "bfda861c-c0bb-47f9-bae5-af260995fc0d",
   "metadata": {},
   "outputs": [
    {
     "data": {
      "text/plain": [
       "array([[922, 101],\n",
       "       [176, 210]])"
      ]
     },
     "execution_count": 50,
     "metadata": {},
     "output_type": "execute_result"
    }
   ],
   "source": [
    "confusion_matrix = np.array([\n",
    "                        [tn, fp],\n",
    "                        [fn, tp]])\n",
    "confusion_matrix"
   ]
  },
  {
   "cell_type": "markdown",
   "id": "af374736-2fdf-4618-b55d-6d7920b31a41",
   "metadata": {},
   "source": [
    "* We have a lot of more false negatives than false positives\n",
    "    * False positives are predicted to churn, but they are not going to. We would send them a discount e-mail, though not necessary and would loose profit\n",
    "    * False positives are not receiving an e-mail and are leaving, also loosing profit in this case"
   ]
  },
  {
   "cell_type": "code",
   "execution_count": 51,
   "id": "7e9d4922-c2c6-4e0d-8499-71911cae226e",
   "metadata": {},
   "outputs": [
    {
     "data": {
      "text/plain": [
       "array([[0.65, 0.07],\n",
       "       [0.12, 0.15]])"
      ]
     },
     "execution_count": 51,
     "metadata": {},
     "output_type": "execute_result"
    }
   ],
   "source": [
    "# in relative numbers\n",
    "(confusion_matrix / confusion_matrix.sum()).round(2)"
   ]
  },
  {
   "cell_type": "markdown",
   "id": "de4279d1-2c39-4f05-9a9b-42a10d698e6c",
   "metadata": {},
   "source": [
    "![confusion_table](Screenshot3.png \"Confusion Table\")"
   ]
  },
  {
   "cell_type": "markdown",
   "id": "11ab231a-0bed-43f9-83e9-11c62ad8500f",
   "metadata": {
    "tags": []
   },
   "source": [
    "## Precission and Recall\n",
    "\n",
    "* Very useful for binary clasification problems"
   ]
  },
  {
   "cell_type": "code",
   "execution_count": 53,
   "id": "45a945de-f6a2-4284-842a-6426369ec348",
   "metadata": {},
   "outputs": [
    {
     "data": {
      "text/plain": [
       "0.8034066713981547"
      ]
     },
     "execution_count": 53,
     "metadata": {},
     "output_type": "execute_result"
    }
   ],
   "source": [
    "# Accuracy\n",
    "(tp + tn) / (tp + tn + fp + fn)"
   ]
  },
  {
   "cell_type": "markdown",
   "id": "5d90ff83-3261-4dab-9a68-d5b686fd57e2",
   "metadata": {},
   "source": [
    "Now we will look at other metrics:\n",
    "* **Precision: Fraction of positive predictions that are correct**\n",
    "    * tp / (tp + fp)"
   ]
  },
  {
   "cell_type": "code",
   "execution_count": 56,
   "id": "3dc1eb1b-a05c-4ab1-9205-2389a3444a28",
   "metadata": {},
   "outputs": [
    {
     "data": {
      "text/plain": [
       "0.6752411575562701"
      ]
     },
     "execution_count": 56,
     "metadata": {},
     "output_type": "execute_result"
    }
   ],
   "source": [
    "p = tp / (tp + fp)\n",
    "p"
   ]
  },
  {
   "cell_type": "markdown",
   "id": "276bb7e7-d262-45c1-8d7c-e40e803df077",
   "metadata": {},
   "source": [
    "* This means that (1-p)~33% will get a promotional e-mail, although they are not going to churn "
   ]
  },
  {
   "cell_type": "markdown",
   "id": "918b9191-7a9d-45f0-a9c4-db000310cfa4",
   "metadata": {},
   "source": [
    "* **Recall: Fraction of correctly identified positive examples**\n",
    "    * tp / (tp + fn) = tp / (#positive observations)"
   ]
  },
  {
   "cell_type": "code",
   "execution_count": 59,
   "id": "e454a016-f544-4022-9ad2-27c4ffe25021",
   "metadata": {},
   "outputs": [
    {
     "data": {
      "text/plain": [
       "0.5440414507772021"
      ]
     },
     "execution_count": 59,
     "metadata": {},
     "output_type": "execute_result"
    }
   ],
   "source": [
    "r = tp / (tp + fn)\n",
    "r"
   ]
  },
  {
   "cell_type": "markdown",
   "id": "8fd9970c-194f-43cc-a1b1-9b5e449ec833",
   "metadata": {},
   "source": [
    "* This means that we failed to identify (1-r)~46% of people who are churning "
   ]
  },
  {
   "cell_type": "markdown",
   "id": "37e197a4-8ac7-40fe-a272-a9898aae2e0b",
   "metadata": {},
   "source": [
    "## ROC Curves\n",
    "\n",
    "### TPR and FRP"
   ]
  },
  {
   "cell_type": "code",
   "execution_count": null,
   "id": "05fd3cee-6ff6-44ac-89e1-57db97b972d7",
   "metadata": {},
   "outputs": [],
   "source": []
  },
  {
   "cell_type": "markdown",
   "id": "c7b2fe23-289d-416f-b088-ab60cf51b4c5",
   "metadata": {},
   "source": [
    "### Random Model"
   ]
  },
  {
   "cell_type": "code",
   "execution_count": null,
   "id": "0f1c8e4c-1382-4793-8b01-2c5e5e71b3c2",
   "metadata": {},
   "outputs": [],
   "source": []
  },
  {
   "cell_type": "markdown",
   "id": "c42d9e17-ad71-4533-a804-21257274a465",
   "metadata": {},
   "source": [
    "### Ideal Model"
   ]
  },
  {
   "cell_type": "code",
   "execution_count": null,
   "id": "bcf089d9-59b2-461b-8a66-b000b10c50d1",
   "metadata": {},
   "outputs": [],
   "source": []
  },
  {
   "cell_type": "markdown",
   "id": "93ce16f8-f51e-4dfe-9498-8edf09dcffcb",
   "metadata": {},
   "source": [
    "## ROC AUC\n",
    "\n",
    "* Area under the ROC curve - useful metric for binary classification\n",
    "* Getting the average prediction and the spread within predictions"
   ]
  },
  {
   "cell_type": "code",
   "execution_count": null,
   "id": "5d993a0c-b4cd-4b5f-8d0e-95c60deeebe2",
   "metadata": {},
   "outputs": [],
   "source": []
  },
  {
   "cell_type": "markdown",
   "id": "acbd1364-4c2f-4782-8747-09cdba32af77",
   "metadata": {},
   "source": [
    "### Cross Validation\n",
    "\n",
    "* Evaluating the same model on different subsets of data\n",
    "* Getting the average prediction and the spread within predictions"
   ]
  },
  {
   "cell_type": "code",
   "execution_count": null,
   "id": "d52bd146-1126-4145-b609-5762483f1fd8",
   "metadata": {},
   "outputs": [],
   "source": []
  },
  {
   "cell_type": "markdown",
   "id": "42ae1539-1f7a-4c9f-87fe-65d381f146b2",
   "metadata": {},
   "source": [
    "### Summary\n",
    "\n",
    "* Metric: A single number that describes the performance of a model\n",
    "* Accuracy: fraction of correct answers; sometimes misleading\n",
    "* Precision and Recall are less misleading when we have class imbalance\n",
    "* ROC curve: A way to evaluate the performance at all thresholds; ok to use with class imbalance\n",
    "* K-fold Cross Validation: more reliable estimate for performance (mean + std)"
   ]
  },
  {
   "cell_type": "code",
   "execution_count": null,
   "id": "2ca7fd1d-7a6b-41e7-8f18-706bc55c4194",
   "metadata": {},
   "outputs": [],
   "source": []
  }
 ],
 "metadata": {
  "kernelspec": {
   "display_name": "ml-zoomcamp",
   "language": "python",
   "name": "ml-zoomcamp"
  },
  "language_info": {
   "codemirror_mode": {
    "name": "ipython",
    "version": 3
   },
   "file_extension": ".py",
   "mimetype": "text/x-python",
   "name": "python",
   "nbconvert_exporter": "python",
   "pygments_lexer": "ipython3",
   "version": "3.9.7"
  }
 },
 "nbformat": 4,
 "nbformat_minor": 5
}
