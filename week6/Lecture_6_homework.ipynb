{
 "cells": [
  {
   "cell_type": "markdown",
   "id": "8d11f092",
   "metadata": {},
   "source": [
    "# Homework 6"
   ]
  },
  {
   "cell_type": "markdown",
   "id": "485242fd",
   "metadata": {},
   "source": [
    "The goal of this homework is to create a tree-based regression model for prediction apartment prices (column 'price').\n",
    "\n",
    "In this homework we'll again use the New York City Airbnb Open Data dataset - the same one we used in homework 2 and 3.\n",
    "\n",
    "You can take it from [kaggle](https://www.kaggle.com/dgomonov/new-york-city-airbnb-open-data?select=AB_NYC_2019.csv).\n",
    "\n",
    "Let's load the data:"
   ]
  },
  {
   "cell_type": "code",
   "execution_count": 1,
   "id": "54d39626",
   "metadata": {},
   "outputs": [],
   "source": [
    "import pandas as pd\n",
    "import numpy as np\n",
    "\n",
    "import matplotlib.pyplot as plt\n",
    "import seaborn as sns\n",
    "\n",
    "%matplotlib inline"
   ]
  },
  {
   "cell_type": "code",
   "execution_count": 2,
   "id": "3ebe793b",
   "metadata": {},
   "outputs": [],
   "source": [
    "columns = [\n",
    "    'neighbourhood_group', 'room_type', 'latitude', 'longitude',\n",
    "    'minimum_nights', 'number_of_reviews','reviews_per_month',\n",
    "    'calculated_host_listings_count', 'availability_365',\n",
    "    'price'\n",
    "]\n",
    "\n",
    "df = pd.read_csv('../data/AB_NYC_2019.csv', usecols=columns)\n",
    "df.reviews_per_month = df.reviews_per_month.fillna(0)"
   ]
  },
  {
   "cell_type": "markdown",
   "id": "2662d070",
   "metadata": {},
   "source": [
    "* Apply the log transform to price\n",
    "* Do train/validation/test split with 60%/20%/20% distribution.\n",
    "* Use the train_test_split function and set the random_state parameter to 1"
   ]
  },
  {
   "cell_type": "code",
   "execution_count": 3,
   "id": "effc74ad",
   "metadata": {},
   "outputs": [
    {
     "data": {
      "text/html": [
       "<div>\n",
       "<style scoped>\n",
       "    .dataframe tbody tr th:only-of-type {\n",
       "        vertical-align: middle;\n",
       "    }\n",
       "\n",
       "    .dataframe tbody tr th {\n",
       "        vertical-align: top;\n",
       "    }\n",
       "\n",
       "    .dataframe thead th {\n",
       "        text-align: right;\n",
       "    }\n",
       "</style>\n",
       "<table border=\"1\" class=\"dataframe\">\n",
       "  <thead>\n",
       "    <tr style=\"text-align: right;\">\n",
       "      <th></th>\n",
       "      <th>neighbourhood_group</th>\n",
       "      <th>latitude</th>\n",
       "      <th>longitude</th>\n",
       "      <th>room_type</th>\n",
       "      <th>price</th>\n",
       "      <th>minimum_nights</th>\n",
       "      <th>number_of_reviews</th>\n",
       "      <th>reviews_per_month</th>\n",
       "      <th>calculated_host_listings_count</th>\n",
       "      <th>availability_365</th>\n",
       "    </tr>\n",
       "  </thead>\n",
       "  <tbody>\n",
       "    <tr>\n",
       "      <th>0</th>\n",
       "      <td>Brooklyn</td>\n",
       "      <td>40.64749</td>\n",
       "      <td>-73.97237</td>\n",
       "      <td>Private room</td>\n",
       "      <td>149</td>\n",
       "      <td>1</td>\n",
       "      <td>9</td>\n",
       "      <td>0.21</td>\n",
       "      <td>6</td>\n",
       "      <td>365</td>\n",
       "    </tr>\n",
       "    <tr>\n",
       "      <th>1</th>\n",
       "      <td>Manhattan</td>\n",
       "      <td>40.75362</td>\n",
       "      <td>-73.98377</td>\n",
       "      <td>Entire home/apt</td>\n",
       "      <td>225</td>\n",
       "      <td>1</td>\n",
       "      <td>45</td>\n",
       "      <td>0.38</td>\n",
       "      <td>2</td>\n",
       "      <td>355</td>\n",
       "    </tr>\n",
       "    <tr>\n",
       "      <th>2</th>\n",
       "      <td>Manhattan</td>\n",
       "      <td>40.80902</td>\n",
       "      <td>-73.94190</td>\n",
       "      <td>Private room</td>\n",
       "      <td>150</td>\n",
       "      <td>3</td>\n",
       "      <td>0</td>\n",
       "      <td>0.00</td>\n",
       "      <td>1</td>\n",
       "      <td>365</td>\n",
       "    </tr>\n",
       "    <tr>\n",
       "      <th>3</th>\n",
       "      <td>Brooklyn</td>\n",
       "      <td>40.68514</td>\n",
       "      <td>-73.95976</td>\n",
       "      <td>Entire home/apt</td>\n",
       "      <td>89</td>\n",
       "      <td>1</td>\n",
       "      <td>270</td>\n",
       "      <td>4.64</td>\n",
       "      <td>1</td>\n",
       "      <td>194</td>\n",
       "    </tr>\n",
       "    <tr>\n",
       "      <th>4</th>\n",
       "      <td>Manhattan</td>\n",
       "      <td>40.79851</td>\n",
       "      <td>-73.94399</td>\n",
       "      <td>Entire home/apt</td>\n",
       "      <td>80</td>\n",
       "      <td>10</td>\n",
       "      <td>9</td>\n",
       "      <td>0.10</td>\n",
       "      <td>1</td>\n",
       "      <td>0</td>\n",
       "    </tr>\n",
       "  </tbody>\n",
       "</table>\n",
       "</div>"
      ],
      "text/plain": [
       "  neighbourhood_group  latitude  longitude        room_type  price  \\\n",
       "0            Brooklyn  40.64749  -73.97237     Private room    149   \n",
       "1           Manhattan  40.75362  -73.98377  Entire home/apt    225   \n",
       "2           Manhattan  40.80902  -73.94190     Private room    150   \n",
       "3            Brooklyn  40.68514  -73.95976  Entire home/apt     89   \n",
       "4           Manhattan  40.79851  -73.94399  Entire home/apt     80   \n",
       "\n",
       "   minimum_nights  number_of_reviews  reviews_per_month  \\\n",
       "0               1                  9               0.21   \n",
       "1               1                 45               0.38   \n",
       "2               3                  0               0.00   \n",
       "3               1                270               4.64   \n",
       "4              10                  9               0.10   \n",
       "\n",
       "   calculated_host_listings_count  availability_365  \n",
       "0                               6               365  \n",
       "1                               2               355  \n",
       "2                               1               365  \n",
       "3                               1               194  \n",
       "4                               1                 0  "
      ]
     },
     "execution_count": 3,
     "metadata": {},
     "output_type": "execute_result"
    }
   ],
   "source": [
    "df.head()"
   ]
  },
  {
   "cell_type": "code",
   "execution_count": 4,
   "id": "31d51106",
   "metadata": {},
   "outputs": [
    {
     "data": {
      "text/plain": [
       "neighbourhood_group               0\n",
       "latitude                          0\n",
       "longitude                         0\n",
       "room_type                         0\n",
       "price                             0\n",
       "minimum_nights                    0\n",
       "number_of_reviews                 0\n",
       "reviews_per_month                 0\n",
       "calculated_host_listings_count    0\n",
       "availability_365                  0\n",
       "dtype: int64"
      ]
     },
     "execution_count": 4,
     "metadata": {},
     "output_type": "execute_result"
    }
   ],
   "source": [
    "df.isna().sum()"
   ]
  },
  {
   "cell_type": "markdown",
   "id": "d2c338a9",
   "metadata": {},
   "source": [
    "* There are no missing values in the data frame"
   ]
  },
  {
   "cell_type": "code",
   "execution_count": 5,
   "id": "c980b351",
   "metadata": {},
   "outputs": [
    {
     "data": {
      "image/png": "[encoded data removed]",
      "text/plain": [
       "<Figure size 432x288 with 1 Axes>"
      ]
     },
     "metadata": {
      "needs_background": "light"
     },
     "output_type": "display_data"
    }
   ],
   "source": [
    "sns.histplot(df[\"price\"], bins=50);"
   ]
  },
  {
   "cell_type": "code",
   "execution_count": 6,
   "id": "98eba71f",
   "metadata": {},
   "outputs": [
    {
     "data": {
      "image/png": "[encoded data removed]",
      "text/plain": [
       "<Figure size 432x288 with 1 Axes>"
      ]
     },
     "metadata": {
      "needs_background": "light"
     },
     "output_type": "display_data"
    }
   ],
   "source": [
    "# log transform\n",
    "df_copy = df.copy()\n",
    "df_copy[\"price\"] = np.log1p(df_copy[\"price\"])\n",
    "\n",
    "sns.histplot(df_copy[\"price\"], bins=50);"
   ]
  },
  {
   "cell_type": "code",
   "execution_count": 7,
   "id": "df194d25",
   "metadata": {},
   "outputs": [],
   "source": [
    "# train / val / test split\n",
    "from sklearn.model_selection import train_test_split\n",
    "\n",
    "df_train_full, df_test = train_test_split(df_copy, test_size=0.2, shuffle=True, random_state=1)\n",
    "df_train, df_val = train_test_split(df_train_full, test_size=0.25, shuffle=True, random_state=1)"
   ]
  },
  {
   "cell_type": "code",
   "execution_count": 8,
   "id": "1ca520dc",
   "metadata": {},
   "outputs": [],
   "source": [
    "df_train_full = df_train_full.reset_index(drop=True)\n",
    "df_train = df_train.reset_index(drop=True)\n",
    "df_val = df_val.reset_index(drop=True)\n",
    "df_test = df_test.reset_index(drop=True)"
   ]
  },
  {
   "cell_type": "code",
   "execution_count": 9,
   "id": "1b6d74fa",
   "metadata": {},
   "outputs": [
    {
     "data": {
      "text/html": [
       "<div>\n",
       "<style scoped>\n",
       "    .dataframe tbody tr th:only-of-type {\n",
       "        vertical-align: middle;\n",
       "    }\n",
       "\n",
       "    .dataframe tbody tr th {\n",
       "        vertical-align: top;\n",
       "    }\n",
       "\n",
       "    .dataframe thead th {\n",
       "        text-align: right;\n",
       "    }\n",
       "</style>\n",
       "<table border=\"1\" class=\"dataframe\">\n",
       "  <thead>\n",
       "    <tr style=\"text-align: right;\">\n",
       "      <th></th>\n",
       "      <th>neighbourhood_group</th>\n",
       "      <th>latitude</th>\n",
       "      <th>longitude</th>\n",
       "      <th>room_type</th>\n",
       "      <th>price</th>\n",
       "      <th>minimum_nights</th>\n",
       "      <th>number_of_reviews</th>\n",
       "      <th>reviews_per_month</th>\n",
       "      <th>calculated_host_listings_count</th>\n",
       "      <th>availability_365</th>\n",
       "    </tr>\n",
       "  </thead>\n",
       "  <tbody>\n",
       "    <tr>\n",
       "      <th>0</th>\n",
       "      <td>Queens</td>\n",
       "      <td>40.76434</td>\n",
       "      <td>-73.92132</td>\n",
       "      <td>Entire home/apt</td>\n",
       "      <td>4.709530</td>\n",
       "      <td>4</td>\n",
       "      <td>30</td>\n",
       "      <td>0.32</td>\n",
       "      <td>1</td>\n",
       "      <td>363</td>\n",
       "    </tr>\n",
       "    <tr>\n",
       "      <th>1</th>\n",
       "      <td>Brooklyn</td>\n",
       "      <td>40.73442</td>\n",
       "      <td>-73.95854</td>\n",
       "      <td>Private room</td>\n",
       "      <td>4.262680</td>\n",
       "      <td>5</td>\n",
       "      <td>2</td>\n",
       "      <td>0.16</td>\n",
       "      <td>1</td>\n",
       "      <td>0</td>\n",
       "    </tr>\n",
       "    <tr>\n",
       "      <th>2</th>\n",
       "      <td>Brooklyn</td>\n",
       "      <td>40.66359</td>\n",
       "      <td>-73.99487</td>\n",
       "      <td>Entire home/apt</td>\n",
       "      <td>6.133398</td>\n",
       "      <td>1</td>\n",
       "      <td>33</td>\n",
       "      <td>2.75</td>\n",
       "      <td>5</td>\n",
       "      <td>113</td>\n",
       "    </tr>\n",
       "    <tr>\n",
       "      <th>3</th>\n",
       "      <td>Brooklyn</td>\n",
       "      <td>40.63766</td>\n",
       "      <td>-74.02626</td>\n",
       "      <td>Private room</td>\n",
       "      <td>4.605170</td>\n",
       "      <td>3</td>\n",
       "      <td>1</td>\n",
       "      <td>0.12</td>\n",
       "      <td>2</td>\n",
       "      <td>362</td>\n",
       "    </tr>\n",
       "    <tr>\n",
       "      <th>4</th>\n",
       "      <td>Brooklyn</td>\n",
       "      <td>40.65118</td>\n",
       "      <td>-74.00842</td>\n",
       "      <td>Private room</td>\n",
       "      <td>7.601402</td>\n",
       "      <td>2</td>\n",
       "      <td>0</td>\n",
       "      <td>0.00</td>\n",
       "      <td>2</td>\n",
       "      <td>365</td>\n",
       "    </tr>\n",
       "  </tbody>\n",
       "</table>\n",
       "</div>"
      ],
      "text/plain": [
       "  neighbourhood_group  latitude  longitude        room_type     price  \\\n",
       "0              Queens  40.76434  -73.92132  Entire home/apt  4.709530   \n",
       "1            Brooklyn  40.73442  -73.95854     Private room  4.262680   \n",
       "2            Brooklyn  40.66359  -73.99487  Entire home/apt  6.133398   \n",
       "3            Brooklyn  40.63766  -74.02626     Private room  4.605170   \n",
       "4            Brooklyn  40.65118  -74.00842     Private room  7.601402   \n",
       "\n",
       "   minimum_nights  number_of_reviews  reviews_per_month  \\\n",
       "0               4                 30               0.32   \n",
       "1               5                  2               0.16   \n",
       "2               1                 33               2.75   \n",
       "3               3                  1               0.12   \n",
       "4               2                  0               0.00   \n",
       "\n",
       "   calculated_host_listings_count  availability_365  \n",
       "0                               1               363  \n",
       "1                               1                 0  \n",
       "2                               5               113  \n",
       "3                               2               362  \n",
       "4                               2               365  "
      ]
     },
     "execution_count": 9,
     "metadata": {},
     "output_type": "execute_result"
    }
   ],
   "source": [
    "df_train.head()"
   ]
  },
  {
   "cell_type": "code",
   "execution_count": 10,
   "id": "44f7739b",
   "metadata": {},
   "outputs": [],
   "source": [
    "y_train_full = df_train_full[\"price\"].values\n",
    "y_train = df_train[\"price\"].values\n",
    "y_val = df_val[\"price\"].values\n",
    "y_test = df_test[\"price\"].values"
   ]
  },
  {
   "cell_type": "code",
   "execution_count": 11,
   "id": "d0cc3b64",
   "metadata": {},
   "outputs": [],
   "source": [
    "del df_train_full[\"price\"]\n",
    "del df_train[\"price\"]\n",
    "del df_val[\"price\"]\n",
    "del df_test[\"price\"]"
   ]
  },
  {
   "cell_type": "code",
   "execution_count": 12,
   "id": "224ff507",
   "metadata": {},
   "outputs": [
    {
     "data": {
      "text/html": [
       "<div>\n",
       "<style scoped>\n",
       "    .dataframe tbody tr th:only-of-type {\n",
       "        vertical-align: middle;\n",
       "    }\n",
       "\n",
       "    .dataframe tbody tr th {\n",
       "        vertical-align: top;\n",
       "    }\n",
       "\n",
       "    .dataframe thead th {\n",
       "        text-align: right;\n",
       "    }\n",
       "</style>\n",
       "<table border=\"1\" class=\"dataframe\">\n",
       "  <thead>\n",
       "    <tr style=\"text-align: right;\">\n",
       "      <th></th>\n",
       "      <th>neighbourhood_group</th>\n",
       "      <th>latitude</th>\n",
       "      <th>longitude</th>\n",
       "      <th>room_type</th>\n",
       "      <th>minimum_nights</th>\n",
       "      <th>number_of_reviews</th>\n",
       "      <th>reviews_per_month</th>\n",
       "      <th>calculated_host_listings_count</th>\n",
       "      <th>availability_365</th>\n",
       "    </tr>\n",
       "  </thead>\n",
       "  <tbody>\n",
       "    <tr>\n",
       "      <th>0</th>\n",
       "      <td>Queens</td>\n",
       "      <td>40.76434</td>\n",
       "      <td>-73.92132</td>\n",
       "      <td>Entire home/apt</td>\n",
       "      <td>4</td>\n",
       "      <td>30</td>\n",
       "      <td>0.32</td>\n",
       "      <td>1</td>\n",
       "      <td>363</td>\n",
       "    </tr>\n",
       "    <tr>\n",
       "      <th>1</th>\n",
       "      <td>Brooklyn</td>\n",
       "      <td>40.73442</td>\n",
       "      <td>-73.95854</td>\n",
       "      <td>Private room</td>\n",
       "      <td>5</td>\n",
       "      <td>2</td>\n",
       "      <td>0.16</td>\n",
       "      <td>1</td>\n",
       "      <td>0</td>\n",
       "    </tr>\n",
       "    <tr>\n",
       "      <th>2</th>\n",
       "      <td>Brooklyn</td>\n",
       "      <td>40.66359</td>\n",
       "      <td>-73.99487</td>\n",
       "      <td>Entire home/apt</td>\n",
       "      <td>1</td>\n",
       "      <td>33</td>\n",
       "      <td>2.75</td>\n",
       "      <td>5</td>\n",
       "      <td>113</td>\n",
       "    </tr>\n",
       "    <tr>\n",
       "      <th>3</th>\n",
       "      <td>Brooklyn</td>\n",
       "      <td>40.63766</td>\n",
       "      <td>-74.02626</td>\n",
       "      <td>Private room</td>\n",
       "      <td>3</td>\n",
       "      <td>1</td>\n",
       "      <td>0.12</td>\n",
       "      <td>2</td>\n",
       "      <td>362</td>\n",
       "    </tr>\n",
       "    <tr>\n",
       "      <th>4</th>\n",
       "      <td>Brooklyn</td>\n",
       "      <td>40.65118</td>\n",
       "      <td>-74.00842</td>\n",
       "      <td>Private room</td>\n",
       "      <td>2</td>\n",
       "      <td>0</td>\n",
       "      <td>0.00</td>\n",
       "      <td>2</td>\n",
       "      <td>365</td>\n",
       "    </tr>\n",
       "  </tbody>\n",
       "</table>\n",
       "</div>"
      ],
      "text/plain": [
       "  neighbourhood_group  latitude  longitude        room_type  minimum_nights  \\\n",
       "0              Queens  40.76434  -73.92132  Entire home/apt               4   \n",
       "1            Brooklyn  40.73442  -73.95854     Private room               5   \n",
       "2            Brooklyn  40.66359  -73.99487  Entire home/apt               1   \n",
       "3            Brooklyn  40.63766  -74.02626     Private room               3   \n",
       "4            Brooklyn  40.65118  -74.00842     Private room               2   \n",
       "\n",
       "   number_of_reviews  reviews_per_month  calculated_host_listings_count  \\\n",
       "0                 30               0.32                               1   \n",
       "1                  2               0.16                               1   \n",
       "2                 33               2.75                               5   \n",
       "3                  1               0.12                               2   \n",
       "4                  0               0.00                               2   \n",
       "\n",
       "   availability_365  \n",
       "0               363  \n",
       "1                 0  \n",
       "2               113  \n",
       "3               362  \n",
       "4               365  "
      ]
     },
     "execution_count": 12,
     "metadata": {},
     "output_type": "execute_result"
    }
   ],
   "source": [
    "df_train.head()"
   ]
  },
  {
   "cell_type": "markdown",
   "id": "da17676f",
   "metadata": {},
   "source": [
    "Now, use DictVectorizer to turn train and validation into matrices:"
   ]
  },
  {
   "cell_type": "code",
   "execution_count": 13,
   "id": "ae6e59e1",
   "metadata": {},
   "outputs": [],
   "source": [
    "from sklearn.feature_extraction import DictVectorizer\n",
    "\n",
    "train_full_dicts = df_train_full.to_dict(orient=\"records\")\n",
    "train_dicts = df_train.to_dict(orient=\"records\")\n",
    "val_dicts = df_val.to_dict(orient=\"records\")\n",
    "test_dicts = df_test.to_dict(orient=\"records\")\n",
    "\n",
    "dv = DictVectorizer()\n",
    "X_train = dv.fit_transform(train_dicts)\n",
    "X_val = dv.transform(val_dicts)"
   ]
  },
  {
   "cell_type": "markdown",
   "id": "91d7727a",
   "metadata": {},
   "source": [
    "## Question 1\n",
    "\n",
    "Let's train a decision tree regressor to predict the price variable.\n",
    "\n",
    "* Train a model with ```max_depth=1```"
   ]
  },
  {
   "cell_type": "code",
   "execution_count": 14,
   "id": "1e3e2253",
   "metadata": {},
   "outputs": [],
   "source": [
    "from sklearn.tree import DecisionTreeRegressor"
   ]
  },
  {
   "cell_type": "code",
   "execution_count": 15,
   "id": "d6e79379",
   "metadata": {},
   "outputs": [
    {
     "data": {
      "text/plain": [
       "DecisionTreeRegressor(max_depth=1)"
      ]
     },
     "execution_count": 15,
     "metadata": {},
     "output_type": "execute_result"
    }
   ],
   "source": [
    "dt = DecisionTreeRegressor(max_depth=1)\n",
    "dt.fit(X_train, y_train)"
   ]
  },
  {
   "cell_type": "markdown",
   "id": "4e42f00e",
   "metadata": {},
   "source": [
    "Which feature is used for splitting the data?\n",
    "\n",
    "* ```room_type```\n",
    "* ```neighbourhood_group```\n",
    "* ```number_of_reviews```\n",
    "* ```reviews_per_month```"
   ]
  },
  {
   "cell_type": "code",
   "execution_count": 21,
   "id": "3ecfb375",
   "metadata": {},
   "outputs": [
    {
     "name": "stdout",
     "output_type": "stream",
     "text": [
      "|--- room_type=Entire home/apt <= 0.50\n",
      "|   |--- value: [4.29]\n",
      "|--- room_type=Entire home/apt >  0.50\n",
      "|   |--- value: [5.15]\n",
      "\n"
     ]
    }
   ],
   "source": [
    "from sklearn.tree import export_text\n",
    "\n",
    "print(export_text(dt, feature_names=dv.get_feature_names()))"
   ]
  },
  {
   "cell_type": "markdown",
   "id": "18545266",
   "metadata": {},
   "source": [
    "**Answer:** ```room_type``` is used fr splitting the data"
   ]
  },
  {
   "cell_type": "markdown",
   "id": "6ae3f611",
   "metadata": {},
   "source": [
    "## Question 2\n",
    "\n",
    "Train a random forest model with these parameters:\n",
    "\n",
    "* ```n_estimators=10```\n",
    "* ```random_state=1```\n",
    "* ```n_jobs=-1``` (optional - to make training faster)"
   ]
  },
  {
   "cell_type": "code",
   "execution_count": 22,
   "id": "6ea0a035",
   "metadata": {},
   "outputs": [],
   "source": [
    "from sklearn.ensemble import RandomForestRegressor"
   ]
  },
  {
   "cell_type": "code",
   "execution_count": 25,
   "id": "bb8e2851",
   "metadata": {},
   "outputs": [
    {
     "data": {
      "text/plain": [
       "RandomForestRegressor(n_estimators=10, n_jobs=-1, random_state=1)"
      ]
     },
     "execution_count": 25,
     "metadata": {},
     "output_type": "execute_result"
    }
   ],
   "source": [
    "rf = RandomForestRegressor(n_estimators=10, random_state=1, n_jobs=-1)\n",
    "rf.fit(X_train, y_train)"
   ]
  },
  {
   "cell_type": "markdown",
   "id": "c894db91",
   "metadata": {},
   "source": [
    "What's the RMSE of this model on validation?\n",
    "\n",
    "* 0.059\n",
    "* 0.259\n",
    "* 0.459\n",
    "* 0.659"
   ]
  },
  {
   "cell_type": "code",
   "execution_count": 26,
   "id": "2da02b51",
   "metadata": {},
   "outputs": [
    {
     "data": {
      "text/plain": [
       "array([4.86757055, 4.80419592, 5.48223437, ..., 5.04008141, 4.662356  ,\n",
       "       5.35119947])"
      ]
     },
     "execution_count": 26,
     "metadata": {},
     "output_type": "execute_result"
    }
   ],
   "source": [
    "y_pred = rf.predict(X_val)\n",
    "y_pred"
   ]
  },
  {
   "cell_type": "code",
   "execution_count": 27,
   "id": "0a620aab",
   "metadata": {},
   "outputs": [],
   "source": [
    "from sklearn.metrics import mean_squared_error"
   ]
  },
  {
   "cell_type": "code",
   "execution_count": 28,
   "id": "1deb9214",
   "metadata": {},
   "outputs": [
    {
     "data": {
      "text/plain": [
       "0.4606935349176549"
      ]
     },
     "execution_count": 28,
     "metadata": {},
     "output_type": "execute_result"
    }
   ],
   "source": [
    "mean_squared_error(y_val, y_pred, squared=False)"
   ]
  },
  {
   "cell_type": "markdown",
   "id": "989e9684",
   "metadata": {},
   "source": [
    "**Answer:** The closest Answer is 0.459"
   ]
  },
  {
   "cell_type": "markdown",
   "id": "a2e53add",
   "metadata": {},
   "source": [
    "## Question 3\n",
    "\n",
    "Now let's experiment with the n_estimators parameter\n",
    "\n",
    "* Try different values of this parameter from 10 to 200 with step 10\n",
    "* Set random_state to 1\n",
    "* Evaluate the model on the validation dataset"
   ]
  },
  {
   "cell_type": "code",
   "execution_count": 30,
   "id": "c6fcf5e1",
   "metadata": {},
   "outputs": [
    {
     "data": {
      "text/plain": [
       "array([ 10,  20,  30,  40,  50,  60,  70,  80,  90, 100, 110, 120, 130,\n",
       "       140, 150, 160, 170, 180, 190, 200])"
      ]
     },
     "execution_count": 30,
     "metadata": {},
     "output_type": "execute_result"
    }
   ],
   "source": [
    "n_estimators = np.arange(10, 201, 10)\n",
    "n_estimators"
   ]
  },
  {
   "cell_type": "code",
   "execution_count": 32,
   "id": "268c26ad",
   "metadata": {},
   "outputs": [
    {
     "name": "stdout",
     "output_type": "stream",
     "text": [
      "10\n",
      "20\n",
      "30\n",
      "40\n",
      "50\n",
      "60\n",
      "70\n",
      "80\n",
      "90\n",
      "100\n",
      "110\n",
      "120\n",
      "130\n",
      "140\n",
      "150\n",
      "160\n",
      "170\n",
      "180\n",
      "190\n",
      "200\n"
     ]
    }
   ],
   "source": [
    "rmse = []\n",
    "for n in n_estimators:\n",
    "    print(n)\n",
    "    rf = RandomForestRegressor(n_estimators=n, random_state=1, n_jobs=-1)\n",
    "    rf.fit(X_train, y_train)\n",
    "    \n",
    "    y_pred = rf.predict(X_val)\n",
    "    rmse.append(mean_squared_error(y_val, y_pred, squared=False))"
   ]
  },
  {
   "cell_type": "code",
   "execution_count": 33,
   "id": "32da0bd5",
   "metadata": {},
   "outputs": [
    {
     "data": {
      "image/png": "[encoded data removed]",
      "text/plain": [
       "<Figure size 432x288 with 1 Axes>"
      ]
     },
     "metadata": {
      "needs_background": "light"
     },
     "output_type": "display_data"
    }
   ],
   "source": [
    "plt.plot(n_estimators, rmse);"
   ]
  },
  {
   "cell_type": "markdown",
   "id": "25c6cba3",
   "metadata": {},
   "source": [
    "After which value of n_estimators does RMSE stop improving?\n",
    "\n",
    "* 10\n",
    "* 50\n",
    "* 70\n",
    "* 120"
   ]
  },
  {
   "cell_type": "markdown",
   "id": "a1b3903b",
   "metadata": {},
   "source": [
    "**Answer:** 120, it seems to even improve a bit after that."
   ]
  },
  {
   "cell_type": "markdown",
   "id": "c2d5c5b1",
   "metadata": {},
   "source": [
    "## Question 4\n",
    "\n",
    "Let's select the best max_depth:\n",
    "\n",
    "* Try different values of max_depth: [10, 15, 20, 25]\n",
    "* For each of these values, try different values of n_estimators from 10 till 200 (with step 10)\n",
    "* Fix the random seed: random_state=1"
   ]
  },
  {
   "cell_type": "code",
   "execution_count": 43,
   "id": "3bbaab90",
   "metadata": {},
   "outputs": [
    {
     "name": "stdout",
     "output_type": "stream",
     "text": [
      "max_depth: 10\n",
      "n_estimators: 10\n",
      "n_estimators: 20\n",
      "n_estimators: 30\n",
      "n_estimators: 40\n",
      "n_estimators: 50\n",
      "n_estimators: 60\n",
      "n_estimators: 70\n",
      "n_estimators: 80\n",
      "n_estimators: 90\n",
      "n_estimators: 100\n",
      "n_estimators: 110\n",
      "n_estimators: 120\n",
      "n_estimators: 130\n",
      "n_estimators: 140\n",
      "n_estimators: 150\n",
      "n_estimators: 160\n",
      "n_estimators: 170\n",
      "n_estimators: 180\n",
      "n_estimators: 190\n",
      "n_estimators: 200\n",
      "max_depth: 15\n",
      "n_estimators: 10\n",
      "n_estimators: 20\n",
      "n_estimators: 30\n",
      "n_estimators: 40\n",
      "n_estimators: 50\n",
      "n_estimators: 60\n",
      "n_estimators: 70\n",
      "n_estimators: 80\n",
      "n_estimators: 90\n",
      "n_estimators: 100\n",
      "n_estimators: 110\n",
      "n_estimators: 120\n",
      "n_estimators: 130\n",
      "n_estimators: 140\n",
      "n_estimators: 150\n",
      "n_estimators: 160\n",
      "n_estimators: 170\n",
      "n_estimators: 180\n",
      "n_estimators: 190\n",
      "n_estimators: 200\n",
      "max_depth: 20\n",
      "n_estimators: 10\n",
      "n_estimators: 20\n",
      "n_estimators: 30\n",
      "n_estimators: 40\n",
      "n_estimators: 50\n",
      "n_estimators: 60\n",
      "n_estimators: 70\n",
      "n_estimators: 80\n",
      "n_estimators: 90\n",
      "n_estimators: 100\n",
      "n_estimators: 110\n",
      "n_estimators: 120\n",
      "n_estimators: 130\n",
      "n_estimators: 140\n",
      "n_estimators: 150\n",
      "n_estimators: 160\n",
      "n_estimators: 170\n",
      "n_estimators: 180\n",
      "n_estimators: 190\n",
      "n_estimators: 200\n",
      "max_depth: 25\n",
      "n_estimators: 10\n",
      "n_estimators: 20\n",
      "n_estimators: 30\n",
      "n_estimators: 40\n",
      "n_estimators: 50\n",
      "n_estimators: 60\n",
      "n_estimators: 70\n",
      "n_estimators: 80\n",
      "n_estimators: 90\n",
      "n_estimators: 100\n",
      "n_estimators: 110\n",
      "n_estimators: 120\n",
      "n_estimators: 130\n",
      "n_estimators: 140\n",
      "n_estimators: 150\n",
      "n_estimators: 160\n",
      "n_estimators: 170\n",
      "n_estimators: 180\n",
      "n_estimators: 190\n",
      "n_estimators: 200\n"
     ]
    }
   ],
   "source": [
    "max_depth = [10, 15, 20, 25]\n",
    "\n",
    "scores = []\n",
    "for m in max_depth:\n",
    "    print(f\"max_depth: {m}\")\n",
    "    for n in n_estimators:\n",
    "        print(f\"n_estimators: {n}\")\n",
    "        rf = RandomForestRegressor(n_estimators=n, max_depth=m, random_state=1, n_jobs=-1)\n",
    "        rf.fit(X_train, y_train)\n",
    "    \n",
    "        y_pred = rf.predict(X_val)\n",
    "        scores.append((m, n, mean_squared_error(y_val, y_pred, squared=False)))"
   ]
  },
  {
   "cell_type": "code",
   "execution_count": 44,
   "id": "89c71f91",
   "metadata": {},
   "outputs": [
    {
     "data": {
      "text/html": [
       "<div>\n",
       "<style scoped>\n",
       "    .dataframe tbody tr th:only-of-type {\n",
       "        vertical-align: middle;\n",
       "    }\n",
       "\n",
       "    .dataframe tbody tr th {\n",
       "        vertical-align: top;\n",
       "    }\n",
       "\n",
       "    .dataframe thead th {\n",
       "        text-align: right;\n",
       "    }\n",
       "</style>\n",
       "<table border=\"1\" class=\"dataframe\">\n",
       "  <thead>\n",
       "    <tr style=\"text-align: right;\">\n",
       "      <th></th>\n",
       "      <th>max_depth</th>\n",
       "      <th>n_estimator</th>\n",
       "      <th>rmse</th>\n",
       "    </tr>\n",
       "  </thead>\n",
       "  <tbody>\n",
       "    <tr>\n",
       "      <th>0</th>\n",
       "      <td>10</td>\n",
       "      <td>10</td>\n",
       "      <td>0.445577</td>\n",
       "    </tr>\n",
       "    <tr>\n",
       "      <th>1</th>\n",
       "      <td>10</td>\n",
       "      <td>20</td>\n",
       "      <td>0.441929</td>\n",
       "    </tr>\n",
       "    <tr>\n",
       "      <th>2</th>\n",
       "      <td>10</td>\n",
       "      <td>30</td>\n",
       "      <td>0.441243</td>\n",
       "    </tr>\n",
       "    <tr>\n",
       "      <th>3</th>\n",
       "      <td>10</td>\n",
       "      <td>40</td>\n",
       "      <td>0.441188</td>\n",
       "    </tr>\n",
       "    <tr>\n",
       "      <th>4</th>\n",
       "      <td>10</td>\n",
       "      <td>50</td>\n",
       "      <td>0.440825</td>\n",
       "    </tr>\n",
       "  </tbody>\n",
       "</table>\n",
       "</div>"
      ],
      "text/plain": [
       "   max_depth  n_estimator      rmse\n",
       "0         10           10  0.445577\n",
       "1         10           20  0.441929\n",
       "2         10           30  0.441243\n",
       "3         10           40  0.441188\n",
       "4         10           50  0.440825"
      ]
     },
     "execution_count": 44,
     "metadata": {},
     "output_type": "execute_result"
    }
   ],
   "source": [
    "df_scores = pd.DataFrame(scores, columns=[\"max_depth\", \"n_estimator\", \"rmse\"])\n",
    "df_scores.head()"
   ]
  },
  {
   "cell_type": "code",
   "execution_count": 45,
   "id": "0c795811",
   "metadata": {},
   "outputs": [
    {
     "data": {
      "image/png": "[encoded data removed]",
      "text/plain": [
       "<Figure size 432x288 with 1 Axes>"
      ]
     },
     "metadata": {
      "needs_background": "light"
     },
     "output_type": "display_data"
    }
   ],
   "source": [
    "for d in [10, 15, 20, 25]:\n",
    "    df_subset = df_scores[df_scores.max_depth==d]\n",
    "    plt.plot(df_subset.n_estimator, df_subset.rmse, label=f\"max_depth={d}\")\n",
    "plt.legend();"
   ]
  },
  {
   "cell_type": "markdown",
   "id": "c49bff93",
   "metadata": {},
   "source": [
    "What's the best max_depth:\n",
    "\n",
    "* 10\n",
    "* 15\n",
    "* 20\n",
    "* 25"
   ]
  },
  {
   "cell_type": "markdown",
   "id": "eae2a6c2",
   "metadata": {},
   "source": [
    "**Answer:** The best value for max_depth is 15."
   ]
  },
  {
   "cell_type": "markdown",
   "id": "ba47bd1e",
   "metadata": {},
   "source": [
    "Bonus question (not graded):\n",
    "\n",
    "Will the answer be different if we change the seed for the model?"
   ]
  },
  {
   "cell_type": "markdown",
   "id": "cb572068",
   "metadata": {},
   "source": [
    "**Answer:** No, the rndomness should not sffect the parameters. If so, the model would be very unstable"
   ]
  },
  {
   "cell_type": "markdown",
   "id": "f7bf7126",
   "metadata": {},
   "source": [
    "## Question 5\n",
    "\n",
    "We can extract feature importance information from tree-based models.\n",
    "\n",
    "At each step of the decision tree learning algorithm, it finds the best split. When doint it, we can calculate \"gain\" - the reduction in impurity before and after the split. This gain is quite useful in understanding what are the imporatant features for tree-based models.\n",
    "\n",
    "In Scikit-Learn, tree-based models contain this information in the feature_importances_ field.\n",
    "\n",
    "For this homework question, we'll find the most important feature:\n",
    "\n",
    "* Train the model with these parametes:\n",
    "    * n_estimators=10,\n",
    "    * max_depth=20,\n",
    "    * random_state=1,\n",
    "    * n_jobs=-1 (optional)\n",
    "Get the feature importance information from this model"
   ]
  },
  {
   "cell_type": "code",
   "execution_count": 47,
   "id": "d8511615",
   "metadata": {},
   "outputs": [
    {
     "data": {
      "text/plain": [
       "RandomForestRegressor(max_depth=20, n_estimators=10, n_jobs=-1, random_state=1)"
      ]
     },
     "execution_count": 47,
     "metadata": {},
     "output_type": "execute_result"
    }
   ],
   "source": [
    "rf = RandomForestRegressor(n_estimators=10, max_depth=20, random_state=1, n_jobs=-1)\n",
    "rf.fit(X_train, y_train)"
   ]
  },
  {
   "cell_type": "markdown",
   "id": "98b63732",
   "metadata": {},
   "source": [
    "What's the most important feature?\n",
    "\n",
    "* neighbourhood_group=Manhattan\n",
    "* room_type=Entire home/apt\n",
    "* longitude\n",
    "* latitude"
   ]
  },
  {
   "cell_type": "markdown",
   "id": "34031392",
   "metadata": {},
   "source": [
    "Documentation: https://scikit-learn.org/stable/auto_examples/ensemble/plot_forest_importances.html"
   ]
  },
  {
   "cell_type": "code",
   "execution_count": 56,
   "id": "5239ef40",
   "metadata": {},
   "outputs": [
    {
     "name": "stdout",
     "output_type": "stream",
     "text": [
      "<class 'pandas.core.frame.DataFrame'>\n",
      "RangeIndex: 29337 entries, 0 to 29336\n",
      "Data columns (total 9 columns):\n",
      " #   Column                          Non-Null Count  Dtype  \n",
      "---  ------                          --------------  -----  \n",
      " 0   neighbourhood_group             29337 non-null  object \n",
      " 1   latitude                        29337 non-null  float64\n",
      " 2   longitude                       29337 non-null  float64\n",
      " 3   room_type                       29337 non-null  object \n",
      " 4   minimum_nights                  29337 non-null  int64  \n",
      " 5   number_of_reviews               29337 non-null  int64  \n",
      " 6   reviews_per_month               29337 non-null  float64\n",
      " 7   calculated_host_listings_count  29337 non-null  int64  \n",
      " 8   availability_365                29337 non-null  int64  \n",
      "dtypes: float64(3), int64(4), object(2)\n",
      "memory usage: 2.0+ MB\n"
     ]
    }
   ],
   "source": [
    "df_train.info()"
   ]
  },
  {
   "cell_type": "code",
   "execution_count": 79,
   "id": "5a4458a5",
   "metadata": {},
   "outputs": [
    {
     "name": "stderr",
     "output_type": "stream",
     "text": [
      "/home/jens/miniconda3/envs/ml-zoomcamp/lib/python3.9/site-packages/sklearn/utils/deprecation.py:87: FutureWarning: Function get_feature_names is deprecated; get_feature_names is deprecated in 1.0 and will be removed in 1.2. Please use get_feature_names_out instead.\n",
      "  warnings.warn(msg, category=FutureWarning)\n"
     ]
    },
    {
     "data": {
      "text/plain": [
       "room_type=Entire home/apt            0.391899\n",
       "longitude                            0.154238\n",
       "latitude                             0.151497\n",
       "availability_365                     0.077020\n",
       "minimum_nights                       0.053947\n",
       "reviews_per_month                    0.052777\n",
       "number_of_reviews                    0.042841\n",
       "neighbourhood_group=Manhattan        0.034058\n",
       "calculated_host_listings_count       0.030181\n",
       "room_type=Shared room                0.004651\n",
       "room_type=Private room               0.004441\n",
       "neighbourhood_group=Queens           0.001178\n",
       "neighbourhood_group=Brooklyn         0.000909\n",
       "neighbourhood_group=Bronx            0.000279\n",
       "neighbourhood_group=Staten Island    0.000083\n",
       "dtype: float64"
      ]
     },
     "execution_count": 79,
     "metadata": {},
     "output_type": "execute_result"
    }
   ],
   "source": [
    "fi = rf.feature_importances_\n",
    "\n",
    "feature_importances = pd.Series(fi, index=dv.get_feature_names())\n",
    "\n",
    "feature_importances.sort_values(ascending=False)"
   ]
  },
  {
   "cell_type": "markdown",
   "id": "a87ba48c",
   "metadata": {},
   "source": [
    "**Answer:** The highest feature importance has room_type=Entire home/apt."
   ]
  },
  {
   "cell_type": "markdown",
   "id": "74d99345",
   "metadata": {},
   "source": [
    "## Question 6\n",
    "\n",
    "Now let's train an XGBoost model! For this question, we'll tune the eta parameter\n",
    "\n",
    "* Install XGBoost\n",
    "* Create DMatrix for train and validation\n",
    "* Create a watchlist\n",
    "* Train a model with these parameters for 100 rounds:\n",
    "\n",
    "```\n",
    "xgb_params = {\n",
    "    'eta': 0.3, \n",
    "    'max_depth': 6,\n",
    "    'min_child_weight': 1,\n",
    "\n",
    "    'objective': 'reg:squarederror',\n",
    "    'nthread': 8,\n",
    "\n",
    "    'seed': 1,\n",
    "    'verbosity': 1,\n",
    "}\n",
    "```"
   ]
  },
  {
   "cell_type": "code",
   "execution_count": 80,
   "id": "9f3263e4",
   "metadata": {},
   "outputs": [
    {
     "name": "stdout",
     "output_type": "stream",
     "text": [
      "Requirement already satisfied: xgboost in /home/jens/miniconda3/envs/ml-zoomcamp/lib/python3.9/site-packages (1.5.2)\r\n",
      "Requirement already satisfied: scipy in /home/jens/miniconda3/envs/ml-zoomcamp/lib/python3.9/site-packages (from xgboost) (1.7.3)\r\n",
      "Requirement already satisfied: numpy in /home/jens/miniconda3/envs/ml-zoomcamp/lib/python3.9/site-packages (from xgboost) (1.21.2)\r\n"
     ]
    }
   ],
   "source": [
    "# install XGBoost\n",
    "!pip install xgboost"
   ]
  },
  {
   "cell_type": "code",
   "execution_count": 81,
   "id": "49f9983e",
   "metadata": {},
   "outputs": [],
   "source": [
    "import xgboost as xgb"
   ]
  },
  {
   "cell_type": "code",
   "execution_count": 82,
   "id": "f75992bc",
   "metadata": {},
   "outputs": [],
   "source": [
    "features = dv.get_feature_names_out()\n",
    "dtrain = xgb.DMatrix(X_train, label=y_train, feature_names=features)\n",
    "dval = xgb.DMatrix(X_val, label=y_val, feature_names=features)"
   ]
  },
  {
   "cell_type": "code",
   "execution_count": 83,
   "id": "0c5802bc",
   "metadata": {},
   "outputs": [],
   "source": [
    "watchlist = [(dtrain, \"train\"), (dval, \"val\")]"
   ]
  },
  {
   "cell_type": "code",
   "execution_count": 85,
   "id": "0ee4345a",
   "metadata": {},
   "outputs": [],
   "source": [
    "def parse_xgb_output(output):\n",
    "    results = []\n",
    "\n",
    "    for line in output.stdout.strip().split('\\n'):\n",
    "        it_line, train_line, val_line = line.split('\\t')\n",
    "\n",
    "        it = int(it_line.strip('[]'))\n",
    "        train = float(train_line.split(':')[1])\n",
    "        val = float(val_line.split(':')[1])\n",
    "\n",
    "        results.append((it, train, val))\n",
    "    \n",
    "    columns = ['num_iter', 'train_auc', 'val_auc']\n",
    "    df_results = pd.DataFrame(results, columns=columns)\n",
    "    return df_results"
   ]
  },
  {
   "cell_type": "code",
   "execution_count": 86,
   "id": "5edb3e4c",
   "metadata": {},
   "outputs": [],
   "source": [
    "scores = {}"
   ]
  },
  {
   "cell_type": "code",
   "execution_count": 84,
   "id": "948919c9",
   "metadata": {},
   "outputs": [],
   "source": [
    "%%capture output\n",
    "\n",
    "xgb_params = {\n",
    "    \"eta\": 0.3,\n",
    "    \"max_depth\": 6,\n",
    "    \"min_child_weight\": 1,\n",
    "    \"objective\": \"reg:squarederror\",\n",
    "    \"nthread\": 8,\n",
    "    \"seed\": 1,\n",
    "    \"verbosity\": 1\n",
    "}\n",
    "\n",
    "model = xgb.train(xgb_params, dtrain, \n",
    "                  num_boost_round=100,\n",
    "                  evals=watchlist)"
   ]
  },
  {
   "cell_type": "code",
   "execution_count": 87,
   "id": "245e9325",
   "metadata": {},
   "outputs": [],
   "source": [
    "scores['eta=0.3'] = parse_xgb_output(output)"
   ]
  },
  {
   "cell_type": "markdown",
   "id": "3829ea55",
   "metadata": {},
   "source": [
    "Now change ```eta``` first to ```0.1``` and then to ```0.01```"
   ]
  },
  {
   "cell_type": "code",
   "execution_count": 94,
   "id": "0a27d9e3",
   "metadata": {},
   "outputs": [],
   "source": [
    "%%capture output\n",
    "\n",
    "xgb_params = {\n",
    "    \"eta\": 0.1,\n",
    "    \"max_depth\": 6,\n",
    "    \"min_child_weight\": 1,\n",
    "    \"objective\": \"reg:squarederror\",\n",
    "    \"nthread\": 8,\n",
    "    \"seed\": 1,\n",
    "    \"verbosity\": 1\n",
    "}\n",
    "\n",
    "model = xgb.train(xgb_params, dtrain, \n",
    "                  num_boost_round=100,\n",
    "                  evals=watchlist)"
   ]
  },
  {
   "cell_type": "code",
   "execution_count": 95,
   "id": "62770bf6",
   "metadata": {},
   "outputs": [],
   "source": [
    "scores['eta=0.1'] = parse_xgb_output(output)"
   ]
  },
  {
   "cell_type": "code",
   "execution_count": 96,
   "id": "572495ab",
   "metadata": {},
   "outputs": [],
   "source": [
    "%%capture output\n",
    "\n",
    "xgb_params = {\n",
    "    \"eta\": 0.01,\n",
    "    \"max_depth\": 6,\n",
    "    \"min_child_weight\": 1,\n",
    "    \"objective\": \"reg:squarederror\",\n",
    "    \"nthread\": 8,\n",
    "    \"seed\": 1,\n",
    "    \"verbosity\": 1\n",
    "}\n",
    "\n",
    "model = xgb.train(xgb_params, dtrain, \n",
    "                  num_boost_round=100,\n",
    "                  evals=watchlist)"
   ]
  },
  {
   "cell_type": "code",
   "execution_count": 97,
   "id": "0752d488",
   "metadata": {},
   "outputs": [],
   "source": [
    "scores['eta=0.01'] = parse_xgb_output(output)"
   ]
  },
  {
   "cell_type": "markdown",
   "id": "21cbac64",
   "metadata": {},
   "source": [
    "Which eta leads to the best RMSE score on the validation dataset?\n",
    "\n",
    "* 0.3\n",
    "* 0.1\n",
    "* 0.01"
   ]
  },
  {
   "cell_type": "code",
   "execution_count": 99,
   "id": "28c70f47",
   "metadata": {},
   "outputs": [
    {
     "data": {
      "image/png": "[encoded data removed]",
      "text/plain": [
       "<Figure size 432x288 with 1 Axes>"
      ]
     },
     "metadata": {
      "needs_background": "light"
     },
     "output_type": "display_data"
    }
   ],
   "source": [
    "plt.plot(scores['eta=0.01'].num_iter, scores['eta=0.01'].val_auc,\n",
    "        label='0.01')\n",
    "plt.plot(scores['eta=0.1'].num_iter, scores['eta=0.1'].val_auc,\n",
    "        label='0.1')\n",
    "plt.plot(scores['eta=0.3'].num_iter, scores['eta=0.3'].val_auc,\n",
    "        label='0.3')\n",
    "plt.legend();"
   ]
  },
  {
   "cell_type": "code",
   "execution_count": 101,
   "id": "3c629438",
   "metadata": {},
   "outputs": [
    {
     "data": {
      "image/png": "[encoded data removed]",
      "text/plain": [
       "<Figure size 432x288 with 1 Axes>"
      ]
     },
     "metadata": {
      "needs_background": "light"
     },
     "output_type": "display_data"
    }
   ],
   "source": [
    "plt.plot(scores['eta=0.01'].num_iter, scores['eta=0.01'].val_auc,\n",
    "        label='0.01')\n",
    "plt.plot(scores['eta=0.1'].num_iter, scores['eta=0.1'].val_auc,\n",
    "        label='0.1')\n",
    "plt.plot(scores['eta=0.3'].num_iter, scores['eta=0.3'].val_auc,\n",
    "        label='0.3')\n",
    "plt.legend()\n",
    "plt.ylim([0.4,0.5]);"
   ]
  },
  {
   "cell_type": "markdown",
   "id": "859e3ac9",
   "metadata": {},
   "source": [
    "**Answer:** ```eta = 0.1``` gives the lowest rmse."
   ]
  },
  {
   "cell_type": "code",
   "execution_count": null,
   "id": "940c3102",
   "metadata": {},
   "outputs": [],
   "source": []
  }
 ],
 "metadata": {
  "kernelspec": {
   "display_name": "ml-zoomcamp",
   "language": "python",
   "name": "ml-zoomcamp"
  },
  "language_info": {
   "codemirror_mode": {
    "name": "ipython",
    "version": 3
   },
   "file_extension": ".py",
   "mimetype": "text/x-python",
   "name": "python",
   "nbconvert_exporter": "python",
   "pygments_lexer": "ipython3",
   "version": "3.9.7"
  }
 },
 "nbformat": 4,
 "nbformat_minor": 5
}
